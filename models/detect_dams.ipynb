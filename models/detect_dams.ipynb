{
 "cells": [
  {
   "cell_type": "code",
   "execution_count": 14,
   "metadata": {},
   "outputs": [],
   "source": [
    "import xgboost as xgb\n",
    "import math\n",
    "import numpy as np\n",
    "import pandas as pd\n",
    "from sklearn import datasets\n",
    "from sklearn.model_selection import train_test_split\n",
    "from sklearn.metrics import accuracy_score\n",
    "from sklearn.metrics import recall_score\n",
    "from sklearn.metrics import precision_score\n",
    "from sklearn.metrics import f1_score\n",
    "from sklearn.metrics import mean_squared_error\n",
    "\n",
    "import datetime as dt"
   ]
  },
  {
   "cell_type": "code",
   "execution_count": 7,
   "metadata": {},
   "outputs": [],
   "source": [
    "morning_dams = pd.read_csv('../datas/questionaire_data/ques_morning_dams.csv')\n",
    "\n",
    "sleep = pd.read_csv('../datas/fitbit_preprocessed_data/sleep.csv')\n",
    "calories = pd.read_csv('../datas/fitbit_preprocessed_data/calories.csv')\n",
    "floors = pd.read_csv('../datas/fitbit_preprocessed_data/floors.csv')\n",
    "heart = pd.read_csv('../datas/fitbit_preprocessed_data/heart.csv')\n",
    "steps = pd.read_csv('../datas/fitbit_preprocessed_data/steps.csv')\n",
    "minutesFairlyActive = pd.read_csv('../datas/fitbit_preprocessed_data/minutesFairlyActive.csv')\n",
    "minutesLightlyActive = pd.read_csv('../datas/fitbit_preprocessed_data/minutesLightlyActive.csv')\n",
    "minutesSedentary = pd.read_csv('../datas/fitbit_preprocessed_data/minutesSedentary.csv')\n",
    "minutesVeryActive = pd.read_csv('../datas/fitbit_preprocessed_data/minutesVeryActive.csv')\n",
    "\n",
    "weather = pd.read_csv('../datas/weather_data/weather_all.csv')"
   ]
  },
  {
   "cell_type": "code",
   "execution_count": 52,
   "metadata": {},
   "outputs": [
    {
     "name": "stderr",
     "output_type": "stream",
     "text": [
      "<ipython-input-52-dcc3ced2a5cf>:21: SettingWithCopyWarning: \n",
      "A value is trying to be set on a copy of a slice from a DataFrame.\n",
      "Try using .loc[row_indexer,col_indexer] = value instead\n",
      "\n",
      "See the caveats in the documentation: https://pandas.pydata.org/pandas-docs/stable/user_guide/indexing.html#returning-a-view-versus-a-copy\n",
      "  minutesFairlyActive['Date'] = pd.to_datetime(minutesFairlyActive['datetime']).dt.date\n",
      "<ipython-input-52-dcc3ced2a5cf>:25: SettingWithCopyWarning: \n",
      "A value is trying to be set on a copy of a slice from a DataFrame.\n",
      "Try using .loc[row_indexer,col_indexer] = value instead\n",
      "\n",
      "See the caveats in the documentation: https://pandas.pydata.org/pandas-docs/stable/user_guide/indexing.html#returning-a-view-versus-a-copy\n",
      "  minutesLightlyActive['Date'] = pd.to_datetime(minutesLightlyActive['datetime']).dt.date\n",
      "<ipython-input-52-dcc3ced2a5cf>:29: SettingWithCopyWarning: \n",
      "A value is trying to be set on a copy of a slice from a DataFrame.\n",
      "Try using .loc[row_indexer,col_indexer] = value instead\n",
      "\n",
      "See the caveats in the documentation: https://pandas.pydata.org/pandas-docs/stable/user_guide/indexing.html#returning-a-view-versus-a-copy\n",
      "  minutesSedentary['Date'] = pd.to_datetime(minutesSedentary['datetime']).dt.date\n",
      "<ipython-input-52-dcc3ced2a5cf>:33: SettingWithCopyWarning: \n",
      "A value is trying to be set on a copy of a slice from a DataFrame.\n",
      "Try using .loc[row_indexer,col_indexer] = value instead\n",
      "\n",
      "See the caveats in the documentation: https://pandas.pydata.org/pandas-docs/stable/user_guide/indexing.html#returning-a-view-versus-a-copy\n",
      "  minutesVeryActive['Date'] = pd.to_datetime(minutesVeryActive['datetime']).dt.date\n"
     ]
    }
   ],
   "source": [
    "calories['Date'] = pd.to_datetime(calories['datetime']).dt.date\n",
    "calories = calories[['Date','datetime','time','user_id','level','mets','calory']]\n",
    "calories_day = calories.groupby(['user_id','Date'], as_index=False).mean()\n",
    "\n",
    "floors['Date'] = pd.to_datetime(floors['datetime']).dt.date\n",
    "floors = floors[['Date','datetime', 'time', 'user_id', 'floor']]\n",
    "floors_day = floors.groupby(['user_id','Date'], as_index=False).mean()\n",
    "\n",
    "steps['Date'] = pd.to_datetime(steps['datetime']).dt.date\n",
    "steps = steps[['Date','datetime', 'time', 'user_id', 'step']]\n",
    "steps_day = steps.groupby(['user_id','Date'], as_index=False).mean()\n",
    "\n",
    "heart['Date'] = pd.to_datetime(heart['datetime']).dt.date\n",
    "heart = heart[['Date','datetime', 'time', 'user_id', 'heart']]\n",
    "heart_day = heart.groupby(['user_id','Date'], as_index=False).mean()\n",
    "\n",
    "sleep['Date'] = pd.to_datetime(sleep['datetime']).dt.date\n",
    "sleep = sleep[['Date','datetime', 'dateTime', 'user_id', 'sleep']]\n",
    "sleep_day = sleep.groupby(['user_id','Date'], as_index=False).mean()\n",
    "\n",
    "minutesFairlyActive['Date'] = pd.to_datetime(minutesFairlyActive['datetime']).dt.date\n",
    "minutesFairlyActive = minutesFairlyActive[['Date','datetime', 'time', 'user_id', 'minutesFairlyActive']]\n",
    "minutesFairlyActive_day = minutesFairlyActive.groupby(['user_id','Date'], as_index=False).mean()\n",
    "\n",
    "minutesLightlyActive['Date'] = pd.to_datetime(minutesLightlyActive['datetime']).dt.date\n",
    "minutesLightlyActive = minutesLightlyActive[['Date','datetime', 'time', 'user_id', 'minutesLightlyActive']]\n",
    "minutesLightlyActive_day = minutesLightlyActive.groupby(['user_id','Date'], as_index=False).mean()\n",
    "\n",
    "minutesSedentary['Date'] = pd.to_datetime(minutesSedentary['datetime']).dt.date\n",
    "minutesSedentary = minutesSedentary[['Date','datetime', 'time', 'user_id', 'minutesSedentary']]\n",
    "minutesSedentary_day = minutesSedentary.groupby(['user_id','Date'], as_index=False).mean()\n",
    "\n",
    "minutesVeryActive['Date'] = pd.to_datetime(minutesVeryActive['datetime']).dt.date\n",
    "minutesVeryActive = minutesVeryActive[['Date','datetime', 'time', 'user_id', 'minutesVeryActive']]\n",
    "minutesVeryActive_day = minutesVeryActive.groupby(['user_id','Date'], as_index=False).mean()"
   ]
  },
  {
   "cell_type": "code",
   "execution_count": 53,
   "metadata": {},
   "outputs": [],
   "source": [
    "fitbit_merge = pd.merge(calories_day, floors_day, on=['user_id','Date'])\n",
    "fitbit_merge = pd.merge(fitbit_merge, heart_day,on=['user_id','Date'])\n",
    "fitbit_merge = pd.merge(fitbit_merge, sleep_day,on=['user_id','Date'])\n",
    "fitbit_merge = pd.merge(fitbit_merge, steps_day,on=['user_id','Date'])\n",
    "fitbit_merge = pd.merge(fitbit_merge, minutesFairlyActive_day,on=['user_id','Date'])\n",
    "fitbit_merge = pd.merge(fitbit_merge, minutesLightlyActive_day,on=['user_id','Date'])\n",
    "fitbit_merge = pd.merge(fitbit_merge, minutesSedentary_day,on=['user_id','Date'])\n",
    "fitbit_merge = pd.merge(fitbit_merge, minutesVeryActive_day,on=['user_id','Date'])\n",
    "# fitbit_merge.to_csv('../datas/fitbit_merge_day.csv')"
   ]
  },
  {
   "cell_type": "code",
   "execution_count": 73,
   "metadata": {},
   "outputs": [],
   "source": [
    "# morning_dams = morning_dams.drop('Unnamed: 0',axis=1)\n",
    "# morning_dams = morning_dams.drop('Unnamed: 0.1',axis=1)\n",
    "weather = weather.drop('Unnamed: 0',axis=1).drop('Unnamed: 0.1',axis=1)"
   ]
  },
  {
   "cell_type": "code",
   "execution_count": 42,
   "metadata": {},
   "outputs": [],
   "source": []
  },
  {
   "cell_type": "code",
   "execution_count": 3,
   "metadata": {},
   "outputs": [
    {
     "ename": "NameError",
     "evalue": "name 'df' is not defined",
     "output_type": "error",
     "traceback": [
      "\u001b[0;31m---------------------------------------------------------\u001b[0m",
      "\u001b[0;31mNameError\u001b[0m               Traceback (most recent call last)",
      "\u001b[0;32m<ipython-input-3-604720b7caf8>\u001b[0m in \u001b[0;36m<module>\u001b[0;34m\u001b[0m\n\u001b[1;32m     45\u001b[0m     \u001b[0mplt\u001b[0m\u001b[0;34m.\u001b[0m\u001b[0mylabel\u001b[0m\u001b[0;34m(\u001b[0m\u001b[0;34m'true value'\u001b[0m\u001b[0;34m)\u001b[0m\u001b[0;34m\u001b[0m\u001b[0;34m\u001b[0m\u001b[0m\n\u001b[1;32m     46\u001b[0m \u001b[0;32mif\u001b[0m \u001b[0m__name__\u001b[0m \u001b[0;34m==\u001b[0m \u001b[0;34m'__main__'\u001b[0m\u001b[0;34m:\u001b[0m\u001b[0;34m\u001b[0m\u001b[0;34m\u001b[0m\u001b[0m\n\u001b[0;32m---> 47\u001b[0;31m     \u001b[0mmain\u001b[0m\u001b[0;34m(\u001b[0m\u001b[0;34m)\u001b[0m\u001b[0;34m\u001b[0m\u001b[0;34m\u001b[0m\u001b[0m\n\u001b[0m",
      "\u001b[0;32m<ipython-input-3-604720b7caf8>\u001b[0m in \u001b[0;36mmain\u001b[0;34m()\u001b[0m\n\u001b[1;32m      1\u001b[0m \u001b[0;32mdef\u001b[0m \u001b[0mmain\u001b[0m\u001b[0;34m(\u001b[0m\u001b[0;34m)\u001b[0m\u001b[0;34m:\u001b[0m\u001b[0;34m\u001b[0m\u001b[0;34m\u001b[0m\u001b[0m\n\u001b[1;32m      2\u001b[0m     \u001b[0;31m# データセットを読み込む\u001b[0m\u001b[0;34m\u001b[0m\u001b[0;34m\u001b[0m\u001b[0;34m\u001b[0m\u001b[0m\n\u001b[0;32m----> 3\u001b[0;31m     \u001b[0mX\u001b[0m \u001b[0;34m=\u001b[0m \u001b[0mdf\u001b[0m\u001b[0;34m[\u001b[0m\u001b[0;34m[\u001b[0m\u001b[0;34m''\u001b[0m\u001b[0;34m]\u001b[0m\u001b[0;34m]\u001b[0m   \u001b[0;31m# 説明変数\u001b[0m\u001b[0;34m\u001b[0m\u001b[0;34m\u001b[0m\u001b[0m\n\u001b[0m\u001b[1;32m      4\u001b[0m     \u001b[0my\u001b[0m \u001b[0;34m=\u001b[0m \u001b[0mdf\u001b[0m\u001b[0;34m[\u001b[0m\u001b[0;34m''\u001b[0m\u001b[0;34m]\u001b[0m     \u001b[0;31m# 目的変数\u001b[0m\u001b[0;34m\u001b[0m\u001b[0;34m\u001b[0m\u001b[0m\n\u001b[1;32m      5\u001b[0m     \u001b[0;31m# データセットを学習用と検証用に分割する\u001b[0m\u001b[0;34m\u001b[0m\u001b[0;34m\u001b[0m\u001b[0;34m\u001b[0m\u001b[0m\n",
      "\u001b[0;31mNameError\u001b[0m: name 'df' is not defined"
     ]
    }
   ],
   "source": [
    "def main():\n",
    "    # データセットを読み込む\n",
    "    X = df[['']]   # 説明変数\n",
    "    y = df['']     # 目的変数\n",
    "    # データセットを学習用と検証用に分割する\n",
    "    X_train, X_test, y_train, y_test = train_test_split(X, y,\n",
    "                                                        test_size=0.3,\n",
    "                                                        shuffle=True,\n",
    "                                                        random_state=42,\n",
    "                                                        stratify=y)\n",
    "    # XGBoost が扱うデータセットの形式に直す\n",
    "    dtrain = xgb.DMatrix(X_train, label=y_train)\n",
    "    dtest = xgb.DMatrix(X_test, label=y_test)\n",
    "    # 学習用のパラメータ\n",
    "    xgb_params = {\n",
    "        # 分類の種類\n",
    "        'objective': 'multi:softmax',\n",
    "        # 評価指標\n",
    "        'eval_metric': 'logloss',\n",
    "    }\n",
    "    # モデルを学習する\n",
    "#     evals = [(dtrain, 'train'), (dtest, 'eval')]\n",
    "#     evals_result = {}\n",
    "    bst = xgb.train(xgb_params,\n",
    "                    dtrain,\n",
    "                    num_boost_round=100,  # 学習ラウンド数は適当\n",
    "                    )\n",
    "    # 検証用データが各クラスに分類される確率を計算する\n",
    "    y_pred_proba = bst.predict(dtest)\n",
    "    # しきい値 0.5 で 0, 1 に丸める\n",
    "    y_pred = np.where(y_pred_proba > 0.5, 1, 0)\n",
    "    # 精度 (Accuracy) を検証する\n",
    "    acc = accuracy_score(y_test, y_pred)\n",
    "    print('Accuracy:', acc)\n",
    "    recall = recall_score(y_test, y_pred)\n",
    "    print('recall:', recall)\n",
    "    prec = precision_score(y_test, y_pred)\n",
    "    print('precision',prec)\n",
    "    f1 = f1_score(y_test, y_pred)\n",
    "    print('f1-score',f1)\n",
    "    #confusion matrix\n",
    "    mat = confusion_matrix(y_test,y_pred)\n",
    "    sns.heatmap(mat,square=True,annot=True,cbar=False,fmt='d',cmap='RdPu')\n",
    "    plt.xlabel('predicted class')\n",
    "    plt.ylabel('true value')\n",
    "if __name__ == '__main__':\n",
    "    main()"
   ]
  },
  {
   "cell_type": "code",
   "execution_count": null,
   "metadata": {},
   "outputs": [],
   "source": []
  }
 ],
 "metadata": {
  "kernelspec": {
   "display_name": "Python 3",
   "language": "python",
   "name": "python3"
  },
  "language_info": {
   "codemirror_mode": {
    "name": "ipython",
    "version": 3
   },
   "file_extension": ".py",
   "mimetype": "text/x-python",
   "name": "python",
   "nbconvert_exporter": "python",
   "pygments_lexer": "ipython3",
   "version": "3.8.7"
  }
 },
 "nbformat": 4,
 "nbformat_minor": 4
}
