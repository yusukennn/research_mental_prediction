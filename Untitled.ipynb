{
 "cells": [
  {
   "cell_type": "code",
   "execution_count": 1,
   "metadata": {},
   "outputs": [],
   "source": [
    "import pandas as pd\n",
    "import datetime as dt\n",
    "datas/questionaire_data/ques_night_weekday/ques_night_w_dams.csv"
   ]
  },
  {
   "cell_type": "code",
   "execution_count": 8,
   "metadata": {},
   "outputs": [],
   "source": [
    "ques_night_w_dams = pd.read_csv('./datas/questionaire_data/ques_night_weekday/ques_night_w_dams.csv')\n",
    "ques_night_w_bodyfatigue = pd.read_csv('./datas/questionaire_data/ques_night_weekday/ques_night_w_bodyfatigue.csv')\n",
    "ques_night_w_eval = pd.read_csv('./datas/questionaire_data/ques_night_weekday/ques_night_w_eval.csv')\n",
    "ques_night_w_productivity = pd.read_csv('./datas/questionaire_data/ques_night_weekday/ques_night_w_productivity.csv')\n",
    "ques_night_w_recover = pd.read_csv('./datas/questionaire_data/ques_night_weekday/ques_night_w_recover.csv')\n",
    "ques_night_w_review = pd.read_csv('./datas/questionaire_data/ques_night_weekday/ques_night_w_review.csv')\n",
    "ques_night_w_workenga = pd.read_csv('./datas/questionaire_data/ques_night_weekday/ques_night_w_workenga.csv')"
   ]
  },
  {
   "cell_type": "markdown",
   "metadata": {},
   "source": [
    "# dams"
   ]
  },
  {
   "cell_type": "code",
   "execution_count": 12,
   "metadata": {},
   "outputs": [],
   "source": [
    "ques_night_w_dams.index = pd.DatetimeIndex(ques_night_w_dams.datetime, name='datetime').tz_convert('Asia/Tokyo')\n",
    "ques_night_w_dams['datetime_jp'] = ques_night_w_dams.index\n",
    "ques_night_w_dams['Date_jp'] = pd.to_datetime(ques_night_w_dams['datetime_jp']).dt.date\n",
    "ques_night_w_dams=ques_night_w_dams[(ques_night_w_dams['Date_jp']>=dt.date(2021,1,12))]\n",
    "ques_night_w_dams['hour'] = pd.to_datetime(ques_night_w_dams['datetime_jp']).dt.hour\n",
    "\n",
    "ques_night_w_dams['name'].unique()\n",
    "ques_night_w_dams = ques_night_w_dams.reset_index(drop=True)\n",
    "ques_night_w_dams.loc[ques_night_w_dams['name']=='はつらつとした', 'haturatu'] =ques_night_w_dams['value_dams']\n",
    "ques_night_w_dams.loc[ques_night_w_dams['name']=='暗い', 'kurai'] =ques_night_w_dams['value_dams']\n",
    "ques_night_w_dams.loc[ques_night_w_dams['name']=='気がかりな', 'kigakarina'] =ques_night_w_dams['value_dams']\n",
    "ques_night_w_dams.loc[ques_night_w_dams['name']=='嬉しい', 'uresii'] =ques_night_w_dams['value_dams']\n",
    "ques_night_w_dams.loc[ques_night_w_dams['name']=='嫌な', 'iyana'] =ques_night_w_dams['value_dams']\n",
    "ques_night_w_dams.loc[ques_night_w_dams['name']=='不安な', 'fuanna'] =ques_night_w_dams['value_dams']\n",
    "ques_night_w_dams.loc[ques_night_w_dams['name']=='楽しい', 'tanosii'] =ques_night_w_dams['value_dams']\n",
    "ques_night_w_dams.loc[ques_night_w_dams['name']=='沈んだ', 'sizunda'] =ques_night_w_dams['value_dams']\n",
    "ques_night_w_dams.loc[ques_night_w_dams['name']=='心配な', 'sinpaina'] =ques_night_w_dams['value_dams']\n",
    "\n",
    "ques_night_w_dams_sum = ques_night_w_dams.groupby(['datetime_jp','user_id']).sum()\n",
    "\n",
    "ques_night_w_dams_sum = ques_night_w_dams_sum[['value_dams', 'hour', 'haturatu',\n",
    "       'kurai', 'kigakarina', 'uresii', 'iyana', 'fuanna', 'tanosii',\n",
    "       'sizunda', 'sinpaina']]\n",
    "ques_night_w_dams_sum = ques_night_w_dams_sum.reset_index()\n",
    "\n",
    "ques_night_w_dams_sum['positive_score'] = (ques_night_w_dams_sum['haturatu']+ques_night_w_dams_sum['uresii']+ques_night_w_dams_sum['tanosii'])/3\n",
    "ques_night_w_dams_sum['anxious_score'] = (ques_night_w_dams_sum['kigakarina']+ques_night_w_dams_sum['fuanna']+ques_night_w_dams_sum['sinpaina'])/3\n",
    "ques_night_w_dams_sum['depressive_score'] =  (ques_night_w_dams_sum['kurai']+ques_night_w_dams_sum['iyana']+ques_night_w_dams_sum['sizunda'])/3\n",
    "\n",
    "ques_night_w_dams_sum['datetime_jp_before3'] = pd.to_datetime(ques_night_w_dams_sum['datetime_jp'])-dt.timedelta(hours=3)\n",
    "ques_night_w_dams_sum['datetime_jp_before6'] = pd.to_datetime(ques_night_w_dams_sum['datetime_jp'])-dt.timedelta(hours=6)\n",
    "ques_night_w_dams_sum['datetime_jp_before9'] = pd.to_datetime(ques_night_w_dams_sum['datetime_jp'])-dt.timedelta(hours=9)"
   ]
  },
  {
   "cell_type": "code",
   "execution_count": 20,
   "metadata": {},
   "outputs": [
    {
     "data": {
      "text/plain": [
       "0            2021-01-12 16:00:10+09:00\n",
       "1            2021-01-12 18:05:22+09:00\n",
       "2     2021-01-12 18:06:10.293000+09:00\n",
       "3     2021-01-12 18:06:59.528000+09:00\n",
       "4            2021-01-12 18:30:06+09:00\n",
       "                    ...               \n",
       "981   2021-01-30 02:11:39.274000+09:00\n",
       "982          2021-01-30 02:31:00+09:00\n",
       "983   2021-01-30 07:18:22.589000+09:00\n",
       "984          2021-01-31 03:53:00+09:00\n",
       "985          2021-01-31 04:15:00+09:00\n",
       "Name: datetime_jp, Length: 986, dtype: datetime64[ns, Asia/Tokyo]"
      ]
     },
     "execution_count": 20,
     "metadata": {},
     "output_type": "execute_result"
    }
   ],
   "source": [
    "ques_night_w_dams_sum['datetime_jp']"
   ]
  },
  {
   "cell_type": "markdown",
   "metadata": {},
   "source": [
    "# 自覚症調べ"
   ]
  },
  {
   "cell_type": "code",
   "execution_count": 21,
   "metadata": {},
   "outputs": [
    {
     "data": {
      "text/plain": [
       "<AxesSubplot:>"
      ]
     },
     "execution_count": 21,
     "metadata": {},
     "output_type": "execute_result"
    },
    {
     "data": {
      "image/png": "[encoded data removed]",
      "text/plain": [
       "<Figure size 432x288 with 1 Axes>"
      ]
     },
     "metadata": {
      "needs_background": "light"
     },
     "output_type": "display_data"
    }
   ],
   "source": [
    "ques_night_w_bodyfatigue.index = pd.DatetimeIndex(ques_night_w_bodyfatigue.datetime, name='datetime').tz_convert('Asia/Tokyo')\n",
    "ques_night_w_bodyfatigue['datetime_jp'] = ques_night_w_bodyfatigue.index\n",
    "ques_night_w_bodyfatigue['Date_jp'] = pd.to_datetime(ques_night_w_bodyfatigue['datetime_jp']).dt.date\n",
    "ques_night_w_bodyfatigue=ques_night_w_bodyfatigue[(ques_night_w_bodyfatigue['Date_jp']>=dt.date(2021,1,12))]\n",
    "ques_night_w_bodyfatigue['hour'] = pd.to_datetime(ques_night_w_bodyfatigue['datetime_jp']).dt.hour\n",
    "\n",
    "ques_night_w_bodyfatigue['hour'].hist(bins=24)"
   ]
  },
  {
   "cell_type": "code",
   "execution_count": 22,
   "metadata": {},
   "outputs": [],
   "source": [
    "ques_night_w_bodyfatigue['name'].unique()\n",
    "ques_night_w_bodyfatigue = ques_night_w_bodyfatigue.reset_index(drop=True)\n",
    "ques_night_w_bodyfatigue.loc[ques_night_w_bodyfatigue['name']=='頭がおもい', 'atama_omoi'] =ques_night_w_bodyfatigue['value_bodyfatigue']\n",
    "ques_night_w_bodyfatigue.loc[ques_night_w_bodyfatigue['name']=='気分がわるい', 'kibun_warui'] =ques_night_w_bodyfatigue['value_bodyfatigue']\n",
    "ques_night_w_bodyfatigue.loc[ques_night_w_bodyfatigue['name']=='頭がいたい', 'atama_itai'] =ques_night_w_bodyfatigue['value_bodyfatigue']\n",
    "ques_night_w_bodyfatigue.loc[ques_night_w_bodyfatigue['name']=='肩がこる', 'kata_koru'] =ques_night_w_bodyfatigue['value_bodyfatigue']\n",
    "ques_night_w_bodyfatigue.loc[ques_night_w_bodyfatigue['name']=='あくびがでる', 'akubi_deru'] =ques_night_w_bodyfatigue['value_bodyfatigue']\n",
    "ques_night_w_bodyfatigue.loc[ques_night_w_bodyfatigue['name']=='手や指がいたい', 'teyayubi_itai'] =ques_night_w_bodyfatigue['value_bodyfatigue']\n",
    "ques_night_w_bodyfatigue.loc[ques_night_w_bodyfatigue['name']=='めまいがする', 'memai_suru'] =ques_night_w_bodyfatigue['value_bodyfatigue']\n",
    "ques_night_w_bodyfatigue.loc[ques_night_w_bodyfatigue['name']=='ねむい', 'nemui'] =ques_night_w_bodyfatigue['value_bodyfatigue']\n",
    "ques_night_w_bodyfatigue.loc[ques_night_w_bodyfatigue['name']=='やる気がとぼしい', 'yaruki_tobosii'] =ques_night_w_bodyfatigue['value_bodyfatigue']\n",
    "ques_night_w_bodyfatigue.loc[ques_night_w_bodyfatigue['name']=='腕がだるい', 'ude_darui'] =ques_night_w_bodyfatigue['value_bodyfatigue']\n",
    "ques_night_w_bodyfatigue.loc[ques_night_w_bodyfatigue['name']=='横になりたい', 'yoko_naritai'] =ques_night_w_bodyfatigue['value_bodyfatigue']\n",
    "ques_night_w_bodyfatigue.loc[ques_night_w_bodyfatigue['name']=='腰がいたい', 'kosi_itai'] =ques_night_w_bodyfatigue['value_bodyfatigue']\n",
    "ques_night_w_bodyfatigue.loc[ques_night_w_bodyfatigue['name']=='足がだるい', 'asi_darui'] =ques_night_w_bodyfatigue['value_bodyfatigue']\n",
    "ques_night_w_bodyfatigue.loc[ques_night_w_bodyfatigue['name']=='頭がぼんやりする', 'atama_bonyari'] =ques_night_w_bodyfatigue['value_bodyfatigue']\n",
    "ques_night_w_bodyfatigue.loc[ques_night_w_bodyfatigue['name']=='全身がだるい', 'zensin_darui'] =ques_night_w_bodyfatigue['value_bodyfatigue']\n",
    "\n",
    "ques_night_w_bodyfatigue_sum = ques_night_w_bodyfatigue.groupby(['datetime','user_id']).sum()\n",
    "ques_night_w_bodyfatigue_sum = ques_night_w_bodyfatigue_sum[['record_type_id', 'hour',\n",
    "       'atama_omoi', 'kibun_warui', 'atama_itai', 'kata_koru', 'akubi_deru',\n",
    "       'teyayubi_itai', 'memai_suru', 'nemui', 'yaruki_tobosii', 'ude_darui',\n",
    "       'yoko_naritai', 'kosi_itai', 'asi_darui', 'atama_bonyari',\n",
    "       'zensin_darui']]\n",
    "ques_night_w_bodyfatigue_sum = ques_night_w_bodyfatigue_sum.reset_index()\n",
    "\n",
    "ques_night_w_bodyfatigue_sum['value_nemuke'] = (ques_night_w_bodyfatigue_sum['nemui']+ques_night_w_bodyfatigue_sum['yoko_naritai']+ques_night_w_bodyfatigue_sum['akubi_deru']+ques_night_w_bodyfatigue_sum['yaruki_tobosii']+ques_night_w_bodyfatigue_sum['zensin_darui'])/5\n",
    "ques_night_w_bodyfatigue_sum['value_hukai'] = (ques_night_w_bodyfatigue_sum['atama_itai']+ques_night_w_bodyfatigue_sum['atama_omoi']+ques_night_w_bodyfatigue_sum['kibun_warui']+ques_night_w_bodyfatigue_sum['atama_bonyari']+ques_night_w_bodyfatigue_sum['memai_suru'])/5\n",
    "ques_night_w_bodyfatigue_sum['value_boyake'] =  (ques_night_w_bodyfatigue_sum['ude_darui']+ques_night_w_bodyfatigue_sum['kosi_itai']+ques_night_w_bodyfatigue_sum['teyayubi_itai']+ques_night_w_bodyfatigue_sum['asi_darui']+ques_night_w_bodyfatigue_sum['kata_koru'])/5\n",
    "\n",
    "ques_night_w_bodyfatigue_sum['datetime_jp_before3'] = pd.to_datetime(ques_night_w_bodyfatigue_sum['datetime'])-dt.timedelta(hours=3)\n",
    "ques_night_w_bodyfatigue_sum['datetime_jp_before6'] = pd.to_datetime(ques_night_w_bodyfatigue_sum['datetime'])-dt.timedelta(hours=6)\n",
    "ques_night_w_bodyfatigue_sum['datetime_jp_before9'] = pd.to_datetime(ques_night_w_bodyfatigue_sum['datetime'])-dt.timedelta(hours=9)\n",
    "\n",
    "ques_night_w_bodyfatigue_sum = ques_night_w_bodyfatigue_sum[['datetime', 'user_id', 'datetime_jp_before3',\n",
    "       'datetime_jp_before6', 'datetime_jp_before9','record_type_id', 'hour', 'atama_omoi',\n",
    "       'kibun_warui', 'atama_itai', 'kata_koru', 'akubi_deru', 'teyayubi_itai',\n",
    "       'memai_suru', 'nemui', 'yaruki_tobosii', 'ude_darui', 'yoko_naritai',\n",
    "       'kosi_itai', 'asi_darui', 'atama_bonyari', 'zensin_darui',\n",
    "       'value_nemuke', 'value_hukai', 'value_boyake']]"
   ]
  },
  {
   "cell_type": "code",
   "execution_count": 24,
   "metadata": {},
   "outputs": [],
   "source": [
    "# ques_night_w_bodyfatigue_sum.to_csv('./datas/preprocessed_questionaire/ques_night_w_bodyfatigue.csv')"
   ]
  },
  {
   "cell_type": "code",
   "execution_count": null,
   "metadata": {},
   "outputs": [],
   "source": []
  }
 ],
 "metadata": {
  "kernelspec": {
   "display_name": "Python 3",
   "language": "python",
   "name": "python3"
  },
  "language_info": {
   "codemirror_mode": {
    "name": "ipython",
    "version": 3
   },
   "file_extension": ".py",
   "mimetype": "text/x-python",
   "name": "python",
   "nbconvert_exporter": "python",
   "pygments_lexer": "ipython3",
   "version": "3.8.7"
  }
 },
 "nbformat": 4,
 "nbformat_minor": 4
}
