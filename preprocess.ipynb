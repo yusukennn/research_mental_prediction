{
 "cells": [
  {
   "cell_type": "code",
   "execution_count": 1,
   "metadata": {},
   "outputs": [],
   "source": [
    "import pandas as pd"
   ]
  },
  {
   "cell_type": "code",
   "execution_count": 51,
   "metadata": {},
   "outputs": [
    {
     "name": "stderr",
     "output_type": "stream",
     "text": [
      "/usr/local/lib/python3.8/site-packages/IPython/core/interactiveshell.py:3145: DtypeWarning: Columns (8) have mixed types.Specify dtype option on import or set low_memory=False.\n",
      "  has_raised = await self.run_ast_nodes(code_ast.body, cell_name,\n"
     ]
    }
   ],
   "source": [
    "# activities = pd.read_csv('work/datas/activities.csv')\n",
    "# activity_targets = pd.read_csv('work/datas/activity_targets.csv')\n",
    "# activitiy_types = pd.read_csv('work/datas/activity_types.csv')\n",
    "# records = pd.read_csv('work/datas/records.csv')\n",
    "calories_df = pd.read_csv('fitbit_all_data/calories.csv').rename(columns={'Unnamed: 0.1':'datetime','value':'calory'})\n",
    "floors_df = pd.read_csv('fitbit_all_data/floors.csv').rename(columns={'Unnamed: 0.1':'datetime','value':'floor'})\n",
    "heart_df = pd.read_csv('fitbit_all_data/heart.csv').rename(columns={'Unnamed: 0.1':'datetime','value':'heart'})\n",
    "minutesFairlyActive_df = pd.read_csv('fitbit_all_data/minutesFairlyActive.csv').rename(columns={'Unnamed: 0.1':'datetime','value':'minutesFairlyActive'})\n",
    "minutesLightlyActive_df = pd.read_csv('fitbit_all_data/minutesLightlyActive.csv').rename(columns={'Unnamed: 0.1':'datetime','value':'minutesLightlyActive'})\n",
    "minutesSedentary_df = pd.read_csv('fitbit_all_data/minutesSedentary.csv').rename(columns={'Unnamed: 0.1':'datetime','value':'minutesSedentary'})\n",
    "minutesVeryActive_df = pd.read_csv('fitbit_all_data/minutesVeryActive.csv').rename(columns={'Unnamed: 0.1':'datetime','value':'minutesVeryActive'})\n",
    "sleep_df = pd.read_csv('fitbit_all_data/sleep.csv').rename(columns={'Unnamed: 0.1':'datetime','value':'sleep'})\n",
    "steps_df = pd.read_csv('fitbit_all_data/steps.csv').rename(columns={'Unnamed: 0.1':'datetime','value':'step'})\n",
    "\n",
    "ques_all_df = pd.read_csv('./canact_all.csv')\n",
    "inquiry_df = pd.read_csv('./inquiry20210130.csv')"
   ]
  },
  {
   "cell_type": "code",
   "execution_count": 72,
   "metadata": {},
   "outputs": [],
   "source": [
    "calories_df = calories_df[['datetime', 'time','user_id', 'level', 'mets', 'calory']]\n",
    "floors_df = floors_df[['datetime', 'time', 'user_id', 'floor']]\n",
    "heart_df = heart_df[['datetime', 'time', 'user_id', 'heart']]\n",
    "sleep_df = sleep_df[['datetime','dateTime','user_id','sleep']]\n",
    "steps_df = steps_df[['datetime', 'time', 'user_id', 'step']]\n",
    "minutesLightlyActive_df = minutesLightlyActive_df[['datetime','time','user_id','minutesLightlyActive']]\n",
    "minutesFairlyActive_df = minutesFairlyActive_df[['datetime','time','user_id','minutesFairlyActive']]\n",
    "minutesSedentary_df = minutesSedentary_df[['datetime','time','user_id','minutesSedentary']]\n",
    "minutesVeryActive_df = minutesVeryActive_df[['datetime','time','user_id','minutesVeryActive']]"
   ]
  },
  {
   "cell_type": "code",
   "execution_count": 129,
   "metadata": {},
   "outputs": [],
   "source": [
    "deleted_count = len(ques_all_df['deleted_at'].unique())\n",
    "ques_all_df = ques_all_df[ques_all_df['deleted_at'].isnull()]\n"
   ]
  },
  {
   "cell_type": "code",
   "execution_count": 130,
   "metadata": {},
   "outputs": [
    {
     "data": {
      "text/plain": [
       "array([ 24.,  25.,  26.,  27.,  28.,  29.,  30.,  31.,  32.,  33.,  34.,\n",
       "        35.,  36.,  37.,  38.,  39.,  40.,  41.,  42.,  43.,  44.,  45.,\n",
       "        46.,  47.,  48.,  49.,  nan, 149., 150., 151., 152.])"
      ]
     },
     "execution_count": 130,
     "metadata": {},
     "output_type": "execute_result"
    }
   ],
   "source": [
    "ques_all_df[ques_all_df['activity'] == '朝のアンケート']['record_type_id'].unique()"
   ]
  },
  {
   "cell_type": "code",
   "execution_count": 170,
   "metadata": {},
   "outputs": [],
   "source": [
    "ques_morning = ques_all_df[ques_all_df['activity'] == '朝のアンケート'].rename(columns={'finished_at':'datetime'})\n",
    "ques_morning = ques_morning[['datetime','user_id','activity','record_type_id','name','value']]\n",
    "ques_morning_dams = ques_morning[(ques_morning['record_type_id'] == 25)|\n",
    "                                (ques_morning['record_type_id'] == 26)|\n",
    "                                (ques_morning['record_type_id'] == 27)|\n",
    "                                (ques_morning['record_type_id'] == 28)|\n",
    "                                (ques_morning['record_type_id'] == 29)|\n",
    "                                (ques_morning['record_type_id'] == 30)|\n",
    "                                (ques_morning['record_type_id'] == 31)|\n",
    "                                (ques_morning['record_type_id'] == 32)|\n",
    "                                (ques_morning['record_type_id'] == 33)]"
   ]
  },
  {
   "cell_type": "code",
   "execution_count": 174,
   "metadata": {},
   "outputs": [
    {
     "name": "stderr",
     "output_type": "stream",
     "text": [
      "/usr/local/lib/python3.8/site-packages/pandas/core/indexing.py:1765: SettingWithCopyWarning: \n",
      "A value is trying to be set on a copy of a slice from a DataFrame.\n",
      "Try using .loc[row_indexer,col_indexer] = value instead\n",
      "\n",
      "See the caveats in the documentation: https://pandas.pydata.org/pandas-docs/stable/user_guide/indexing.html#returning-a-view-versus-a-copy\n",
      "  isetter(loc, value)\n"
     ]
    }
   ],
   "source": [
    "ques_morning_dams.loc[ques_morning_dams['value'] == '0: まったくあてはまらない', 'value_int'] = 0\n",
    "ques_morning_dams.loc[ques_morning_dams['value'] == '0: まったくあてはまらない1', 'value_int'] = 0\n",
    "ques_morning_dams.loc[ques_morning_dams['value'] == '1: かなりあてはまらない', 'value_int'] = 1\n",
    "ques_morning_dams.loc[ques_morning_dams['value'] == '2: ややあてはまらない', 'value_int'] = 2\n",
    "ques_morning_dams.loc[ques_morning_dams['value'] == '3: どちらともいえない', 'value_int'] = 3\n",
    "ques_morning_dams.loc[ques_morning_dams['value'] == '4: ややあてはまる', 'value_int'] = 4\n",
    "ques_morning_dams.loc[ques_morning_dams['value'] == '5: かなりあてはまる', 'value_int'] = 5\n",
    "ques_morning_dams.loc[ques_morning_dams['value'] == '6: 非常によくあてはまる', 'value_int'] = 6"
   ]
  },
  {
   "cell_type": "code",
   "execution_count": 184,
   "metadata": {},
   "outputs": [],
   "source": [
    "ques_morning_dams = ques_morning_dams.dropna(subset=['value_int'])\n",
    "ques_morning_dams['value_int'].unique()\n",
    "# ques_morning_dams.to_csv('./questionaire_data/ques_morning_dams.csv')"
   ]
  },
  {
   "cell_type": "code",
   "execution_count": 183,
   "metadata": {},
   "outputs": [
    {
     "data": {
      "text/html": [
       "<div>\n",
       "<style scoped>\n",
       "    .dataframe tbody tr th:only-of-type {\n",
       "        vertical-align: middle;\n",
       "    }\n",
       "\n",
       "    .dataframe tbody tr th {\n",
       "        vertical-align: top;\n",
       "    }\n",
       "\n",
       "    .dataframe thead th {\n",
       "        text-align: right;\n",
       "    }\n",
       "</style>\n",
       "<table border=\"1\" class=\"dataframe\">\n",
       "  <thead>\n",
       "    <tr style=\"text-align: right;\">\n",
       "      <th></th>\n",
       "      <th>datetime</th>\n",
       "      <th>user_id</th>\n",
       "      <th>activity</th>\n",
       "      <th>record_type_id</th>\n",
       "      <th>name</th>\n",
       "      <th>value</th>\n",
       "      <th>value_int</th>\n",
       "    </tr>\n",
       "  </thead>\n",
       "  <tbody>\n",
       "    <tr>\n",
       "      <th>1</th>\n",
       "      <td>2021-01-11 00:14:59.165000+00:00</td>\n",
       "      <td>29</td>\n",
       "      <td>朝のアンケート</td>\n",
       "      <td>25.0</td>\n",
       "      <td>はつらつとした</td>\n",
       "      <td>3: どちらともいえない</td>\n",
       "      <td>3.0</td>\n",
       "    </tr>\n",
       "    <tr>\n",
       "      <th>2</th>\n",
       "      <td>2021-01-11 00:14:59.165000+00:00</td>\n",
       "      <td>29</td>\n",
       "      <td>朝のアンケート</td>\n",
       "      <td>26.0</td>\n",
       "      <td>暗い</td>\n",
       "      <td>0: まったくあてはまらない</td>\n",
       "      <td>0.0</td>\n",
       "    </tr>\n",
       "    <tr>\n",
       "      <th>3</th>\n",
       "      <td>2021-01-11 00:14:59.165000+00:00</td>\n",
       "      <td>29</td>\n",
       "      <td>朝のアンケート</td>\n",
       "      <td>27.0</td>\n",
       "      <td>気がかりな</td>\n",
       "      <td>4: ややあてはまる</td>\n",
       "      <td>4.0</td>\n",
       "    </tr>\n",
       "    <tr>\n",
       "      <th>4</th>\n",
       "      <td>2021-01-11 00:14:59.165000+00:00</td>\n",
       "      <td>29</td>\n",
       "      <td>朝のアンケート</td>\n",
       "      <td>28.0</td>\n",
       "      <td>嬉しい</td>\n",
       "      <td>2: ややあてはまらない</td>\n",
       "      <td>2.0</td>\n",
       "    </tr>\n",
       "    <tr>\n",
       "      <th>5</th>\n",
       "      <td>2021-01-11 00:14:59.165000+00:00</td>\n",
       "      <td>29</td>\n",
       "      <td>朝のアンケート</td>\n",
       "      <td>29.0</td>\n",
       "      <td>嫌な</td>\n",
       "      <td>0: まったくあてはまらない</td>\n",
       "      <td>0.0</td>\n",
       "    </tr>\n",
       "    <tr>\n",
       "      <th>...</th>\n",
       "      <td>...</td>\n",
       "      <td>...</td>\n",
       "      <td>...</td>\n",
       "      <td>...</td>\n",
       "      <td>...</td>\n",
       "      <td>...</td>\n",
       "      <td>...</td>\n",
       "    </tr>\n",
       "    <tr>\n",
       "      <th>172148</th>\n",
       "      <td>2021-01-29 23:44:50.116000+00:00</td>\n",
       "      <td>41</td>\n",
       "      <td>朝のアンケート</td>\n",
       "      <td>29.0</td>\n",
       "      <td>嫌な</td>\n",
       "      <td>0: まったくあてはまらない</td>\n",
       "      <td>0.0</td>\n",
       "    </tr>\n",
       "    <tr>\n",
       "      <th>172149</th>\n",
       "      <td>2021-01-29 23:44:50.116000+00:00</td>\n",
       "      <td>41</td>\n",
       "      <td>朝のアンケート</td>\n",
       "      <td>30.0</td>\n",
       "      <td>不安な</td>\n",
       "      <td>0: まったくあてはまらない</td>\n",
       "      <td>0.0</td>\n",
       "    </tr>\n",
       "    <tr>\n",
       "      <th>172150</th>\n",
       "      <td>2021-01-29 23:44:50.116000+00:00</td>\n",
       "      <td>41</td>\n",
       "      <td>朝のアンケート</td>\n",
       "      <td>31.0</td>\n",
       "      <td>楽しい</td>\n",
       "      <td>3: どちらともいえない</td>\n",
       "      <td>3.0</td>\n",
       "    </tr>\n",
       "    <tr>\n",
       "      <th>172151</th>\n",
       "      <td>2021-01-29 23:44:50.116000+00:00</td>\n",
       "      <td>41</td>\n",
       "      <td>朝のアンケート</td>\n",
       "      <td>32.0</td>\n",
       "      <td>沈んだ</td>\n",
       "      <td>0: まったくあてはまらない</td>\n",
       "      <td>0.0</td>\n",
       "    </tr>\n",
       "    <tr>\n",
       "      <th>172152</th>\n",
       "      <td>2021-01-29 23:44:50.116000+00:00</td>\n",
       "      <td>41</td>\n",
       "      <td>朝のアンケート</td>\n",
       "      <td>33.0</td>\n",
       "      <td>心配な</td>\n",
       "      <td>0: まったくあてはまらない1</td>\n",
       "      <td>0.0</td>\n",
       "    </tr>\n",
       "  </tbody>\n",
       "</table>\n",
       "<p>12151 rows × 7 columns</p>\n",
       "</div>"
      ],
      "text/plain": [
       "                                datetime  user_id activity  record_type_id  \\\n",
       "1       2021-01-11 00:14:59.165000+00:00       29  朝のアンケート            25.0   \n",
       "2       2021-01-11 00:14:59.165000+00:00       29  朝のアンケート            26.0   \n",
       "3       2021-01-11 00:14:59.165000+00:00       29  朝のアンケート            27.0   \n",
       "4       2021-01-11 00:14:59.165000+00:00       29  朝のアンケート            28.0   \n",
       "5       2021-01-11 00:14:59.165000+00:00       29  朝のアンケート            29.0   \n",
       "...                                  ...      ...      ...             ...   \n",
       "172148  2021-01-29 23:44:50.116000+00:00       41  朝のアンケート            29.0   \n",
       "172149  2021-01-29 23:44:50.116000+00:00       41  朝のアンケート            30.0   \n",
       "172150  2021-01-29 23:44:50.116000+00:00       41  朝のアンケート            31.0   \n",
       "172151  2021-01-29 23:44:50.116000+00:00       41  朝のアンケート            32.0   \n",
       "172152  2021-01-29 23:44:50.116000+00:00       41  朝のアンケート            33.0   \n",
       "\n",
       "           name            value  value_int  \n",
       "1       はつらつとした     3: どちらともいえない        3.0  \n",
       "2            暗い   0: まったくあてはまらない        0.0  \n",
       "3         気がかりな       4: ややあてはまる        4.0  \n",
       "4           嬉しい     2: ややあてはまらない        2.0  \n",
       "5            嫌な   0: まったくあてはまらない        0.0  \n",
       "...         ...              ...        ...  \n",
       "172148       嫌な   0: まったくあてはまらない        0.0  \n",
       "172149      不安な   0: まったくあてはまらない        0.0  \n",
       "172150      楽しい     3: どちらともいえない        3.0  \n",
       "172151      沈んだ   0: まったくあてはまらない        0.0  \n",
       "172152      心配な  0: まったくあてはまらない1        0.0  \n",
       "\n",
       "[12151 rows x 7 columns]"
      ]
     },
     "execution_count": 183,
     "metadata": {},
     "output_type": "execute_result"
    }
   ],
   "source": []
  },
  {
   "cell_type": "code",
   "execution_count": null,
   "metadata": {},
   "outputs": [],
   "source": []
  }
 ],
 "metadata": {
  "kernelspec": {
   "display_name": "Python 3",
   "language": "python",
   "name": "python3"
  },
  "language_info": {
   "codemirror_mode": {
    "name": "ipython",
    "version": 3
   },
   "file_extension": ".py",
   "mimetype": "text/x-python",
   "name": "python",
   "nbconvert_exporter": "python",
   "pygments_lexer": "ipython3",
   "version": "3.8.7"
  }
 },
 "nbformat": 4,
 "nbformat_minor": 4
}
