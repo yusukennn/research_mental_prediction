{
 "cells": [
  {
   "cell_type": "code",
   "execution_count": 1,
   "metadata": {},
   "outputs": [],
   "source": [
    "import pandas as pd"
   ]
  },
  {
   "cell_type": "code",
   "execution_count": 51,
   "metadata": {},
   "outputs": [
    {
     "name": "stderr",
     "output_type": "stream",
     "text": [
      "/usr/local/lib/python3.8/site-packages/IPython/core/interactiveshell.py:3145: DtypeWarning: Columns (8) have mixed types.Specify dtype option on import or set low_memory=False.\n",
      "  has_raised = await self.run_ast_nodes(code_ast.body, cell_name,\n"
     ]
    }
   ],
   "source": [
    "# activities = pd.read_csv('work/datas/activities.csv')\n",
    "# activity_targets = pd.read_csv('work/datas/activity_targets.csv')\n",
    "# activitiy_types = pd.read_csv('work/datas/activity_types.csv')\n",
    "# records = pd.read_csv('work/datas/records.csv')\n",
    "calories_df = pd.read_csv('fitbit_all_data/calories.csv').rename(columns={'Unnamed: 0.1':'datetime','value':'calory'})\n",
    "floors_df = pd.read_csv('fitbit_all_data/floors.csv').rename(columns={'Unnamed: 0.1':'datetime','value':'floor'})\n",
    "heart_df = pd.read_csv('fitbit_all_data/heart.csv').rename(columns={'Unnamed: 0.1':'datetime','value':'heart'})\n",
    "minutesFairlyActive_df = pd.read_csv('fitbit_all_data/minutesFairlyActive.csv').rename(columns={'Unnamed: 0.1':'datetime','value':'minutesFairlyActive'})\n",
    "minutesLightlyActive_df = pd.read_csv('fitbit_all_data/minutesLightlyActive.csv').rename(columns={'Unnamed: 0.1':'datetime','value':'minutesLightlyActive'})\n",
    "minutesSedentary_df = pd.read_csv('fitbit_all_data/minutesSedentary.csv').rename(columns={'Unnamed: 0.1':'datetime','value':'minutesSedentary'})\n",
    "minutesVeryActive_df = pd.read_csv('fitbit_all_data/minutesVeryActive.csv').rename(columns={'Unnamed: 0.1':'datetime','value':'minutesVeryActive'})\n",
    "sleep_df = pd.read_csv('fitbit_all_data/sleep.csv').rename(columns={'Unnamed: 0.1':'datetime','value':'sleep'})\n",
    "steps_df = pd.read_csv('fitbit_all_data/steps.csv').rename(columns={'Unnamed: 0.1':'datetime','value':'step'})\n",
    "\n",
    "ques_all_df = pd.read_csv('./canact_all.csv')\n",
    "inquiry_df = pd.read_csv('./inquiry20210130.csv')"
   ]
  },
  {
   "cell_type": "code",
   "execution_count": 72,
   "metadata": {},
   "outputs": [],
   "source": [
    "calories_df = calories_df[['datetime', 'time','user_id', 'level', 'mets', 'calory']]\n",
    "floors_df = floors_df[['datetime', 'time', 'user_id', 'floor']]\n",
    "heart_df = heart_df[['datetime', 'time', 'user_id', 'heart']]\n",
    "sleep_df = sleep_df[['datetime','dateTime','user_id','sleep']]\n",
    "steps_df = steps_df[['datetime', 'time', 'user_id', 'step']]\n",
    "minutesLightlyActive_df = minutesLightlyActive_df[['datetime','time','user_id','minutesLightlyActive']]\n",
    "minutesFairlyActive_df = minutesFairlyActive_df[['datetime','time','user_id','minutesFairlyActive']]\n",
    "minutesSedentary_df = minutesSedentary_df[['datetime','time','user_id','minutesSedentary']]\n",
    "minutesVeryActive_df = minutesVeryActive_df[['datetime','time','user_id','minutesVeryActive']]"
   ]
  },
  {
   "cell_type": "code",
   "execution_count": 129,
   "metadata": {},
   "outputs": [],
   "source": [
    "deleted_count = len(ques_all_df['deleted_at'].unique())\n",
    "ques_all_df = ques_all_df[ques_all_df['deleted_at'].isnull()]\n"
   ]
  },
  {
   "cell_type": "code",
   "execution_count": 130,
   "metadata": {},
   "outputs": [
    {
     "data": {
      "text/plain": [
       "array([ 24.,  25.,  26.,  27.,  28.,  29.,  30.,  31.,  32.,  33.,  34.,\n",
       "        35.,  36.,  37.,  38.,  39.,  40.,  41.,  42.,  43.,  44.,  45.,\n",
       "        46.,  47.,  48.,  49.,  nan, 149., 150., 151., 152.])"
      ]
     },
     "execution_count": 130,
     "metadata": {},
     "output_type": "execute_result"
    }
   ],
   "source": [
    "ques_all_df[ques_all_df['activity'] == '朝のアンケート']['record_type_id'].unique()"
   ]
  },
  {
   "cell_type": "code",
   "execution_count": 228,
   "metadata": {},
   "outputs": [],
   "source": [
    "calories_df.to_csv('./fitbit_preprocessed_data/calories.csv')\n",
    "floors_df.to_csv('./fitbit_preprocessed_data/floors.csv')\n",
    "heart_df.to_csv('./fitbit_preprocessed_data/heart.csv')\n",
    "sleep_df.to_csv('./fitbit_preprocessed_data/sleep.csv')\n",
    "steps_df.to_csv('./fitbit_preprocessed_data/steps.csv')\n",
    "minutesLightlyActive_df.to_csv('./fitbit_preprocessed_data/minutesLightlyActive.csv')\n",
    "minutesFairlyActive_df.to_csv('./fitbit_preprocessed_data/minutesFairlyActive.csv')\n",
    "minutesSedentary_df.to_csv('./fitbit_preprocessed_data/minutesSedentary_df.csv')\n",
    "minutesVeryActive_df.to_csv('./fitbit_preprocessed_data/minutesVeryActive.csv')"
   ]
  },
  {
   "cell_type": "markdown",
   "metadata": {},
   "source": [
    "# 朝のアンケート前処理"
   ]
  },
  {
   "cell_type": "code",
   "execution_count": 170,
   "metadata": {},
   "outputs": [],
   "source": [
    "ques_morning = ques_all_df[ques_all_df['activity'] == '朝のアンケート'].rename(columns={'finished_at':'datetime'})\n",
    "ques_morning = ques_morning[['datetime','user_id','activity','record_type_id','name','value']]\n",
    "ques_morning_dams = ques_morning[(ques_morning['record_type_id'] == 25)|\n",
    "                                (ques_morning['record_type_id'] == 26)|\n",
    "                                (ques_morning['record_type_id'] == 27)|\n",
    "                                (ques_morning['record_type_id'] == 28)|\n",
    "                                (ques_morning['record_type_id'] == 29)|\n",
    "                                (ques_morning['record_type_id'] == 30)|\n",
    "                                (ques_morning['record_type_id'] == 31)|\n",
    "                                (ques_morning['record_type_id'] == 32)|\n",
    "                                (ques_morning['record_type_id'] == 33)]"
   ]
  },
  {
   "cell_type": "markdown",
   "metadata": {},
   "source": [
    "## dams"
   ]
  },
  {
   "cell_type": "code",
   "execution_count": 174,
   "metadata": {},
   "outputs": [
    {
     "name": "stderr",
     "output_type": "stream",
     "text": [
      "/usr/local/lib/python3.8/site-packages/pandas/core/indexing.py:1765: SettingWithCopyWarning: \n",
      "A value is trying to be set on a copy of a slice from a DataFrame.\n",
      "Try using .loc[row_indexer,col_indexer] = value instead\n",
      "\n",
      "See the caveats in the documentation: https://pandas.pydata.org/pandas-docs/stable/user_guide/indexing.html#returning-a-view-versus-a-copy\n",
      "  isetter(loc, value)\n"
     ]
    }
   ],
   "source": [
    "ques_morning_dams.loc[ques_morning_dams['value'] == '0: まったくあてはまらない', 'value_int'] = 0\n",
    "ques_morning_dams.loc[ques_morning_dams['value'] == '0: まったくあてはまらない1', 'value_int'] = 0\n",
    "ques_morning_dams.loc[ques_morning_dams['value'] == '1: かなりあてはまらない', 'value_int'] = 1\n",
    "ques_morning_dams.loc[ques_morning_dams['value'] == '2: ややあてはまらない', 'value_int'] = 2\n",
    "ques_morning_dams.loc[ques_morning_dams['value'] == '3: どちらともいえない', 'value_int'] = 3\n",
    "ques_morning_dams.loc[ques_morning_dams['value'] == '4: ややあてはまる', 'value_int'] = 4\n",
    "ques_morning_dams.loc[ques_morning_dams['value'] == '5: かなりあてはまる', 'value_int'] = 5\n",
    "ques_morning_dams.loc[ques_morning_dams['value'] == '6: 非常によくあてはまる', 'value_int'] = 6"
   ]
  },
  {
   "cell_type": "code",
   "execution_count": 223,
   "metadata": {},
   "outputs": [],
   "source": [
    "# ques_morning_dams = ques_morning_dams.dropna(subset=['value_int'])\n",
    "# ques_morning_dams['value_int'].unique()\n",
    "# ques_morning_dams = ques_morning_dams.rename(columns={'value_int':'value_dams'})\n",
    "# ques_morning_dams.to_csv('./questionaire_data/ques_morning_dams.csv')"
   ]
  },
  {
   "cell_type": "markdown",
   "metadata": {},
   "source": [
    "## condition"
   ]
  },
  {
   "cell_type": "code",
   "execution_count": 216,
   "metadata": {},
   "outputs": [],
   "source": [
    "ques_morning_bodyfatigue = ques_morning[(ques_morning['record_type_id'] == 35)|\n",
    "                                (ques_morning['record_type_id'] == 36)|\n",
    "                                (ques_morning['record_type_id'] == 37)|\n",
    "                                (ques_morning['record_type_id'] == 38)|\n",
    "                                (ques_morning['record_type_id'] == 39)|\n",
    "                                (ques_morning['record_type_id'] == 40)|\n",
    "                                (ques_morning['record_type_id'] == 41)|\n",
    "                                (ques_morning['record_type_id'] == 42)|\n",
    "                                (ques_morning['record_type_id'] == 43)|\n",
    "                                (ques_morning['record_type_id'] == 44)|\n",
    "                                (ques_morning['record_type_id'] == 45)|\n",
    "                                (ques_morning['record_type_id'] == 46)|\n",
    "                                (ques_morning['record_type_id'] == 47)|\n",
    "                                (ques_morning['record_type_id'] == 48)|\n",
    "                                (ques_morning['record_type_id'] == 49)]"
   ]
  },
  {
   "cell_type": "code",
   "execution_count": 217,
   "metadata": {},
   "outputs": [
    {
     "name": "stdout",
     "output_type": "stream",
     "text": [
      "                                datetime  user_id activity  record_type_id  \\\n",
      "11      2021-01-11 00:14:59.165000+00:00       29  朝のアンケート            35.0   \n",
      "12      2021-01-11 00:14:59.165000+00:00       29  朝のアンケート            36.0   \n",
      "13      2021-01-11 00:14:59.165000+00:00       29  朝のアンケート            37.0   \n",
      "14      2021-01-11 00:14:59.165000+00:00       29  朝のアンケート            38.0   \n",
      "15      2021-01-11 00:14:59.165000+00:00       29  朝のアンケート            39.0   \n",
      "...                                  ...      ...      ...             ...   \n",
      "172164  2021-01-29 23:44:50.116000+00:00       41  朝のアンケート            45.0   \n",
      "172165  2021-01-29 23:44:50.116000+00:00       41  朝のアンケート            46.0   \n",
      "172166  2021-01-29 23:44:50.116000+00:00       41  朝のアンケート            47.0   \n",
      "172167  2021-01-29 23:44:50.116000+00:00       41  朝のアンケート            48.0   \n",
      "172168  2021-01-29 23:44:50.116000+00:00       41  朝のアンケート            49.0   \n",
      "\n",
      "            name           value  value_bodyfatigue  \n",
      "11         頭がおもい  0: まったくあてはまらない                0.0  \n",
      "12        気分がわるい  0: まったくあてはまらない                0.0  \n",
      "13         頭がいたい  0: まったくあてはまらない                0.0  \n",
      "14          肩がこる        3: あてはまる                3.0  \n",
      "15      頭がぼんやりする        3: あてはまる                3.0  \n",
      "...          ...             ...                ...  \n",
      "172164    全身がだるい  0: まったくあてはまらない                0.0  \n",
      "172165     腕がだるい  0: まったくあてはまらない                0.0  \n",
      "172166    横になりたい  0: まったくあてはまらない                0.0  \n",
      "172167     腰がいたい  0: まったくあてはまらない                0.0  \n",
      "172168     足がだるい  0: まったくあてはまらない                0.0  \n",
      "\n",
      "[20520 rows x 7 columns]\n"
     ]
    },
    {
     "name": "stderr",
     "output_type": "stream",
     "text": [
      "/usr/local/lib/python3.8/site-packages/pandas/core/indexing.py:1596: SettingWithCopyWarning: \n",
      "A value is trying to be set on a copy of a slice from a DataFrame.\n",
      "Try using .loc[row_indexer,col_indexer] = value instead\n",
      "\n",
      "See the caveats in the documentation: https://pandas.pydata.org/pandas-docs/stable/user_guide/indexing.html#returning-a-view-versus-a-copy\n",
      "  self.obj[key] = _infer_fill_value(value)\n",
      "/usr/local/lib/python3.8/site-packages/pandas/core/indexing.py:1765: SettingWithCopyWarning: \n",
      "A value is trying to be set on a copy of a slice from a DataFrame.\n",
      "Try using .loc[row_indexer,col_indexer] = value instead\n",
      "\n",
      "See the caveats in the documentation: https://pandas.pydata.org/pandas-docs/stable/user_guide/indexing.html#returning-a-view-versus-a-copy\n",
      "  isetter(loc, value)\n"
     ]
    }
   ],
   "source": [
    "ques_morning_bodyfatigue.loc[ques_morning_bodyfatigue['value'] == '0: まったくあてはまらない', 'value_bodyfatigue'] = 0\n",
    "ques_morning_bodyfatigue.loc[ques_morning_bodyfatigue['value'] == '1: あてはまらない', 'value_bodyfatigue'] = 1\n",
    "ques_morning_bodyfatigue.loc[ques_morning_bodyfatigue['value'] == '2: どちらともいえない', 'value_bodyfatigue'] = 2\n",
    "ques_morning_bodyfatigue.loc[ques_morning_bodyfatigue['value'] == '3: あてはまる', 'value_bodyfatigue'] = 3\n",
    "ques_morning_bodyfatigue.loc[ques_morning_bodyfatigue['value'] == '4: 非常にあてはまる', 'value_bodyfatigue'] = 4\n",
    "print(ques_morning_bodyfatigue)"
   ]
  },
  {
   "cell_type": "code",
   "execution_count": 218,
   "metadata": {},
   "outputs": [
    {
     "data": {
      "text/plain": [
       "array([0., 3., 1., 2., 4.])"
      ]
     },
     "execution_count": 218,
     "metadata": {},
     "output_type": "execute_result"
    }
   ],
   "source": [
    "ques_morning_bodyfatigue = ques_morning_bodyfatigue.dropna(subset=['value_bodyfatigue'])\n",
    "ques_morning_bodyfatigue['value_bodyfatigue'].unique()"
   ]
  },
  {
   "cell_type": "code",
   "execution_count": 226,
   "metadata": {},
   "outputs": [
    {
     "data": {
      "text/plain": [
       "array(['朝のアンケート', '食事（業務時間外）', '単独作業', '趣味・休憩', '家事・育児', '休憩（業務時間内）',\n",
       "       '移動', '昼のアンケート', 'Web会議', '夜のアンケート(休日)', 'その他', '夜のアンケート(平日)',\n",
       "       '業務外作業', '対面会議', '共同作業（コミュニケーションを伴う）', '電話（会議）', 'FonLogへの要望', nan],\n",
       "      dtype=object)"
      ]
     },
     "execution_count": 226,
     "metadata": {},
     "output_type": "execute_result"
    }
   ],
   "source": [
    "# ques_morning_bodyfatigue.to_csv('./questionaire_data/ques_morning_bodyfatigue.csv')\n",
    "ques_all_df['activity'].unique()"
   ]
  },
  {
   "cell_type": "markdown",
   "metadata": {},
   "source": [
    "# 昼アンケート(dams, bodyfatigue)"
   ]
  },
  {
   "cell_type": "code",
   "execution_count": null,
   "metadata": {},
   "outputs": [],
   "source": []
  },
  {
   "cell_type": "markdown",
   "metadata": {},
   "source": [
    "# 平日夜アンケート(dams, bodyfatigue, workengage,recover,productivity,evaluation)"
   ]
  },
  {
   "cell_type": "code",
   "execution_count": null,
   "metadata": {},
   "outputs": [],
   "source": []
  },
  {
   "cell_type": "markdown",
   "metadata": {},
   "source": [
    "# 休日夜(dams, bodyfatigue)"
   ]
  },
  {
   "cell_type": "code",
   "execution_count": null,
   "metadata": {},
   "outputs": [],
   "source": []
  }
 ],
 "metadata": {
  "kernelspec": {
   "display_name": "Python 3",
   "language": "python",
   "name": "python3"
  },
  "language_info": {
   "codemirror_mode": {
    "name": "ipython",
    "version": 3
   },
   "file_extension": ".py",
   "mimetype": "text/x-python",
   "name": "python",
   "nbconvert_exporter": "python",
   "pygments_lexer": "ipython3",
   "version": "3.8.7"
  }
 },
 "nbformat": 4,
 "nbformat_minor": 4
}
