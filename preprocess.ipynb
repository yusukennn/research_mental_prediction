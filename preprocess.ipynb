{
 "cells": [
  {
   "cell_type": "code",
   "execution_count": 1,
   "metadata": {},
   "outputs": [],
   "source": [
    "import pandas as pd"
   ]
  },
  {
   "cell_type": "code",
   "execution_count": 51,
   "metadata": {},
   "outputs": [
    {
     "name": "stderr",
     "output_type": "stream",
     "text": [
      "/usr/local/lib/python3.8/site-packages/IPython/core/interactiveshell.py:3145: DtypeWarning: Columns (8) have mixed types.Specify dtype option on import or set low_memory=False.\n",
      "  has_raised = await self.run_ast_nodes(code_ast.body, cell_name,\n"
     ]
    }
   ],
   "source": [
    "# activities = pd.read_csv('work/datas/activities.csv')\n",
    "# activity_targets = pd.read_csv('work/datas/activity_targets.csv')\n",
    "# activitiy_types = pd.read_csv('work/datas/activity_types.csv')\n",
    "# records = pd.read_csv('work/datas/records.csv')\n",
    "calories_df = pd.read_csv('fitbit_all_data/calories.csv').rename(columns={'Unnamed: 0.1':'datetime','value':'calory'})\n",
    "floors_df = pd.read_csv('fitbit_all_data/floors.csv').rename(columns={'Unnamed: 0.1':'datetime','value':'floor'})\n",
    "heart_df = pd.read_csv('fitbit_all_data/heart.csv').rename(columns={'Unnamed: 0.1':'datetime','value':'heart'})\n",
    "minutesFairlyActive_df = pd.read_csv('fitbit_all_data/minutesFairlyActive.csv').rename(columns={'Unnamed: 0.1':'datetime','value':'minutesFairlyActive'})\n",
    "minutesLightlyActive_df = pd.read_csv('fitbit_all_data/minutesLightlyActive.csv').rename(columns={'Unnamed: 0.1':'datetime','value':'minutesLightlyActive'})\n",
    "minutesSedentary_df = pd.read_csv('fitbit_all_data/minutesSedentary.csv').rename(columns={'Unnamed: 0.1':'datetime','value':'minutesSedentary'})\n",
    "minutesVeryActive_df = pd.read_csv('fitbit_all_data/minutesVeryActive.csv').rename(columns={'Unnamed: 0.1':'datetime','value':'minutesVeryActive'})\n",
    "sleep_df = pd.read_csv('fitbit_all_data/sleep.csv').rename(columns={'Unnamed: 0.1':'datetime','value':'sleep'})\n",
    "steps_df = pd.read_csv('fitbit_all_data/steps.csv').rename(columns={'Unnamed: 0.1':'datetime','value':'step'})\n",
    "\n",
    "ques_all_df = pd.read_csv('./canact_all.csv')\n",
    "inquiry_df = pd.read_csv('./inquiry20210130.csv')"
   ]
  },
  {
   "cell_type": "code",
   "execution_count": 72,
   "metadata": {},
   "outputs": [],
   "source": [
    "calories_df = calories_df[['datetime', 'time','user_id', 'level', 'mets', 'calory']]\n",
    "floors_df = floors_df[['datetime', 'time', 'user_id', 'floor']]\n",
    "heart_df = heart_df[['datetime', 'time', 'user_id', 'heart']]\n",
    "sleep_df = sleep_df[['datetime','dateTime','user_id','sleep']]\n",
    "steps_df = steps_df[['datetime', 'time', 'user_id', 'step']]\n",
    "minutesLightlyActive_df = minutesLightlyActive_df[['datetime','time','user_id','minutesLightlyActive']]\n",
    "minutesFairlyActive_df = minutesFairlyActive_df[['datetime','time','user_id','minutesFairlyActive']]\n",
    "minutesSedentary_df = minutesSedentary_df[['datetime','time','user_id','minutesSedentary']]\n",
    "minutesVeryActive_df = minutesVeryActive_df[['datetime','time','user_id','minutesVeryActive']]"
   ]
  },
  {
   "cell_type": "code",
   "execution_count": 129,
   "metadata": {},
   "outputs": [],
   "source": [
    "deleted_count = len(ques_all_df['deleted_at'].unique())\n",
    "ques_all_df = ques_all_df[ques_all_df['deleted_at'].isnull()]\n"
   ]
  },
  {
   "cell_type": "code",
   "execution_count": 130,
   "metadata": {},
   "outputs": [
    {
     "data": {
      "text/plain": [
       "array([ 24.,  25.,  26.,  27.,  28.,  29.,  30.,  31.,  32.,  33.,  34.,\n",
       "        35.,  36.,  37.,  38.,  39.,  40.,  41.,  42.,  43.,  44.,  45.,\n",
       "        46.,  47.,  48.,  49.,  nan, 149., 150., 151., 152.])"
      ]
     },
     "execution_count": 130,
     "metadata": {},
     "output_type": "execute_result"
    }
   ],
   "source": [
    "ques_all_df[ques_all_df['activity'] == '朝のアンケート']['record_type_id'].unique()"
   ]
  },
  {
   "cell_type": "code",
   "execution_count": 228,
   "metadata": {},
   "outputs": [],
   "source": [
    "# calories_df.to_csv('./fitbit_preprocessed_data/calories.csv')\n",
    "# floors_df.to_csv('./fitbit_preprocessed_data/floors.csv')\n",
    "# heart_df.to_csv('./fitbit_preprocessed_data/heart.csv')\n",
    "# sleep_df.to_csv('./fitbit_preprocessed_data/sleep.csv')\n",
    "# steps_df.to_csv('./fitbit_preprocessed_data/steps.csv')\n",
    "# minutesLightlyActive_df.to_csv('./fitbit_preprocessed_data/minutesLightlyActive.csv')\n",
    "# minutesFairlyActive_df.to_csv('./fitbit_preprocessed_data/minutesFairlyActive.csv')\n",
    "# minutesSedentary_df.to_csv('./fitbit_preprocessed_data/minutesSedentary_df.csv')\n",
    "# minutesVeryActive_df.to_csv('./fitbit_preprocessed_data/minutesVeryActive.csv')"
   ]
  },
  {
   "cell_type": "markdown",
   "metadata": {},
   "source": [
    "# 朝のアンケート前処理"
   ]
  },
  {
   "cell_type": "code",
   "execution_count": 170,
   "metadata": {},
   "outputs": [],
   "source": [
    "ques_morning = ques_all_df[ques_all_df['activity'] == '朝のアンケート'].rename(columns={'finished_at':'datetime'})\n",
    "ques_morning = ques_morning[['datetime','user_id','activity','record_type_id','name','value']]\n",
    "ques_morning_dams = ques_morning[(ques_morning['record_type_id'] == 25)|\n",
    "                                (ques_morning['record_type_id'] == 26)|\n",
    "                                (ques_morning['record_type_id'] == 27)|\n",
    "                                (ques_morning['record_type_id'] == 28)|\n",
    "                                (ques_morning['record_type_id'] == 29)|\n",
    "                                (ques_morning['record_type_id'] == 30)|\n",
    "                                (ques_morning['record_type_id'] == 31)|\n",
    "                                (ques_morning['record_type_id'] == 32)|\n",
    "                                (ques_morning['record_type_id'] == 33)]"
   ]
  },
  {
   "cell_type": "markdown",
   "metadata": {},
   "source": [
    "## dams"
   ]
  },
  {
   "cell_type": "code",
   "execution_count": 174,
   "metadata": {},
   "outputs": [
    {
     "name": "stderr",
     "output_type": "stream",
     "text": [
      "/usr/local/lib/python3.8/site-packages/pandas/core/indexing.py:1765: SettingWithCopyWarning: \n",
      "A value is trying to be set on a copy of a slice from a DataFrame.\n",
      "Try using .loc[row_indexer,col_indexer] = value instead\n",
      "\n",
      "See the caveats in the documentation: https://pandas.pydata.org/pandas-docs/stable/user_guide/indexing.html#returning-a-view-versus-a-copy\n",
      "  isetter(loc, value)\n"
     ]
    }
   ],
   "source": [
    "ques_morning_dams.loc[ques_morning_dams['value'] == '0: まったくあてはまらない', 'value_int'] = 0\n",
    "ques_morning_dams.loc[ques_morning_dams['value'] == '0: まったくあてはまらない1', 'value_int'] = 0\n",
    "ques_morning_dams.loc[ques_morning_dams['value'] == '1: かなりあてはまらない', 'value_int'] = 1\n",
    "ques_morning_dams.loc[ques_morning_dams['value'] == '2: ややあてはまらない', 'value_int'] = 2\n",
    "ques_morning_dams.loc[ques_morning_dams['value'] == '3: どちらともいえない', 'value_int'] = 3\n",
    "ques_morning_dams.loc[ques_morning_dams['value'] == '4: ややあてはまる', 'value_int'] = 4\n",
    "ques_morning_dams.loc[ques_morning_dams['value'] == '5: かなりあてはまる', 'value_int'] = 5\n",
    "ques_morning_dams.loc[ques_morning_dams['value'] == '6: 非常によくあてはまる', 'value_int'] = 6"
   ]
  },
  {
   "cell_type": "code",
   "execution_count": 223,
   "metadata": {},
   "outputs": [],
   "source": [
    "# ques_morning_dams = ques_morning_dams.dropna(subset=['value_int'])\n",
    "# ques_morning_dams['value_int'].unique()\n",
    "# ques_morning_dams = ques_morning_dams.rename(columns={'value_int':'value_dams'})\n",
    "# ques_morning_dams.to_csv('./questionaire_data/ques_morning_dams.csv')"
   ]
  },
  {
   "cell_type": "markdown",
   "metadata": {},
   "source": [
    "## condition"
   ]
  },
  {
   "cell_type": "code",
   "execution_count": 216,
   "metadata": {},
   "outputs": [],
   "source": [
    "ques_morning_bodyfatigue = ques_morning[(ques_morning['record_type_id'] == 35)|\n",
    "                                (ques_morning['record_type_id'] == 36)|\n",
    "                                (ques_morning['record_type_id'] == 37)|\n",
    "                                (ques_morning['record_type_id'] == 38)|\n",
    "                                (ques_morning['record_type_id'] == 39)|\n",
    "                                (ques_morning['record_type_id'] == 40)|\n",
    "                                (ques_morning['record_type_id'] == 41)|\n",
    "                                (ques_morning['record_type_id'] == 42)|\n",
    "                                (ques_morning['record_type_id'] == 43)|\n",
    "                                (ques_morning['record_type_id'] == 44)|\n",
    "                                (ques_morning['record_type_id'] == 45)|\n",
    "                                (ques_morning['record_type_id'] == 46)|\n",
    "                                (ques_morning['record_type_id'] == 47)|\n",
    "                                (ques_morning['record_type_id'] == 48)|\n",
    "                                (ques_morning['record_type_id'] == 49)]"
   ]
  },
  {
   "cell_type": "code",
   "execution_count": 217,
   "metadata": {},
   "outputs": [
    {
     "name": "stdout",
     "output_type": "stream",
     "text": [
      "                                datetime  user_id activity  record_type_id  \\\n",
      "11      2021-01-11 00:14:59.165000+00:00       29  朝のアンケート            35.0   \n",
      "12      2021-01-11 00:14:59.165000+00:00       29  朝のアンケート            36.0   \n",
      "13      2021-01-11 00:14:59.165000+00:00       29  朝のアンケート            37.0   \n",
      "14      2021-01-11 00:14:59.165000+00:00       29  朝のアンケート            38.0   \n",
      "15      2021-01-11 00:14:59.165000+00:00       29  朝のアンケート            39.0   \n",
      "...                                  ...      ...      ...             ...   \n",
      "172164  2021-01-29 23:44:50.116000+00:00       41  朝のアンケート            45.0   \n",
      "172165  2021-01-29 23:44:50.116000+00:00       41  朝のアンケート            46.0   \n",
      "172166  2021-01-29 23:44:50.116000+00:00       41  朝のアンケート            47.0   \n",
      "172167  2021-01-29 23:44:50.116000+00:00       41  朝のアンケート            48.0   \n",
      "172168  2021-01-29 23:44:50.116000+00:00       41  朝のアンケート            49.0   \n",
      "\n",
      "            name           value  value_bodyfatigue  \n",
      "11         頭がおもい  0: まったくあてはまらない                0.0  \n",
      "12        気分がわるい  0: まったくあてはまらない                0.0  \n",
      "13         頭がいたい  0: まったくあてはまらない                0.0  \n",
      "14          肩がこる        3: あてはまる                3.0  \n",
      "15      頭がぼんやりする        3: あてはまる                3.0  \n",
      "...          ...             ...                ...  \n",
      "172164    全身がだるい  0: まったくあてはまらない                0.0  \n",
      "172165     腕がだるい  0: まったくあてはまらない                0.0  \n",
      "172166    横になりたい  0: まったくあてはまらない                0.0  \n",
      "172167     腰がいたい  0: まったくあてはまらない                0.0  \n",
      "172168     足がだるい  0: まったくあてはまらない                0.0  \n",
      "\n",
      "[20520 rows x 7 columns]\n"
     ]
    },
    {
     "name": "stderr",
     "output_type": "stream",
     "text": [
      "/usr/local/lib/python3.8/site-packages/pandas/core/indexing.py:1596: SettingWithCopyWarning: \n",
      "A value is trying to be set on a copy of a slice from a DataFrame.\n",
      "Try using .loc[row_indexer,col_indexer] = value instead\n",
      "\n",
      "See the caveats in the documentation: https://pandas.pydata.org/pandas-docs/stable/user_guide/indexing.html#returning-a-view-versus-a-copy\n",
      "  self.obj[key] = _infer_fill_value(value)\n",
      "/usr/local/lib/python3.8/site-packages/pandas/core/indexing.py:1765: SettingWithCopyWarning: \n",
      "A value is trying to be set on a copy of a slice from a DataFrame.\n",
      "Try using .loc[row_indexer,col_indexer] = value instead\n",
      "\n",
      "See the caveats in the documentation: https://pandas.pydata.org/pandas-docs/stable/user_guide/indexing.html#returning-a-view-versus-a-copy\n",
      "  isetter(loc, value)\n"
     ]
    }
   ],
   "source": [
    "ques_morning_bodyfatigue.loc[ques_morning_bodyfatigue['value'] == '0: まったくあてはまらない', 'value_bodyfatigue'] = 0\n",
    "ques_morning_bodyfatigue.loc[ques_morning_bodyfatigue['value'] == '1: あてはまらない', 'value_bodyfatigue'] = 1\n",
    "ques_morning_bodyfatigue.loc[ques_morning_bodyfatigue['value'] == '2: どちらともいえない', 'value_bodyfatigue'] = 2\n",
    "ques_morning_bodyfatigue.loc[ques_morning_bodyfatigue['value'] == '3: あてはまる', 'value_bodyfatigue'] = 3\n",
    "ques_morning_bodyfatigue.loc[ques_morning_bodyfatigue['value'] == '4: 非常にあてはまる', 'value_bodyfatigue'] = 4\n",
    "print(ques_morning_bodyfatigue)"
   ]
  },
  {
   "cell_type": "code",
   "execution_count": 218,
   "metadata": {},
   "outputs": [
    {
     "data": {
      "text/plain": [
       "array([0., 3., 1., 2., 4.])"
      ]
     },
     "execution_count": 218,
     "metadata": {},
     "output_type": "execute_result"
    }
   ],
   "source": [
    "ques_morning_bodyfatigue = ques_morning_bodyfatigue.dropna(subset=['value_bodyfatigue'])\n",
    "ques_morning_bodyfatigue['value_bodyfatigue'].unique()"
   ]
  },
  {
   "cell_type": "code",
   "execution_count": 226,
   "metadata": {},
   "outputs": [
    {
     "data": {
      "text/plain": [
       "array(['朝のアンケート', '食事（業務時間外）', '単独作業', '趣味・休憩', '家事・育児', '休憩（業務時間内）',\n",
       "       '移動', '昼のアンケート', 'Web会議', '夜のアンケート(休日)', 'その他', '夜のアンケート(平日)',\n",
       "       '業務外作業', '対面会議', '共同作業（コミュニケーションを伴う）', '電話（会議）', 'FonLogへの要望', nan],\n",
       "      dtype=object)"
      ]
     },
     "execution_count": 226,
     "metadata": {},
     "output_type": "execute_result"
    }
   ],
   "source": [
    "# ques_morning_bodyfatigue.to_csv('./questionaire_data/ques_morning_bodyfatigue.csv')\n",
    "ques_all_df['activity'].unique()"
   ]
  },
  {
   "cell_type": "code",
   "execution_count": 251,
   "metadata": {},
   "outputs": [],
   "source": [
    "# weather_df = pd.read_csv('./weather_data_tokyo.csv')\n",
    "# weather_df = weather_df.drop(index=0)\n",
    "# weather_df['Date'] = pd.to_datetime(weather_df['Date'])\n",
    "# weather_df.to_csv('./weather_data/weather_tokyo.csv')"
   ]
  },
  {
   "cell_type": "code",
   "execution_count": 252,
   "metadata": {},
   "outputs": [],
   "source": [
    "# weather_osaka = pd.read_csv('./weather_data_osaka.csv')\n",
    "# weather_osaka = weather_osaka.drop(index=0)\n",
    "# weather_osaka['Date'] = pd.to_datetime(weather_osaka['Date'])\n",
    "# weather_osaka.to_csv('./weather_data/weather_osaka.csv')"
   ]
  },
  {
   "cell_type": "markdown",
   "metadata": {},
   "source": [
    "# 昼アンケート(dams, bodyfatigue)"
   ]
  },
  {
   "cell_type": "code",
   "execution_count": 277,
   "metadata": {},
   "outputs": [],
   "source": [
    "ques_all_df = ques_all_df.rename(columns={'finished_at':'datetime'})\n",
    "ques_all_df = ques_all_df[['datetime','user_id','activity','record_type_id','name','value']]\n",
    "ques_all_dams = ques_all_df\n",
    "# ques_all_dams = ques_all_df[(ques_all_df['record_type_id'] == 25)|\n",
    "#                                 (ques_all_df['record_type_id'] == 26)|\n",
    "#                                 (ques_all_df['record_type_id'] == 27)|\n",
    "#                                 (ques_all_df['record_type_id'] == 28)|\n",
    "#                                 (ques_all_df['record_type_id'] == 29)|\n",
    "#                                 (ques_all_df['record_type_id'] == 30)|\n",
    "#                                 (ques_all_df['record_type_id'] == 31)|\n",
    "#                                 (ques_all_df['record_type_id'] == 32)|\n",
    "#                                 (ques_all_df['record_type_id'] == 33)]\n",
    "ques_all_dams.loc[ques_all_dams['value'] == '0: まったくあてはまらない', 'value_int'] = 0\n",
    "ques_all_dams.loc[ques_all_dams['value'] == '0: まったくあてはまらない1', 'value_int'] = 0\n",
    "ques_all_dams.loc[ques_all_dams['value'] == '1: かなりあてはまらない', 'value_int'] = 1\n",
    "ques_all_dams.loc[ques_all_dams['value'] == '2: ややあてはまらない', 'value_int'] = 2\n",
    "ques_all_dams.loc[ques_all_dams['value'] == '3: どちらともいえない', 'value_int'] = 3\n",
    "ques_all_dams.loc[ques_all_dams['value'] == '4: ややあてはまる', 'value_int'] = 4\n",
    "ques_all_dams.loc[ques_all_dams['value'] == '5: かなりあてはまる', 'value_int'] = 5\n",
    "ques_all_dams.loc[ques_all_dams['value'] == '6: 非常によくあてはまる', 'value_int'] = 6"
   ]
  },
  {
   "cell_type": "code",
   "execution_count": 278,
   "metadata": {},
   "outputs": [],
   "source": [
    "ques_all_dams = ques_all_dams.dropna(subset=['value_int'])\n",
    "ques_all_dams['value_int'].unique()\n",
    "ques_all_dams = ques_all_dams.rename(columns={'value_int':'value_dams'})\n",
    "# ques_all_dams.to_csv('./questionaire_data/ques_morning_dams.csv')"
   ]
  },
  {
   "cell_type": "code",
   "execution_count": 282,
   "metadata": {},
   "outputs": [
    {
     "data": {
      "text/plain": [
       "array(['はつらつとした', '暗い', '気がかりな', '嬉しい', '嫌な', '不安な', '楽しい', '沈んだ', '心配な',\n",
       "       '頭がいたい', '手や指がいたい', 'めまいがする', '腕がだるい', '腰がいたい', '業務に集中できていた',\n",
       "       '効率的に業務ができた', '予定通りに業務ができた', '関係者と十分にコミュニケーションがとれた',\n",
       "       '関係者と効率的にコミュニケーションがとれた', '新たなアイデアが出た', '成果に結びついた', '気分がわるい',\n",
       "       '頭がぼんやりする', 'あくびがでる', 'ねむい', 'やる気がとぼしい', '横になりたい', '足がだるい',\n",
       "       '今、仕事をしていると、活力がみなぎるように感じる', '今、仕事に熱心である', '今、私は仕事にのめり込んでいる',\n",
       "       '気がおもい', '肩がこる', '全身がだるい'], dtype=object)"
      ]
     },
     "execution_count": 282,
     "metadata": {},
     "output_type": "execute_result"
    }
   ],
   "source": [
    "ques_evening = ques_all_dams[ques_all_dams['activity']=='昼のアンケート']\n",
    "ques_evening['name'].unique()"
   ]
  },
  {
   "cell_type": "code",
   "execution_count": 290,
   "metadata": {},
   "outputs": [
    {
     "data": {
      "text/html": [
       "<div>\n",
       "<style scoped>\n",
       "    .dataframe tbody tr th:only-of-type {\n",
       "        vertical-align: middle;\n",
       "    }\n",
       "\n",
       "    .dataframe tbody tr th {\n",
       "        vertical-align: top;\n",
       "    }\n",
       "\n",
       "    .dataframe thead th {\n",
       "        text-align: right;\n",
       "    }\n",
       "</style>\n",
       "<table border=\"1\" class=\"dataframe\">\n",
       "  <thead>\n",
       "    <tr style=\"text-align: right;\">\n",
       "      <th></th>\n",
       "      <th>datetime</th>\n",
       "      <th>user_id</th>\n",
       "      <th>activity</th>\n",
       "      <th>record_type_id</th>\n",
       "      <th>name</th>\n",
       "      <th>value</th>\n",
       "      <th>value_dams</th>\n",
       "    </tr>\n",
       "  </thead>\n",
       "  <tbody>\n",
       "    <tr>\n",
       "      <th>72</th>\n",
       "      <td>2021-01-13 03:20:00+00:00</td>\n",
       "      <td>82</td>\n",
       "      <td>昼のアンケート</td>\n",
       "      <td>51.0</td>\n",
       "      <td>はつらつとした</td>\n",
       "      <td>0: まったくあてはまらない</td>\n",
       "      <td>0.0</td>\n",
       "    </tr>\n",
       "    <tr>\n",
       "      <th>73</th>\n",
       "      <td>2021-01-13 03:20:00+00:00</td>\n",
       "      <td>82</td>\n",
       "      <td>昼のアンケート</td>\n",
       "      <td>52.0</td>\n",
       "      <td>暗い</td>\n",
       "      <td>6: 非常によくあてはまる</td>\n",
       "      <td>6.0</td>\n",
       "    </tr>\n",
       "    <tr>\n",
       "      <th>74</th>\n",
       "      <td>2021-01-13 03:20:00+00:00</td>\n",
       "      <td>82</td>\n",
       "      <td>昼のアンケート</td>\n",
       "      <td>53.0</td>\n",
       "      <td>気がかりな</td>\n",
       "      <td>6: 非常によくあてはまる</td>\n",
       "      <td>6.0</td>\n",
       "    </tr>\n",
       "    <tr>\n",
       "      <th>75</th>\n",
       "      <td>2021-01-13 03:20:00+00:00</td>\n",
       "      <td>82</td>\n",
       "      <td>昼のアンケート</td>\n",
       "      <td>54.0</td>\n",
       "      <td>嬉しい</td>\n",
       "      <td>0: まったくあてはまらない</td>\n",
       "      <td>0.0</td>\n",
       "    </tr>\n",
       "    <tr>\n",
       "      <th>76</th>\n",
       "      <td>2021-01-13 03:20:00+00:00</td>\n",
       "      <td>82</td>\n",
       "      <td>昼のアンケート</td>\n",
       "      <td>55.0</td>\n",
       "      <td>嫌な</td>\n",
       "      <td>6: 非常によくあてはまる</td>\n",
       "      <td>6.0</td>\n",
       "    </tr>\n",
       "    <tr>\n",
       "      <th>...</th>\n",
       "      <td>...</td>\n",
       "      <td>...</td>\n",
       "      <td>...</td>\n",
       "      <td>...</td>\n",
       "      <td>...</td>\n",
       "      <td>...</td>\n",
       "      <td>...</td>\n",
       "    </tr>\n",
       "    <tr>\n",
       "      <th>171929</th>\n",
       "      <td>2021-01-29 04:07:00+00:00</td>\n",
       "      <td>28</td>\n",
       "      <td>昼のアンケート</td>\n",
       "      <td>55.0</td>\n",
       "      <td>嫌な</td>\n",
       "      <td>0: まったくあてはまらない</td>\n",
       "      <td>0.0</td>\n",
       "    </tr>\n",
       "    <tr>\n",
       "      <th>171930</th>\n",
       "      <td>2021-01-29 04:07:00+00:00</td>\n",
       "      <td>28</td>\n",
       "      <td>昼のアンケート</td>\n",
       "      <td>56.0</td>\n",
       "      <td>不安な</td>\n",
       "      <td>0: まったくあてはまらない</td>\n",
       "      <td>0.0</td>\n",
       "    </tr>\n",
       "    <tr>\n",
       "      <th>171931</th>\n",
       "      <td>2021-01-29 04:07:00+00:00</td>\n",
       "      <td>28</td>\n",
       "      <td>昼のアンケート</td>\n",
       "      <td>57.0</td>\n",
       "      <td>楽しい</td>\n",
       "      <td>2: ややあてはまらない</td>\n",
       "      <td>2.0</td>\n",
       "    </tr>\n",
       "    <tr>\n",
       "      <th>171932</th>\n",
       "      <td>2021-01-29 04:07:00+00:00</td>\n",
       "      <td>28</td>\n",
       "      <td>昼のアンケート</td>\n",
       "      <td>58.0</td>\n",
       "      <td>沈んだ</td>\n",
       "      <td>0: まったくあてはまらない</td>\n",
       "      <td>0.0</td>\n",
       "    </tr>\n",
       "    <tr>\n",
       "      <th>171933</th>\n",
       "      <td>2021-01-29 04:07:00+00:00</td>\n",
       "      <td>28</td>\n",
       "      <td>昼のアンケート</td>\n",
       "      <td>59.0</td>\n",
       "      <td>心配な</td>\n",
       "      <td>0: まったくあてはまらない</td>\n",
       "      <td>0.0</td>\n",
       "    </tr>\n",
       "  </tbody>\n",
       "</table>\n",
       "<p>9325 rows × 7 columns</p>\n",
       "</div>"
      ],
      "text/plain": [
       "                         datetime  user_id activity  record_type_id     name  \\\n",
       "72      2021-01-13 03:20:00+00:00       82  昼のアンケート            51.0  はつらつとした   \n",
       "73      2021-01-13 03:20:00+00:00       82  昼のアンケート            52.0       暗い   \n",
       "74      2021-01-13 03:20:00+00:00       82  昼のアンケート            53.0    気がかりな   \n",
       "75      2021-01-13 03:20:00+00:00       82  昼のアンケート            54.0      嬉しい   \n",
       "76      2021-01-13 03:20:00+00:00       82  昼のアンケート            55.0       嫌な   \n",
       "...                           ...      ...      ...             ...      ...   \n",
       "171929  2021-01-29 04:07:00+00:00       28  昼のアンケート            55.0       嫌な   \n",
       "171930  2021-01-29 04:07:00+00:00       28  昼のアンケート            56.0      不安な   \n",
       "171931  2021-01-29 04:07:00+00:00       28  昼のアンケート            57.0      楽しい   \n",
       "171932  2021-01-29 04:07:00+00:00       28  昼のアンケート            58.0      沈んだ   \n",
       "171933  2021-01-29 04:07:00+00:00       28  昼のアンケート            59.0      心配な   \n",
       "\n",
       "                 value  value_dams  \n",
       "72      0: まったくあてはまらない         0.0  \n",
       "73       6: 非常によくあてはまる         6.0  \n",
       "74       6: 非常によくあてはまる         6.0  \n",
       "75      0: まったくあてはまらない         0.0  \n",
       "76       6: 非常によくあてはまる         6.0  \n",
       "...                ...         ...  \n",
       "171929  0: まったくあてはまらない         0.0  \n",
       "171930  0: まったくあてはまらない         0.0  \n",
       "171931    2: ややあてはまらない         2.0  \n",
       "171932  0: まったくあてはまらない         0.0  \n",
       "171933  0: まったくあてはまらない         0.0  \n",
       "\n",
       "[9325 rows x 7 columns]"
      ]
     },
     "execution_count": 290,
     "metadata": {},
     "output_type": "execute_result"
    }
   ],
   "source": [
    "ques_evening_dams = ques_evening.query('name == [\"はつらつとした\", \"暗い\", \"気がかりな\", \"嬉しい\", \"嫌な\", \"不安な\", \"楽しい\", \"沈んだ\", \"心配な\"]')\n",
    "# ques_evening_dams.to_csv('./questionaire_data/ques_evening_dams.csv')"
   ]
  },
  {
   "cell_type": "markdown",
   "metadata": {},
   "source": [
    "### 身体疲労"
   ]
  },
  {
   "cell_type": "code",
   "execution_count": 324,
   "metadata": {},
   "outputs": [
    {
     "name": "stderr",
     "output_type": "stream",
     "text": [
      "/usr/local/lib/python3.8/site-packages/pandas/core/indexing.py:1596: SettingWithCopyWarning: \n",
      "A value is trying to be set on a copy of a slice from a DataFrame.\n",
      "Try using .loc[row_indexer,col_indexer] = value instead\n",
      "\n",
      "See the caveats in the documentation: https://pandas.pydata.org/pandas-docs/stable/user_guide/indexing.html#returning-a-view-versus-a-copy\n",
      "  self.obj[key] = _infer_fill_value(value)\n",
      "/usr/local/lib/python3.8/site-packages/pandas/core/indexing.py:1765: SettingWithCopyWarning: \n",
      "A value is trying to be set on a copy of a slice from a DataFrame.\n",
      "Try using .loc[row_indexer,col_indexer] = value instead\n",
      "\n",
      "See the caveats in the documentation: https://pandas.pydata.org/pandas-docs/stable/user_guide/indexing.html#returning-a-view-versus-a-copy\n",
      "  isetter(loc, value)\n"
     ]
    }
   ],
   "source": [
    "ques_evening = ques_all_df.query('activity == \"昼のアンケート\"')\n",
    "ques_evening_bodyfatigue = ques_evening.query('name == [\"頭がいたい\", \"手や指がいたい\", \"めまいがする\", \"腕がだるい\", \"腰がいたい\",\"気分がわるい\",\"頭がぼんやりする\", \"あくびがでる\", \"ねむい\", \"やる気がとぼしい\", \"横になりたい\", \"足がだるい\",\"気がおもい\", \"肩がこる\", \"全身がだるい\"]')\n",
    "ques_evening_bodyfatigue.loc[ques_evening_bodyfatigue['value']=='0: まったくあてはまらない', 'value_bodyfatigue'] = 0\n",
    "ques_evening_bodyfatigue.loc[ques_evening_bodyfatigue['value']=='1: あてはまらない', 'value_bodyfatigue'] = 1\n",
    "ques_evening_bodyfatigue.loc[ques_evening_bodyfatigue['value']=='2: どちらともいえない', 'value_bodyfatigue'] = 2\n",
    "ques_evening_bodyfatigue.loc[ques_evening_bodyfatigue['value']=='3: あてはまる', 'value_bodyfatigue'] = 3\n",
    "ques_evening_bodyfatigue.loc[ques_evening_bodyfatigue['value']=='4: 非常にあてはまる', 'value_bodyfatigue'] = 4\n",
    "ques_evening_bodyfatigue = ques_evening_bodyfatigue.dropna(subset=['value','value_bodyfatigue'])\n",
    "# ques_evening_bodyfatigue.to_csv('./questionaire_data/ques_evening_bodyfatigue.csv')"
   ]
  },
  {
   "cell_type": "markdown",
   "metadata": {},
   "source": [
    "### 昼アンケ　ワークエンゲージメント"
   ]
  },
  {
   "cell_type": "code",
   "execution_count": 349,
   "metadata": {},
   "outputs": [
    {
     "name": "stderr",
     "output_type": "stream",
     "text": [
      "/usr/local/lib/python3.8/site-packages/pandas/core/indexing.py:1596: SettingWithCopyWarning: \n",
      "A value is trying to be set on a copy of a slice from a DataFrame.\n",
      "Try using .loc[row_indexer,col_indexer] = value instead\n",
      "\n",
      "See the caveats in the documentation: https://pandas.pydata.org/pandas-docs/stable/user_guide/indexing.html#returning-a-view-versus-a-copy\n",
      "  self.obj[key] = _infer_fill_value(value)\n",
      "/usr/local/lib/python3.8/site-packages/pandas/core/indexing.py:1765: SettingWithCopyWarning: \n",
      "A value is trying to be set on a copy of a slice from a DataFrame.\n",
      "Try using .loc[row_indexer,col_indexer] = value instead\n",
      "\n",
      "See the caveats in the documentation: https://pandas.pydata.org/pandas-docs/stable/user_guide/indexing.html#returning-a-view-versus-a-copy\n",
      "  isetter(loc, value)\n"
     ]
    }
   ],
   "source": [
    "ques_evening_workenga = ques_evening.query('name==[\"今、仕事をしていると、活力がみなぎるように感じる\", \"今、仕事に熱心である\", \"今、私は仕事にのめり込んでいる\"]')\n",
    "\n",
    "ques_evening_workenga.loc[ques_evening_workenga['value']=='0: まったく感じない', 'value_workenga'] = 0\n",
    "ques_evening_workenga.loc[ques_evening_workenga['value']=='1: ほとんど感じない', 'value_workenga'] = 1\n",
    "ques_evening_workenga.loc[ques_evening_workenga['value']=='2: あまり感じない', 'value_workenga'] = 2\n",
    "ques_evening_workenga.loc[ques_evening_workenga['value']=='3: どちらともいえない', 'value_workenga'] = 3\n",
    "ques_evening_workenga.loc[ques_evening_workenga['value']=='4: たまに感じる', 'value_workenga'] = 4\n",
    "ques_evening_workenga.loc[ques_evening_workenga['value']=='5: よく感じる', 'value_workenga'] = 5\n",
    "ques_evening_workenga.loc[ques_evening_workenga['value']=='6: いつも感じる', 'value_workenga'] = 6\n",
    "ques_evening_workenga = ques_evening_workenga.dropna(subset=['value']).drop('value_int', axis=1)\n",
    "# ques_evening_workenga.to_csv('./questionaire_data/ques_evening_workenga.csv')"
   ]
  },
  {
   "cell_type": "code",
   "execution_count": 340,
   "metadata": {},
   "outputs": [
    {
     "data": {
      "text/plain": [
       "array(['0: まったく感じない', '3: どちらともいえない', '6: いつも感じる', '4: たまに感じる',\n",
       "       '2: あまり感じない', nan, '1: ほとんど感じない', '5: よく感じる'], dtype=object)"
      ]
     },
     "execution_count": 340,
     "metadata": {},
     "output_type": "execute_result"
    }
   ],
   "source": [
    "ques_evening_workenga['value'].unique()"
   ]
  },
  {
   "cell_type": "markdown",
   "metadata": {},
   "source": [
    "### 自己評価"
   ]
  },
  {
   "cell_type": "code",
   "execution_count": 359,
   "metadata": {},
   "outputs": [
    {
     "name": "stderr",
     "output_type": "stream",
     "text": [
      "/usr/local/lib/python3.8/site-packages/pandas/core/indexing.py:1596: SettingWithCopyWarning: \n",
      "A value is trying to be set on a copy of a slice from a DataFrame.\n",
      "Try using .loc[row_indexer,col_indexer] = value instead\n",
      "\n",
      "See the caveats in the documentation: https://pandas.pydata.org/pandas-docs/stable/user_guide/indexing.html#returning-a-view-versus-a-copy\n",
      "  self.obj[key] = _infer_fill_value(value)\n",
      "/usr/local/lib/python3.8/site-packages/pandas/core/indexing.py:1765: SettingWithCopyWarning: \n",
      "A value is trying to be set on a copy of a slice from a DataFrame.\n",
      "Try using .loc[row_indexer,col_indexer] = value instead\n",
      "\n",
      "See the caveats in the documentation: https://pandas.pydata.org/pandas-docs/stable/user_guide/indexing.html#returning-a-view-versus-a-copy\n",
      "  isetter(loc, value)\n"
     ]
    }
   ],
   "source": [
    "ques_evening_eval = ques_evening.query(\"name == ['業務に集中できていた','効率的に業務ができた', '予定通りに業務ができた', '関係者と十分にコミュニケーションがとれた','関係者と効率的にコミュニケーションがとれた', '新たなアイデアが出た', '成果に結びついた']\")\n",
    "ques_evening_eval.loc[ques_evening_eval['value']=='0: まったくあてはまらない', 'value_eval'] = 0\n",
    "ques_evening_eval.loc[ques_evening_eval['value']=='1: あてはまらない', 'value_eval'] = 1\n",
    "ques_evening_eval.loc[ques_evening_eval['value']=='2: どちらともいえない', 'value_eval'] = 2\n",
    "ques_evening_eval.loc[ques_evening_eval['value']=='3: あてはまる', 'value_eval'] = 3\n",
    "ques_evening_eval.loc[ques_evening_eval['value']=='4: 非常によくあてはまる', 'value_eval'] = 4\n",
    "ques_evening_eval = ques_evening_eval.dropna(subset=['value']).drop('value_int', axis=1)"
   ]
  },
  {
   "cell_type": "code",
   "execution_count": 365,
   "metadata": {},
   "outputs": [],
   "source": [
    "# ques_evening_eval.to_csv('./questionaire_data/ques_evening_eval.csv')"
   ]
  },
  {
   "cell_type": "markdown",
   "metadata": {},
   "source": [
    "# 平日夜アンケート(dams, bodyfatigue, workengage,recover,productivity,evaluation)"
   ]
  },
  {
   "cell_type": "code",
   "execution_count": null,
   "metadata": {},
   "outputs": [],
   "source": [
    "ques_all_df = ques_all_df.rename(columns={'finished_at':'datetime'})\n",
    "ques_all_df = ques_all_df[['datetime','user_id','activity','record_type_id','name','value']]\n",
    "ques_night_w = ques_all_df.query(\"activity==\t'夜のアンケート(平日)'\")\n",
    "ques_night_w_dams = ques_night_w.query(\"name==['はつらつとした', '暗い', '気がかりな', '嬉しい', '嫌な', '不安な', '楽しい', '沈んだ', '心配な']\")\n",
    "ques_night_w_bodyfatigue = ques_night_w.query(\"name==['頭がいたい', '手や指がいたい', 'めまいがする', '腕がだるい', '腰がいたい','気分がわるい','頭がぼんやりする', 'あくびがでる', 'ねむい', 'やる気がとぼしい', '横になりたい', '足がだるい','気がおもい', '肩がこる', '全身がだるい']\")\n",
    "ques_night_w_workenga = ques_night_w.query(\"name==['今、仕事をしていると、活力がみなぎるように感じる', '今、仕事に熱心である', '今、私は仕事にのめり込んでいる']\")\n",
    "ques_night_w_recover = ques_night_w.query(\"name==['仕事のことを忘れていた', 'リラックスできることをした']\")\n",
    "ques_night_w_productivity = ques_night_w.query(\"name==['新しいことを学んだ', '何をするか自分で決められた','今日一日の間のあなたの総合的なパフォーマンスをあなたはどのように評価しますか？同じ『0: 最悪のパフォーマンス』～ 『6: 最高のパフォーマンス』までの尺度上で、あてはまる選択肢を選択してください。','肉体的または精神的健康問題が理由で、終日または一部お休みしましたか。']\")\n",
    "ques_night_w_eval = ques_night_w.query(\"name==['業務に集中できていた', '効率的に業務ができた', '予定通りに業務ができた', '関係者と十分にコミュニケーションがとれた','関係者と効率的にコミュニケーションがとれた', '新たなアイデアが出た', '成果に結びついた']\")\n",
    "ques_night_w_review = ques_night_w.query(\"name=='本日１日を振り返っていかがでしたか。普段と異なることがありましたら自由にご記入下さい(任意) 例：出張だった、一日眠かった、上司に怒られた、大事なプレゼンがあった、夜ランニングをした、旅行に行ったなど'\")"
   ]
  },
  {
   "cell_type": "markdown",
   "metadata": {},
   "source": [
    "### dams"
   ]
  },
  {
   "cell_type": "code",
   "execution_count": 387,
   "metadata": {},
   "outputs": [
    {
     "name": "stderr",
     "output_type": "stream",
     "text": [
      "/usr/local/lib/python3.8/site-packages/pandas/core/indexing.py:1765: SettingWithCopyWarning: \n",
      "A value is trying to be set on a copy of a slice from a DataFrame.\n",
      "Try using .loc[row_indexer,col_indexer] = value instead\n",
      "\n",
      "See the caveats in the documentation: https://pandas.pydata.org/pandas-docs/stable/user_guide/indexing.html#returning-a-view-versus-a-copy\n",
      "  isetter(loc, value)\n"
     ]
    }
   ],
   "source": [
    "ques_night_w_dams.loc[ques_night_w_dams['value'] == '0: まったくあてはまらない1', 'value_dams'] = 0\n",
    "ques_night_w_dams.loc[ques_night_w_dams['value'] == '0: まったくあてはまらない', 'value_dams'] = 0\n",
    "ques_night_w_dams.loc[ques_night_w_dams['value'] == '1: かなりあてはまらない', 'value_dams'] = 1\n",
    "ques_night_w_dams.loc[ques_night_w_dams['value'] == '2: ややあてはまらない', 'value_dams'] = 2\n",
    "ques_night_w_dams.loc[ques_night_w_dams['value'] == '3: どちらともいえない', 'value_dams'] = 3\n",
    "ques_night_w_dams.loc[ques_night_w_dams['value'] == '4: ややあてはまる', 'value_dams'] = 4\n",
    "ques_night_w_dams.loc[ques_night_w_dams['value'] == '5: かなりあてはまる', 'value_dams'] = 5\n",
    "ques_night_w_dams.loc[ques_night_w_dams['value'] == '6: 非常によくあてはまる', 'value_dams'] = 6\n",
    "ques_night_w_dams = ques_night_w_dams.dropna(subset=['value'])\n",
    "# ques_night_w_dams.to_csv('./questionaire_data/ques_night_weekday/ques_night_w_dams.csv')"
   ]
  },
  {
   "cell_type": "markdown",
   "metadata": {},
   "source": [
    "### 身体疲労"
   ]
  },
  {
   "cell_type": "code",
   "execution_count": 389,
   "metadata": {},
   "outputs": [],
   "source": [
    "ques_night_w_bodyfatigue.loc[ques_night_w_bodyfatigue['value']=='0: まったくあてはまらない', 'value_bodyfatigue'] = 0\n",
    "ques_night_w_bodyfatigue.loc[ques_night_w_bodyfatigue['value']=='1: あてはまらない', 'value_bodyfatigue'] = 1\n",
    "ques_night_w_bodyfatigue.loc[ques_night_w_bodyfatigue['value']=='2: どちらともいえない', 'value_bodyfatigue'] = 2\n",
    "ques_night_w_bodyfatigue.loc[ques_night_w_bodyfatigue['value']=='3: あてはまる', 'value_bodyfatigue'] = 3\n",
    "ques_night_w_bodyfatigue.loc[ques_night_w_bodyfatigue['value']=='4: 非常にあてはまる', 'value_bodyfatigue'] = 4\n",
    "ques_night_w_bodyfatigue = ques_night_w_bodyfatigue.dropna(subset=['value','value_bodyfatigue'])\n",
    "# ques_night_w_bodyfatigue.to_csv('./questionaire_data/ques_night_weekday/ques_night_w_bodyfatigue.csv')"
   ]
  },
  {
   "cell_type": "markdown",
   "metadata": {},
   "source": [
    "### ワークエンゲージメント"
   ]
  },
  {
   "cell_type": "code",
   "execution_count": 393,
   "metadata": {},
   "outputs": [],
   "source": [
    "ques_night_w_workenga.loc[ques_night_w_workenga['value']=='0: まったく感じない', 'value_workenga'] = 0\n",
    "ques_night_w_workenga.loc[ques_night_w_workenga['value']=='1: ほとんど感じない', 'value_workenga'] = 1\n",
    "ques_night_w_workenga.loc[ques_night_w_workenga['value']=='2: あまり感じない', 'value_workenga'] = 2\n",
    "ques_night_w_workenga.loc[ques_night_w_workenga['value']=='3: どちらともいえない', 'value_workenga'] = 3\n",
    "ques_night_w_workenga.loc[ques_night_w_workenga['value']=='4: たまに感じる', 'value_workenga'] = 4\n",
    "ques_night_w_workenga.loc[ques_night_w_workenga['value']=='5: よく感じる', 'value_workenga'] = 5\n",
    "ques_night_w_workenga.loc[ques_night_w_workenga['value']=='6: いつも感じる', 'value_workenga'] = 6\n",
    "ques_night_w_workenga = ques_night_w_workenga.dropna(subset=['value'])\n",
    "# ques_night_w_workenga.to_csv('./questionaire_data/ques_night_weekday/ques_night_w_workenga.csv')"
   ]
  },
  {
   "cell_type": "markdown",
   "metadata": {},
   "source": [
    "### リカバリ"
   ]
  },
  {
   "cell_type": "code",
   "execution_count": 398,
   "metadata": {},
   "outputs": [],
   "source": [
    "ques_night_w_recover.loc[ques_night_w_recover['value'] == '0: まったくあてはまらない1', 'value_recover'] = 0\n",
    "ques_night_w_recover.loc[ques_night_w_recover['value'] == '0: まったくあてはまらない', 'value_recover'] = 0\n",
    "ques_night_w_recover.loc[ques_night_w_recover['value'] == '1: かなりあてはまらない', 'value_recover'] = 1\n",
    "ques_night_w_recover.loc[ques_night_w_recover['value'] == '2: ややあてはまらない', 'value_recover'] = 2\n",
    "ques_night_w_recover.loc[ques_night_w_recover['value'] == '3: どちらともいえない', 'value_recover'] = 3\n",
    "ques_night_w_recover.loc[ques_night_w_recover['value'] == '4: ややあてはまる', 'value_recover'] = 4\n",
    "ques_night_w_recover.loc[ques_night_w_recover['value'] == '5: かなりあてはまる', 'value_recover'] = 5\n",
    "ques_night_w_recover.loc[ques_night_w_recover['value'] == '6: 非常によくあてはまる', 'value_recover'] = 6\n",
    "ques_night_w_recover = ques_night_w_recover.dropna(subset=['value'])\n",
    "# ques_night_w_recover.to_csv('./questionaire_data/ques_night_weekday/ques_night_w_recover.csv')"
   ]
  },
  {
   "cell_type": "markdown",
   "metadata": {},
   "source": [
    "### 生産性"
   ]
  },
  {
   "cell_type": "code",
   "execution_count": 400,
   "metadata": {},
   "outputs": [
    {
     "data": {
      "text/plain": [
       "array(['0: まったくあてはまらない', '6: 非常によくあてはまる', '5: かなり良いパフォーマンス', 'いいえ',\n",
       "       '2: ややあてはまらない', '4: ややあてはまる', '4: やや良いパフォーマンス', nan,\n",
       "       '1: かなりあてはまらない', '3: どちらともいえない', '3: 普通', '2: やや悪いパフォーマンス',\n",
       "       '5: かなりあてはまる', '1: かなり悪いパフォーマンス', '6: 最も優れたパフォーマンス', 'はい',\n",
       "       '0: 最悪のパフォーマンス'], dtype=object)"
      ]
     },
     "execution_count": 400,
     "metadata": {},
     "output_type": "execute_result"
    }
   ],
   "source": [
    "ques_night_w_productivity['value'].unique()"
   ]
  },
  {
   "cell_type": "code",
   "execution_count": 405,
   "metadata": {},
   "outputs": [],
   "source": [
    "ques_night_w_productivity.loc[ques_night_w_productivity['value'] == '0: まったくあてはまらない1', 'value_productivity'] = 0\n",
    "ques_night_w_productivity.loc[ques_night_w_productivity['value'] == '0: まったくあてはまらない', 'value_productivity'] = 0\n",
    "ques_night_w_productivity.loc[ques_night_w_productivity['value'] == '1: かなりあてはまらない', 'value_productivity'] = 1\n",
    "ques_night_w_productivity.loc[ques_night_w_productivity['value'] == '2: ややあてはまらない', 'value_productivity'] = 2\n",
    "ques_night_w_productivity.loc[ques_night_w_productivity['value'] == '3: どちらともいえない', 'value_productivity'] = 3\n",
    "ques_night_w_productivity.loc[ques_night_w_productivity['value'] == '4: ややあてはまる', 'value_productivity'] = 4\n",
    "ques_night_w_productivity.loc[ques_night_w_productivity['value'] == '5: かなりあてはまる', 'value_productivity'] = 5\n",
    "ques_night_w_productivity.loc[ques_night_w_productivity['value'] == '6: 非常によくあてはまる', 'value_productivity'] = 6\n",
    "\n",
    "ques_night_w_productivity.loc[ques_night_w_productivity['value'] == '0: 最悪のパフォーマンス', 'value_productivity'] = 0\n",
    "ques_night_w_productivity.loc[ques_night_w_productivity['value'] == '1: かなり悪いパフォーマンス', 'value_productivity'] = 1\n",
    "ques_night_w_productivity.loc[ques_night_w_productivity['value'] == '2: やや悪いパフォーマンス', 'value_productivity'] = 2\n",
    "ques_night_w_productivity.loc[ques_night_w_productivity['value'] == '3: 普通', 'value_productivity'] = 3\n",
    "ques_night_w_productivity.loc[ques_night_w_productivity['value'] == '4: やや良いパフォーマンス', 'value_productivity'] = 4\n",
    "ques_night_w_productivity.loc[ques_night_w_productivity['value'] == '5: かなり良いパフォーマンス', 'value_productivity'] = 5\n",
    "ques_night_w_productivity.loc[ques_night_w_productivity['value'] == '6: 最も優れたパフォーマンス', 'value_productivity'] = 6\n",
    "\n",
    "ques_night_w_productivity.loc[ques_night_w_productivity['value'] == 'いいえ', 'value_productivity'] = 0\n",
    "ques_night_w_productivity.loc[ques_night_w_productivity['value'] == 'はい', 'value_productivity'] = 1\n",
    "\n",
    "ques_night_w_productivity = ques_night_w_productivity.dropna(subset=['value'])\n",
    "\n",
    "# ques_night_w_productivity.to_csv('./questionaire_data/ques_night_weekday/ques_night_w_productivity.csv')"
   ]
  },
  {
   "cell_type": "markdown",
   "metadata": {},
   "source": [
    "### 自己評価"
   ]
  },
  {
   "cell_type": "code",
   "execution_count": 407,
   "metadata": {},
   "outputs": [],
   "source": [
    "ques_night_w_eval.loc[ques_night_w_eval['value']=='0: まったくあてはまらない', 'value_eval'] = 0\n",
    "ques_night_w_eval.loc[ques_night_w_eval['value']=='1: あてはまらない', 'value_eval'] = 1\n",
    "ques_night_w_eval.loc[ques_night_w_eval['value']=='2: どちらともいえない', 'value_eval'] = 2\n",
    "ques_night_w_eval.loc[ques_night_w_eval['value']=='3: あてはまる', 'value_eval'] = 3\n",
    "ques_night_w_eval.loc[ques_night_w_eval['value']=='4: 非常によくあてはまる', 'value_eval'] = 4\n",
    "ques_night_w_eval = ques_evening_eval.dropna(subset=['value'])\n",
    "# ques_night_w_eval.to_csv('./questionaire_data/ques_night_weekday/ques_night_w_eval.csv')"
   ]
  },
  {
   "cell_type": "markdown",
   "metadata": {},
   "source": [
    "### 1日の振り返り"
   ]
  },
  {
   "cell_type": "code",
   "execution_count": 408,
   "metadata": {},
   "outputs": [
    {
     "data": {
      "text/html": [
       "<div>\n",
       "<style scoped>\n",
       "    .dataframe tbody tr th:only-of-type {\n",
       "        vertical-align: middle;\n",
       "    }\n",
       "\n",
       "    .dataframe tbody tr th {\n",
       "        vertical-align: top;\n",
       "    }\n",
       "\n",
       "    .dataframe thead th {\n",
       "        text-align: right;\n",
       "    }\n",
       "</style>\n",
       "<table border=\"1\" class=\"dataframe\">\n",
       "  <thead>\n",
       "    <tr style=\"text-align: right;\">\n",
       "      <th></th>\n",
       "      <th>datetime</th>\n",
       "      <th>user_id</th>\n",
       "      <th>activity</th>\n",
       "      <th>record_type_id</th>\n",
       "      <th>name</th>\n",
       "      <th>value</th>\n",
       "    </tr>\n",
       "  </thead>\n",
       "  <tbody>\n",
       "    <tr>\n",
       "      <th>1484</th>\n",
       "      <td>2021-01-07 12:07:00+00:00</td>\n",
       "      <td>42</td>\n",
       "      <td>夜のアンケート(平日)</td>\n",
       "      <td>191.0</td>\n",
       "      <td>本日１日を振り返っていかがでしたか。普段と異なることがありましたら自由にご記入下さい(任意)...</td>\n",
       "      <td>生理のためだるかった。</td>\n",
       "    </tr>\n",
       "    <tr>\n",
       "      <th>8250</th>\n",
       "      <td>2021-01-12 09:30:06+00:00</td>\n",
       "      <td>28</td>\n",
       "      <td>夜のアンケート(平日)</td>\n",
       "      <td>191.0</td>\n",
       "      <td>本日１日を振り返っていかがでしたか。普段と異なることがありましたら自由にご記入下さい(任意)...</td>\n",
       "      <td>の打ち合わせに時間がかかって</td>\n",
       "    </tr>\n",
       "    <tr>\n",
       "      <th>8402</th>\n",
       "      <td>2021-01-12 09:52:00+00:00</td>\n",
       "      <td>10</td>\n",
       "      <td>夜のアンケート(平日)</td>\n",
       "      <td>191.0</td>\n",
       "      <td>本日１日を振り返っていかがでしたか。普段と異なることがありましたら自由にご記入下さい(任意)...</td>\n",
       "      <td>会議で売上挽回の宿題を出された。</td>\n",
       "    </tr>\n",
       "    <tr>\n",
       "      <th>8455</th>\n",
       "      <td>2021-01-12 09:52:56.015000+00:00</td>\n",
       "      <td>18</td>\n",
       "      <td>夜のアンケート(平日)</td>\n",
       "      <td>191.0</td>\n",
       "      <td>本日１日を振り返っていかがでしたか。普段と異なることがありましたら自由にご記入下さい(任意)...</td>\n",
       "      <td>予定通りのパフォーマンスが達成出来た。</td>\n",
       "    </tr>\n",
       "    <tr>\n",
       "      <th>8508</th>\n",
       "      <td>2021-01-12 09:57:21+00:00</td>\n",
       "      <td>82</td>\n",
       "      <td>夜のアンケート(平日)</td>\n",
       "      <td>191.0</td>\n",
       "      <td>本日１日を振り返っていかがでしたか。普段と異なることがありましたら自由にご記入下さい(任意)...</td>\n",
       "      <td>普通だった</td>\n",
       "    </tr>\n",
       "    <tr>\n",
       "      <th>...</th>\n",
       "      <td>...</td>\n",
       "      <td>...</td>\n",
       "      <td>...</td>\n",
       "      <td>...</td>\n",
       "      <td>...</td>\n",
       "      <td>...</td>\n",
       "    </tr>\n",
       "    <tr>\n",
       "      <th>171122</th>\n",
       "      <td>2021-01-29 14:37:45.288000+00:00</td>\n",
       "      <td>103</td>\n",
       "      <td>夜のアンケート(平日)</td>\n",
       "      <td>191.0</td>\n",
       "      <td>本日１日を振り返っていかがでしたか。普段と異なることがありましたら自由にご記入下さい(任意)...</td>\n",
       "      <td>リモートで今月の実績の締めの作業を行いました。前年同月比でもさらに業績悪化でしたが、予想した...</td>\n",
       "    </tr>\n",
       "    <tr>\n",
       "      <th>171276</th>\n",
       "      <td>2021-01-29 14:39:25+00:00</td>\n",
       "      <td>29</td>\n",
       "      <td>夜のアンケート(平日)</td>\n",
       "      <td>191.0</td>\n",
       "      <td>本日１日を振り返っていかがでしたか。普段と異なることがありましたら自由にご記入下さい(任意)...</td>\n",
       "      <td>会議中眠くて居眠りしてしまった。</td>\n",
       "    </tr>\n",
       "    <tr>\n",
       "      <th>171815</th>\n",
       "      <td>2021-01-29 14:03:00+00:00</td>\n",
       "      <td>95</td>\n",
       "      <td>夜のアンケート(平日)</td>\n",
       "      <td>191.0</td>\n",
       "      <td>本日１日を振り返っていかがでしたか。普段と異なることがありましたら自由にご記入下さい(任意)...</td>\n",
       "      <td>月末だったのと、また月曜在宅勤務予定だったので仕事が忙しかった。夕方、娘や孫、私の妹が来て一...</td>\n",
       "    </tr>\n",
       "    <tr>\n",
       "      <th>171870</th>\n",
       "      <td>2021-01-30 18:53:00+00:00</td>\n",
       "      <td>33</td>\n",
       "      <td>夜のアンケート(平日)</td>\n",
       "      <td>191.0</td>\n",
       "      <td>本日１日を振り返っていかがでしたか。普段と異なることがありましたら自由にご記入下さい(任意)...</td>\n",
       "      <td>トラブルがあり、あまり仕事が進まなかった。</td>\n",
       "    </tr>\n",
       "    <tr>\n",
       "      <th>172086</th>\n",
       "      <td>2021-01-29 22:18:22.589000+00:00</td>\n",
       "      <td>23</td>\n",
       "      <td>夜のアンケート(平日)</td>\n",
       "      <td>191.0</td>\n",
       "      <td>本日１日を振り返っていかがでしたか。普段と異なることがありましたら自由にご記入下さい(任意)...</td>\n",
       "      <td>週末なので晩酌を楽しんだ。</td>\n",
       "    </tr>\n",
       "  </tbody>\n",
       "</table>\n",
       "<p>305 rows × 6 columns</p>\n",
       "</div>"
      ],
      "text/plain": [
       "                                datetime  user_id     activity  \\\n",
       "1484           2021-01-07 12:07:00+00:00       42  夜のアンケート(平日)   \n",
       "8250           2021-01-12 09:30:06+00:00       28  夜のアンケート(平日)   \n",
       "8402           2021-01-12 09:52:00+00:00       10  夜のアンケート(平日)   \n",
       "8455    2021-01-12 09:52:56.015000+00:00       18  夜のアンケート(平日)   \n",
       "8508           2021-01-12 09:57:21+00:00       82  夜のアンケート(平日)   \n",
       "...                                  ...      ...          ...   \n",
       "171122  2021-01-29 14:37:45.288000+00:00      103  夜のアンケート(平日)   \n",
       "171276         2021-01-29 14:39:25+00:00       29  夜のアンケート(平日)   \n",
       "171815         2021-01-29 14:03:00+00:00       95  夜のアンケート(平日)   \n",
       "171870         2021-01-30 18:53:00+00:00       33  夜のアンケート(平日)   \n",
       "172086  2021-01-29 22:18:22.589000+00:00       23  夜のアンケート(平日)   \n",
       "\n",
       "        record_type_id                                               name  \\\n",
       "1484             191.0  本日１日を振り返っていかがでしたか。普段と異なることがありましたら自由にご記入下さい(任意)...   \n",
       "8250             191.0  本日１日を振り返っていかがでしたか。普段と異なることがありましたら自由にご記入下さい(任意)...   \n",
       "8402             191.0  本日１日を振り返っていかがでしたか。普段と異なることがありましたら自由にご記入下さい(任意)...   \n",
       "8455             191.0  本日１日を振り返っていかがでしたか。普段と異なることがありましたら自由にご記入下さい(任意)...   \n",
       "8508             191.0  本日１日を振り返っていかがでしたか。普段と異なることがありましたら自由にご記入下さい(任意)...   \n",
       "...                ...                                                ...   \n",
       "171122           191.0  本日１日を振り返っていかがでしたか。普段と異なることがありましたら自由にご記入下さい(任意)...   \n",
       "171276           191.0  本日１日を振り返っていかがでしたか。普段と異なることがありましたら自由にご記入下さい(任意)...   \n",
       "171815           191.0  本日１日を振り返っていかがでしたか。普段と異なることがありましたら自由にご記入下さい(任意)...   \n",
       "171870           191.0  本日１日を振り返っていかがでしたか。普段と異なることがありましたら自由にご記入下さい(任意)...   \n",
       "172086           191.0  本日１日を振り返っていかがでしたか。普段と異なることがありましたら自由にご記入下さい(任意)...   \n",
       "\n",
       "                                                    value  \n",
       "1484                                          生理のためだるかった。  \n",
       "8250                                       の打ち合わせに時間がかかって  \n",
       "8402                                     会議で売上挽回の宿題を出された。  \n",
       "8455                                  予定通りのパフォーマンスが達成出来た。  \n",
       "8508                                                普通だった  \n",
       "...                                                   ...  \n",
       "171122  リモートで今月の実績の締めの作業を行いました。前年同月比でもさらに業績悪化でしたが、予想した...  \n",
       "171276                                   会議中眠くて居眠りしてしまった。  \n",
       "171815  月末だったのと、また月曜在宅勤務予定だったので仕事が忙しかった。夕方、娘や孫、私の妹が来て一...  \n",
       "171870                              トラブルがあり、あまり仕事が進まなかった。  \n",
       "172086                                      週末なので晩酌を楽しんだ。  \n",
       "\n",
       "[305 rows x 6 columns]"
      ]
     },
     "execution_count": 408,
     "metadata": {},
     "output_type": "execute_result"
    }
   ],
   "source": [
    "ques_night_w_review"
   ]
  },
  {
   "cell_type": "markdown",
   "metadata": {},
   "source": [
    "# 休日夜(dams, bodyfatigue)"
   ]
  },
  {
   "cell_type": "code",
   "execution_count": null,
   "metadata": {},
   "outputs": [],
   "source": []
  }
 ],
 "metadata": {
  "kernelspec": {
   "display_name": "Python 3",
   "language": "python",
   "name": "python3"
  },
  "language_info": {
   "codemirror_mode": {
    "name": "ipython",
    "version": 3
   },
   "file_extension": ".py",
   "mimetype": "text/x-python",
   "name": "python",
   "nbconvert_exporter": "python",
   "pygments_lexer": "ipython3",
   "version": "3.8.7"
  }
 },
 "nbformat": 4,
 "nbformat_minor": 4
}
