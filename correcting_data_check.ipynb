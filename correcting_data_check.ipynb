{
 "cells": [
  {
   "cell_type": "code",
   "execution_count": 1,
   "metadata": {
    "executionInfo": {
     "elapsed": 91101,
     "status": "ok",
     "timestamp": 1611037872653,
     "user": {
      "displayName": "yusuke nishimura",
      "photoUrl": "https://lh3.googleusercontent.com/a-/AOh14Ghrq_TkyOJEJDRGpGCznEgdmBYXopdVTn6bUfkc=s64",
      "userId": "06995382856569098223"
     },
     "user_tz": -540
    },
    "id": "QoFnYf_aSb-O"
   },
   "outputs": [],
   "source": [
    "from google.colab import auth\n",
    "auth.authenticate_user()"
   ]
  },
  {
   "cell_type": "code",
   "execution_count": 5,
   "metadata": {
    "executionInfo": {
     "elapsed": 22138,
     "status": "ok",
     "timestamp": 1611040293681,
     "user": {
      "displayName": "yusuke nishimura",
      "photoUrl": "https://lh3.googleusercontent.com/a-/AOh14Ghrq_TkyOJEJDRGpGCznEgdmBYXopdVTn6bUfkc=s64",
      "userId": "06995382856569098223"
     },
     "user_tz": -540
    },
    "id": "rvcEsG-BVY2H"
   },
   "outputs": [],
   "source": [
    "%%bigquery --project eneact-223811 df\n",
    "SELECT * FROM `eneact-223811.canact2021.all`;"
   ]
  },
  {
   "cell_type": "code",
   "execution_count": 8,
   "metadata": {
    "colab": {
     "base_uri": "https://localhost:8080/"
    },
    "executionInfo": {
     "elapsed": 766,
     "status": "ok",
     "timestamp": 1611040692102,
     "user": {
      "displayName": "yusuke nishimura",
      "photoUrl": "https://lh3.googleusercontent.com/a-/AOh14Ghrq_TkyOJEJDRGpGCznEgdmBYXopdVTn6bUfkc=s64",
      "userId": "06995382856569098223"
     },
     "user_tz": -540
    },
    "id": "d6N12viNgfRB",
    "outputId": "d2736205-b8dd-4916-db2f-398c04a837f1"
   },
   "outputs": [
    {
     "data": {
      "text/plain": [
       "Index(['local_id', 'activity_type_id', 'activity', 'activity_group',\n",
       "       'created_at', 'started_at', 'finished_at', 'deleted_at', 'user_id',\n",
       "       'user', 'user_tag', 'target_user_ids', 'customer_id', 'customer',\n",
       "       'floor', 'record_type_id', 'name', 'value'],\n",
       "      dtype='object')"
      ]
     },
     "execution_count": 8,
     "metadata": {
      "tags": []
     },
     "output_type": "execute_result"
    }
   ],
   "source": [
    "df.columns"
   ]
  },
  {
   "cell_type": "code",
   "execution_count": 31,
   "metadata": {
    "colab": {
     "base_uri": "https://localhost:8080/"
    },
    "executionInfo": {
     "elapsed": 797,
     "status": "ok",
     "timestamp": 1611044186301,
     "user": {
      "displayName": "yusuke nishimura",
      "photoUrl": "https://lh3.googleusercontent.com/a-/AOh14Ghrq_TkyOJEJDRGpGCznEgdmBYXopdVTn6bUfkc=s64",
      "userId": "06995382856569098223"
     },
     "user_tz": -540
    },
    "id": "JSo2NxvWWUyr",
    "outputId": "25c454e4-8916-4d7a-9de6-8695e80dbbf6"
   },
   "outputs": [
    {
     "name": "stdout",
     "output_type": "stream",
     "text": [
      "                                   local_id activity_type_id  ...      name value\n",
      "47041  f9090c47-8875-4b7e-8325-7720e97efa6e                1  ...      None  None\n",
      "59786  5c3d6a43-ccb0-4520-a7a6-7e89c9c0d067                1  ...      業務内容      \n",
      "59787  5c3d6a43-ccb0-4520-a7a6-7e89c9c0d067                1  ...   業務の位置付け      \n",
      "59788  5c3d6a43-ccb0-4520-a7a6-7e89c9c0d067                1  ...    業務の新規性      \n",
      "59789  5c3d6a43-ccb0-4520-a7a6-7e89c9c0d067                1  ...  業務における立場      \n",
      "...                                     ...              ...  ...       ...   ...\n",
      "85993  f5360286-4f35-4f0c-8e66-ffd4ec266364                3  ...      None  None\n",
      "86087  48aba255-bfe1-4a16-bd37-06c48bb32ad8                1  ...      None  None\n",
      "86088  9d7b6cd1-9429-4970-aa6d-2f97f0abc205                1  ...      None  None\n",
      "86126  86d1b87b-7f09-42c8-aee5-c582601528a3                6  ...      None  None\n",
      "86181  d43b027b-e4b4-4b5a-9840-118aad6236bc                7  ...      None  None\n",
      "\n",
      "[86273 rows x 18 columns]\n"
     ]
    }
   ],
   "source": [
    "date_df = df.sort_values('started_at')\n",
    "print(date_df)"
   ]
  },
  {
   "cell_type": "code",
   "execution_count": 32,
   "metadata": {
    "colab": {
     "base_uri": "https://localhost:8080/"
    },
    "executionInfo": {
     "elapsed": 699,
     "status": "ok",
     "timestamp": 1611044193448,
     "user": {
      "displayName": "yusuke nishimura",
      "photoUrl": "https://lh3.googleusercontent.com/a-/AOh14Ghrq_TkyOJEJDRGpGCznEgdmBYXopdVTn6bUfkc=s64",
      "userId": "06995382856569098223"
     },
     "user_tz": -540
    },
    "id": "GVes2r88XF2u",
    "outputId": "e324cc2b-d830-4104-baba-e2b0cf34cbc0"
   },
   "outputs": [
    {
     "name": "stdout",
     "output_type": "stream",
     "text": [
      "4929\n"
     ]
    },
    {
     "data": {
      "text/plain": [
       "4929"
      ]
     },
     "execution_count": 32,
     "metadata": {
      "tags": []
     },
     "output_type": "execute_result"
    }
   ],
   "source": [
    "print(date_df[\"name\"].isnull().sum())\n",
    "date_df[\"value\"].isnull().sum()"
   ]
  },
  {
   "cell_type": "code",
   "execution_count": 33,
   "metadata": {
    "executionInfo": {
     "elapsed": 3184,
     "status": "ok",
     "timestamp": 1611044197530,
     "user": {
      "displayName": "yusuke nishimura",
      "photoUrl": "https://lh3.googleusercontent.com/a-/AOh14Ghrq_TkyOJEJDRGpGCznEgdmBYXopdVTn6bUfkc=s64",
      "userId": "06995382856569098223"
     },
     "user_tz": -540
    },
    "id": "SvBGs4wojLVf"
   },
   "outputs": [],
   "source": [
    "# date_df.to_csv(\"/content/drive/MyDrive/Colab Notebooks/research/date_canact_0119.csv\")"
   ]
  },
  {
   "cell_type": "code",
   "execution_count": 2,
   "metadata": {
    "executionInfo": {
     "elapsed": 2083,
     "status": "ok",
     "timestamp": 1611116079563,
     "user": {
      "displayName": "yusuke nishimura",
      "photoUrl": "https://lh3.googleusercontent.com/a-/AOh14Ghrq_TkyOJEJDRGpGCznEgdmBYXopdVTn6bUfkc=s64",
      "userId": "06995382856569098223"
     },
     "user_tz": -540
    },
    "id": "3e9i7zAbov4k"
   },
   "outputs": [],
   "source": [
    "import pandas as pd\n",
    "df = pd.read_csv('/content/drive/MyDrive/Colab Notebooks/research/date_canact_0119.csv')"
   ]
  },
  {
   "cell_type": "code",
   "execution_count": 14,
   "metadata": {
    "colab": {
     "base_uri": "https://localhost:8080/"
    },
    "executionInfo": {
     "elapsed": 1073,
     "status": "ok",
     "timestamp": 1611117083464,
     "user": {
      "displayName": "yusuke nishimura",
      "photoUrl": "https://lh3.googleusercontent.com/a-/AOh14Ghrq_TkyOJEJDRGpGCznEgdmBYXopdVTn6bUfkc=s64",
      "userId": "06995382856569098223"
     },
     "user_tz": -540
    },
    "id": "5hgFiSfn_3WU",
    "outputId": "7a6c2628-880e-400a-ca8c-11704a5abaa4"
   },
   "outputs": [
    {
     "data": {
      "text/plain": [
       "0        2020-11-21 08:32:13.351000+00:00\n",
       "1        2020-11-21 08:32:14.329000+00:00\n",
       "2        2020-11-21 08:32:14.329000+00:00\n",
       "3        2020-11-21 08:32:14.329000+00:00\n",
       "4        2020-11-21 08:32:14.329000+00:00\n",
       "                       ...               \n",
       "86266                                 NaN\n",
       "86267                                 NaN\n",
       "86268                                 NaN\n",
       "86271                                 NaN\n",
       "86272                                 NaN\n",
       "Name: started_at, Length: 84985, dtype: object"
      ]
     },
     "execution_count": 14,
     "metadata": {
      "tags": []
     },
     "output_type": "execute_result"
    }
   ],
   "source": [
    "df = df[df['user'] != 'nishimura']\n"
   ]
  },
  {
   "cell_type": "code",
   "execution_count": 40,
   "metadata": {
    "executionInfo": {
     "elapsed": 722,
     "status": "ok",
     "timestamp": 1611119983553,
     "user": {
      "displayName": "yusuke nishimura",
      "photoUrl": "https://lh3.googleusercontent.com/a-/AOh14Ghrq_TkyOJEJDRGpGCznEgdmBYXopdVTn6bUfkc=s64",
      "userId": "06995382856569098223"
     },
     "user_tz": -540
    },
    "id": "Kry-Kr_8CRLu"
   },
   "outputs": [],
   "source": [
    "import datetime\n",
    "df['started_at'] = df['started_at'].astype('datetime64')\n",
    "# a = pd.to_datetime(df['started_at'])\n",
    "df['date'] = df['started_at'].dt.date\n",
    "# date_sum = df['started_at'].resample('1D').sum()\n"
   ]
  },
  {
   "cell_type": "code",
   "execution_count": 52,
   "metadata": {
    "colab": {
     "base_uri": "https://localhost:8080/",
     "height": 837
    },
    "executionInfo": {
     "elapsed": 582,
     "status": "ok",
     "timestamp": 1611121022872,
     "user": {
      "displayName": "yusuke nishimura",
      "photoUrl": "https://lh3.googleusercontent.com/a-/AOh14Ghrq_TkyOJEJDRGpGCznEgdmBYXopdVTn6bUfkc=s64",
      "userId": "06995382856569098223"
     },
     "user_tz": -540
    },
    "id": "Zdgc_mUxAHmG",
    "outputId": "0d663e3c-d076-4aed-a264-cab2f770f695"
   },
   "outputs": [
    {
     "data": {
      "text/html": [
       "<div>\n",
       "<style scoped>\n",
       "    .dataframe tbody tr th:only-of-type {\n",
       "        vertical-align: middle;\n",
       "    }\n",
       "\n",
       "    .dataframe tbody tr th {\n",
       "        vertical-align: top;\n",
       "    }\n",
       "\n",
       "    .dataframe thead th {\n",
       "        text-align: right;\n",
       "    }\n",
       "</style>\n",
       "<table border=\"1\" class=\"dataframe\">\n",
       "  <thead>\n",
       "    <tr style=\"text-align: right;\">\n",
       "      <th></th>\n",
       "      <th>Unnamed: 0</th>\n",
       "      <th>local_id</th>\n",
       "      <th>activity_type_id</th>\n",
       "      <th>activity</th>\n",
       "      <th>activity_group</th>\n",
       "      <th>created_at</th>\n",
       "      <th>started_at</th>\n",
       "      <th>finished_at</th>\n",
       "      <th>deleted_at</th>\n",
       "      <th>user_id</th>\n",
       "      <th>user</th>\n",
       "      <th>user_tag</th>\n",
       "      <th>target_user_ids</th>\n",
       "      <th>customer_id</th>\n",
       "      <th>customer</th>\n",
       "      <th>floor</th>\n",
       "      <th>record_type_id</th>\n",
       "      <th>name</th>\n",
       "      <th>value</th>\n",
       "    </tr>\n",
       "    <tr>\n",
       "      <th>date</th>\n",
       "      <th></th>\n",
       "      <th></th>\n",
       "      <th></th>\n",
       "      <th></th>\n",
       "      <th></th>\n",
       "      <th></th>\n",
       "      <th></th>\n",
       "      <th></th>\n",
       "      <th></th>\n",
       "      <th></th>\n",
       "      <th></th>\n",
       "      <th></th>\n",
       "      <th></th>\n",
       "      <th></th>\n",
       "      <th></th>\n",
       "      <th></th>\n",
       "      <th></th>\n",
       "      <th></th>\n",
       "      <th></th>\n",
       "    </tr>\n",
       "  </thead>\n",
       "  <tbody>\n",
       "    <tr>\n",
       "      <th>2021-01-05</th>\n",
       "      <td>584</td>\n",
       "      <td>584</td>\n",
       "      <td>584</td>\n",
       "      <td>584</td>\n",
       "      <td>584</td>\n",
       "      <td>584</td>\n",
       "      <td>584</td>\n",
       "      <td>569</td>\n",
       "      <td>158</td>\n",
       "      <td>584</td>\n",
       "      <td>584</td>\n",
       "      <td>0</td>\n",
       "      <td>584</td>\n",
       "      <td>0</td>\n",
       "      <td>0</td>\n",
       "      <td>0</td>\n",
       "      <td>550</td>\n",
       "      <td>550</td>\n",
       "      <td>358</td>\n",
       "    </tr>\n",
       "    <tr>\n",
       "      <th>2021-01-06</th>\n",
       "      <td>2269</td>\n",
       "      <td>2269</td>\n",
       "      <td>2269</td>\n",
       "      <td>2269</td>\n",
       "      <td>2269</td>\n",
       "      <td>2269</td>\n",
       "      <td>2269</td>\n",
       "      <td>2261</td>\n",
       "      <td>685</td>\n",
       "      <td>2269</td>\n",
       "      <td>2269</td>\n",
       "      <td>0</td>\n",
       "      <td>2269</td>\n",
       "      <td>0</td>\n",
       "      <td>0</td>\n",
       "      <td>0</td>\n",
       "      <td>2145</td>\n",
       "      <td>2145</td>\n",
       "      <td>1325</td>\n",
       "    </tr>\n",
       "    <tr>\n",
       "      <th>2021-01-07</th>\n",
       "      <td>6585</td>\n",
       "      <td>6585</td>\n",
       "      <td>6585</td>\n",
       "      <td>6585</td>\n",
       "      <td>6585</td>\n",
       "      <td>6585</td>\n",
       "      <td>6585</td>\n",
       "      <td>6566</td>\n",
       "      <td>1121</td>\n",
       "      <td>6585</td>\n",
       "      <td>6585</td>\n",
       "      <td>0</td>\n",
       "      <td>6585</td>\n",
       "      <td>0</td>\n",
       "      <td>0</td>\n",
       "      <td>0</td>\n",
       "      <td>6281</td>\n",
       "      <td>6281</td>\n",
       "      <td>4481</td>\n",
       "    </tr>\n",
       "    <tr>\n",
       "      <th>2021-01-08</th>\n",
       "      <td>5039</td>\n",
       "      <td>5039</td>\n",
       "      <td>5039</td>\n",
       "      <td>5039</td>\n",
       "      <td>5039</td>\n",
       "      <td>5039</td>\n",
       "      <td>5039</td>\n",
       "      <td>5026</td>\n",
       "      <td>730</td>\n",
       "      <td>5039</td>\n",
       "      <td>5039</td>\n",
       "      <td>0</td>\n",
       "      <td>5039</td>\n",
       "      <td>0</td>\n",
       "      <td>0</td>\n",
       "      <td>0</td>\n",
       "      <td>4845</td>\n",
       "      <td>4845</td>\n",
       "      <td>3546</td>\n",
       "    </tr>\n",
       "    <tr>\n",
       "      <th>2021-01-09</th>\n",
       "      <td>974</td>\n",
       "      <td>974</td>\n",
       "      <td>974</td>\n",
       "      <td>974</td>\n",
       "      <td>974</td>\n",
       "      <td>974</td>\n",
       "      <td>974</td>\n",
       "      <td>974</td>\n",
       "      <td>322</td>\n",
       "      <td>974</td>\n",
       "      <td>974</td>\n",
       "      <td>0</td>\n",
       "      <td>974</td>\n",
       "      <td>0</td>\n",
       "      <td>0</td>\n",
       "      <td>0</td>\n",
       "      <td>927</td>\n",
       "      <td>927</td>\n",
       "      <td>521</td>\n",
       "    </tr>\n",
       "    <tr>\n",
       "      <th>2021-01-10</th>\n",
       "      <td>419</td>\n",
       "      <td>419</td>\n",
       "      <td>419</td>\n",
       "      <td>419</td>\n",
       "      <td>419</td>\n",
       "      <td>419</td>\n",
       "      <td>419</td>\n",
       "      <td>418</td>\n",
       "      <td>98</td>\n",
       "      <td>419</td>\n",
       "      <td>419</td>\n",
       "      <td>0</td>\n",
       "      <td>419</td>\n",
       "      <td>0</td>\n",
       "      <td>0</td>\n",
       "      <td>0</td>\n",
       "      <td>362</td>\n",
       "      <td>362</td>\n",
       "      <td>269</td>\n",
       "    </tr>\n",
       "    <tr>\n",
       "      <th>2021-01-11</th>\n",
       "      <td>3253</td>\n",
       "      <td>3253</td>\n",
       "      <td>3253</td>\n",
       "      <td>3253</td>\n",
       "      <td>3253</td>\n",
       "      <td>3253</td>\n",
       "      <td>3253</td>\n",
       "      <td>3242</td>\n",
       "      <td>676</td>\n",
       "      <td>3253</td>\n",
       "      <td>3253</td>\n",
       "      <td>0</td>\n",
       "      <td>3253</td>\n",
       "      <td>0</td>\n",
       "      <td>0</td>\n",
       "      <td>0</td>\n",
       "      <td>3102</td>\n",
       "      <td>3102</td>\n",
       "      <td>2285</td>\n",
       "    </tr>\n",
       "    <tr>\n",
       "      <th>2021-01-12</th>\n",
       "      <td>12765</td>\n",
       "      <td>12765</td>\n",
       "      <td>12765</td>\n",
       "      <td>12765</td>\n",
       "      <td>12765</td>\n",
       "      <td>12765</td>\n",
       "      <td>12765</td>\n",
       "      <td>12674</td>\n",
       "      <td>1464</td>\n",
       "      <td>12765</td>\n",
       "      <td>12765</td>\n",
       "      <td>0</td>\n",
       "      <td>12765</td>\n",
       "      <td>0</td>\n",
       "      <td>0</td>\n",
       "      <td>0</td>\n",
       "      <td>12294</td>\n",
       "      <td>12294</td>\n",
       "      <td>9918</td>\n",
       "    </tr>\n",
       "    <tr>\n",
       "      <th>2021-01-13</th>\n",
       "      <td>12304</td>\n",
       "      <td>12304</td>\n",
       "      <td>12304</td>\n",
       "      <td>12304</td>\n",
       "      <td>12304</td>\n",
       "      <td>12302</td>\n",
       "      <td>12304</td>\n",
       "      <td>12271</td>\n",
       "      <td>1221</td>\n",
       "      <td>12304</td>\n",
       "      <td>12304</td>\n",
       "      <td>0</td>\n",
       "      <td>12304</td>\n",
       "      <td>0</td>\n",
       "      <td>0</td>\n",
       "      <td>0</td>\n",
       "      <td>11876</td>\n",
       "      <td>11876</td>\n",
       "      <td>9613</td>\n",
       "    </tr>\n",
       "    <tr>\n",
       "      <th>2021-01-14</th>\n",
       "      <td>11303</td>\n",
       "      <td>11303</td>\n",
       "      <td>11303</td>\n",
       "      <td>11303</td>\n",
       "      <td>11303</td>\n",
       "      <td>11303</td>\n",
       "      <td>11303</td>\n",
       "      <td>11291</td>\n",
       "      <td>969</td>\n",
       "      <td>11303</td>\n",
       "      <td>11303</td>\n",
       "      <td>0</td>\n",
       "      <td>11303</td>\n",
       "      <td>0</td>\n",
       "      <td>0</td>\n",
       "      <td>0</td>\n",
       "      <td>10844</td>\n",
       "      <td>10844</td>\n",
       "      <td>8856</td>\n",
       "    </tr>\n",
       "    <tr>\n",
       "      <th>2021-01-15</th>\n",
       "      <td>9967</td>\n",
       "      <td>9967</td>\n",
       "      <td>9967</td>\n",
       "      <td>9967</td>\n",
       "      <td>9967</td>\n",
       "      <td>9967</td>\n",
       "      <td>9967</td>\n",
       "      <td>9950</td>\n",
       "      <td>661</td>\n",
       "      <td>9967</td>\n",
       "      <td>9967</td>\n",
       "      <td>0</td>\n",
       "      <td>9967</td>\n",
       "      <td>0</td>\n",
       "      <td>0</td>\n",
       "      <td>0</td>\n",
       "      <td>9594</td>\n",
       "      <td>9594</td>\n",
       "      <td>7994</td>\n",
       "    </tr>\n",
       "    <tr>\n",
       "      <th>2021-01-16</th>\n",
       "      <td>3933</td>\n",
       "      <td>3933</td>\n",
       "      <td>3933</td>\n",
       "      <td>3933</td>\n",
       "      <td>3933</td>\n",
       "      <td>3933</td>\n",
       "      <td>3933</td>\n",
       "      <td>3931</td>\n",
       "      <td>502</td>\n",
       "      <td>3933</td>\n",
       "      <td>3933</td>\n",
       "      <td>0</td>\n",
       "      <td>3933</td>\n",
       "      <td>0</td>\n",
       "      <td>0</td>\n",
       "      <td>0</td>\n",
       "      <td>3703</td>\n",
       "      <td>3703</td>\n",
       "      <td>2993</td>\n",
       "    </tr>\n",
       "    <tr>\n",
       "      <th>2021-01-17</th>\n",
       "      <td>5137</td>\n",
       "      <td>5137</td>\n",
       "      <td>5137</td>\n",
       "      <td>5137</td>\n",
       "      <td>5137</td>\n",
       "      <td>5137</td>\n",
       "      <td>5137</td>\n",
       "      <td>5135</td>\n",
       "      <td>814</td>\n",
       "      <td>5137</td>\n",
       "      <td>5137</td>\n",
       "      <td>0</td>\n",
       "      <td>5137</td>\n",
       "      <td>0</td>\n",
       "      <td>0</td>\n",
       "      <td>0</td>\n",
       "      <td>4815</td>\n",
       "      <td>4815</td>\n",
       "      <td>3726</td>\n",
       "    </tr>\n",
       "    <tr>\n",
       "      <th>2021-01-18</th>\n",
       "      <td>5616</td>\n",
       "      <td>5616</td>\n",
       "      <td>5616</td>\n",
       "      <td>5616</td>\n",
       "      <td>5616</td>\n",
       "      <td>5579</td>\n",
       "      <td>5616</td>\n",
       "      <td>5511</td>\n",
       "      <td>319</td>\n",
       "      <td>5616</td>\n",
       "      <td>5616</td>\n",
       "      <td>0</td>\n",
       "      <td>5616</td>\n",
       "      <td>0</td>\n",
       "      <td>0</td>\n",
       "      <td>0</td>\n",
       "      <td>5330</td>\n",
       "      <td>5330</td>\n",
       "      <td>4390</td>\n",
       "    </tr>\n",
       "    <tr>\n",
       "      <th>2021-01-19</th>\n",
       "      <td>21</td>\n",
       "      <td>21</td>\n",
       "      <td>21</td>\n",
       "      <td>21</td>\n",
       "      <td>21</td>\n",
       "      <td>6</td>\n",
       "      <td>21</td>\n",
       "      <td>12</td>\n",
       "      <td>1</td>\n",
       "      <td>21</td>\n",
       "      <td>21</td>\n",
       "      <td>0</td>\n",
       "      <td>21</td>\n",
       "      <td>0</td>\n",
       "      <td>0</td>\n",
       "      <td>0</td>\n",
       "      <td>0</td>\n",
       "      <td>0</td>\n",
       "      <td>0</td>\n",
       "    </tr>\n",
       "  </tbody>\n",
       "</table>\n",
       "</div>"
      ],
      "text/plain": [
       "            Unnamed: 0  local_id  ...   name  value\n",
       "date                              ...              \n",
       "2021-01-05         584       584  ...    550    358\n",
       "2021-01-06        2269      2269  ...   2145   1325\n",
       "2021-01-07        6585      6585  ...   6281   4481\n",
       "2021-01-08        5039      5039  ...   4845   3546\n",
       "2021-01-09         974       974  ...    927    521\n",
       "2021-01-10         419       419  ...    362    269\n",
       "2021-01-11        3253      3253  ...   3102   2285\n",
       "2021-01-12       12765     12765  ...  12294   9918\n",
       "2021-01-13       12304     12304  ...  11876   9613\n",
       "2021-01-14       11303     11303  ...  10844   8856\n",
       "2021-01-15        9967      9967  ...   9594   7994\n",
       "2021-01-16        3933      3933  ...   3703   2993\n",
       "2021-01-17        5137      5137  ...   4815   3726\n",
       "2021-01-18        5616      5616  ...   5330   4390\n",
       "2021-01-19          21        21  ...      0      0\n",
       "\n",
       "[15 rows x 19 columns]"
      ]
     },
     "execution_count": 52,
     "metadata": {
      "tags": []
     },
     "output_type": "execute_result"
    }
   ],
   "source": [
    "df_count = df[df['started_at'] > '2021-01-05']\n",
    "df_count = df_count.groupby('date').count()\n",
    "df_count"
   ]
  },
  {
   "cell_type": "markdown",
   "metadata": {
    "id": "EcmXj-38TEoO"
   },
   "source": [
    "# 収集されたデータ数"
   ]
  },
  {
   "cell_type": "code",
   "execution_count": 51,
   "metadata": {
    "colab": {
     "base_uri": "https://localhost:8080/",
     "height": 344
    },
    "executionInfo": {
     "elapsed": 722,
     "status": "ok",
     "timestamp": 1611120942175,
     "user": {
      "displayName": "yusuke nishimura",
      "photoUrl": "https://lh3.googleusercontent.com/a-/AOh14Ghrq_TkyOJEJDRGpGCznEgdmBYXopdVTn6bUfkc=s64",
      "userId": "06995382856569098223"
     },
     "user_tz": -540
    },
    "id": "UHXKv3-6NEmB",
    "outputId": "51fbe36a-2558-4e36-fb0f-95da062eda6c"
   },
   "outputs": [
    {
     "data": {
      "text/plain": [
       "<matplotlib.axes._subplots.AxesSubplot at 0x7f54a529a940>"
      ]
     },
     "execution_count": 51,
     "metadata": {
      "tags": []
     },
     "output_type": "execute_result"
    },
    {
     "data": {
      "image/png": "[encoded data removed]",
      "text/plain": [
       "<Figure size 432x288 with 1 Axes>"
      ]
     },
     "metadata": {
      "needs_background": "light",
      "tags": []
     },
     "output_type": "display_data"
    }
   ],
   "source": [
    "import matplotlib.pyplot as plt\n",
    "df_count['activity_type_id'].plot.bar()"
   ]
  },
  {
   "cell_type": "markdown",
   "metadata": {
    "id": "or7Tm1o1TSNI"
   },
   "source": [
    "# アンケートの回答数"
   ]
  },
  {
   "cell_type": "code",
   "execution_count": 64,
   "metadata": {
    "executionInfo": {
     "elapsed": 545,
     "status": "ok",
     "timestamp": 1611122819520,
     "user": {
      "displayName": "yusuke nishimura",
      "photoUrl": "https://lh3.googleusercontent.com/a-/AOh14Ghrq_TkyOJEJDRGpGCznEgdmBYXopdVTn6bUfkc=s64",
      "userId": "06995382856569098223"
     },
     "user_tz": -540
    },
    "id": "HyIhJoJxTZ87"
   },
   "outputs": [],
   "source": [
    "df = df[df['started_at'] > '2021-01-05']\n",
    "ques_mor = df[df['activity'] == \"朝のアンケート\"]\n",
    "ques_eve = df[df['activity'] == \"昼のアンケート\"]\n",
    "ques_night_holi = df[df['activity'] == \"夜のアンケート(休日)\"]\n",
    "ques_night = df[df['activity'] == \"夜のアンケート(平日)\"]\n",
    "\n",
    "ques_mor_count = ques_mor.groupby('date').count()\n",
    "ques_eve_count = ques_eve.groupby('date').count()\n",
    "ques_night_holi_count =  ques_night_holi.groupby('date').count()\n",
    "ques_night_count = ques_night.groupby('date').count()"
   ]
  },
  {
   "cell_type": "code",
   "execution_count": 78,
   "metadata": {
    "colab": {
     "base_uri": "https://localhost:8080/",
     "height": 344
    },
    "executionInfo": {
     "elapsed": 678,
     "status": "ok",
     "timestamp": 1611123409693,
     "user": {
      "displayName": "yusuke nishimura",
      "photoUrl": "https://lh3.googleusercontent.com/a-/AOh14Ghrq_TkyOJEJDRGpGCznEgdmBYXopdVTn6bUfkc=s64",
      "userId": "06995382856569098223"
     },
     "user_tz": -540
    },
    "id": "N91347umUO58",
    "outputId": "54130d8f-d1e4-439b-96d4-a1760f6608e3"
   },
   "outputs": [
    {
     "data": {
      "text/plain": [
       "<matplotlib.axes._subplots.AxesSubplot at 0x7f54a3ceeb00>"
      ]
     },
     "execution_count": 78,
     "metadata": {
      "tags": []
     },
     "output_type": "execute_result"
    },
    {
     "data": {
      "image/png": "[encoded data removed]",
      "text/plain": [
       "<Figure size 432x288 with 1 Axes>"
      ]
     },
     "metadata": {
      "needs_background": "light",
      "tags": []
     },
     "output_type": "display_data"
    }
   ],
   "source": [
    "ques_mor_count['activity_type_id'].plot.bar(color='#55b3b1')"
   ]
  },
  {
   "cell_type": "code",
   "execution_count": 77,
   "metadata": {
    "colab": {
     "base_uri": "https://localhost:8080/",
     "height": 344
    },
    "executionInfo": {
     "elapsed": 787,
     "status": "ok",
     "timestamp": 1611123384294,
     "user": {
      "displayName": "yusuke nishimura",
      "photoUrl": "https://lh3.googleusercontent.com/a-/AOh14Ghrq_TkyOJEJDRGpGCznEgdmBYXopdVTn6bUfkc=s64",
      "userId": "06995382856569098223"
     },
     "user_tz": -540
    },
    "id": "PhqyvjF8WVqb",
    "outputId": "e4dc52e8-a123-4897-e5b6-180a7ce301f9"
   },
   "outputs": [
    {
     "data": {
      "text/plain": [
       "<matplotlib.axes._subplots.AxesSubplot at 0x7f54a43da5f8>"
      ]
     },
     "execution_count": 77,
     "metadata": {
      "tags": []
     },
     "output_type": "execute_result"
    },
    {
     "data": {
      "image/png": "[encoded data removed]",
      "text/plain": [
       "<Figure size 432x288 with 1 Axes>"
      ]
     },
     "metadata": {
      "needs_background": "light",
      "tags": []
     },
     "output_type": "display_data"
    }
   ],
   "source": [
    "ques_eve_count['activity_type_id'].plot.bar(color='#f6c065')"
   ]
  },
  {
   "cell_type": "code",
   "execution_count": 80,
   "metadata": {
    "colab": {
     "base_uri": "https://localhost:8080/",
     "height": 344
    },
    "executionInfo": {
     "elapsed": 592,
     "status": "ok",
     "timestamp": 1611123456810,
     "user": {
      "displayName": "yusuke nishimura",
      "photoUrl": "https://lh3.googleusercontent.com/a-/AOh14Ghrq_TkyOJEJDRGpGCznEgdmBYXopdVTn6bUfkc=s64",
      "userId": "06995382856569098223"
     },
     "user_tz": -540
    },
    "id": "pyFtmET4aBde",
    "outputId": "f1ab3b3e-6dc4-4a2f-ab83-8bc4061514c4"
   },
   "outputs": [
    {
     "data": {
      "text/plain": [
       "<matplotlib.axes._subplots.AxesSubplot at 0x7f54a3bac080>"
      ]
     },
     "execution_count": 80,
     "metadata": {
      "tags": []
     },
     "output_type": "execute_result"
    },
    {
     "data": {
      "image/png": "[encoded data removed]",
      "text/plain": [
       "<Figure size 432x288 with 1 Axes>"
      ]
     },
     "metadata": {
      "needs_background": "light",
      "tags": []
     },
     "output_type": "display_data"
    }
   ],
   "source": [
    "ques_night_holi_count['activity_type_id'].plot.bar(color='#0d335d')"
   ]
  },
  {
   "cell_type": "code",
   "execution_count": 74,
   "metadata": {
    "colab": {
     "base_uri": "https://localhost:8080/",
     "height": 344
    },
    "executionInfo": {
     "elapsed": 974,
     "status": "ok",
     "timestamp": 1611123284902,
     "user": {
      "displayName": "yusuke nishimura",
      "photoUrl": "https://lh3.googleusercontent.com/a-/AOh14Ghrq_TkyOJEJDRGpGCznEgdmBYXopdVTn6bUfkc=s64",
      "userId": "06995382856569098223"
     },
     "user_tz": -540
    },
    "id": "Ec_FEGQIaFfS",
    "outputId": "d2b5ae4b-0bf8-4917-9fca-fc1cee381b34"
   },
   "outputs": [
    {
     "data": {
      "text/plain": [
       "<matplotlib.axes._subplots.AxesSubplot at 0x7f54a3fa48d0>"
      ]
     },
     "execution_count": 74,
     "metadata": {
      "tags": []
     },
     "output_type": "execute_result"
    },
    {
     "data": {
      "image/png": "[encoded data removed]",
      "text/plain": [
       "<Figure size 432x288 with 1 Axes>"
      ]
     },
     "metadata": {
      "needs_background": "light",
      "tags": []
     },
     "output_type": "display_data"
    }
   ],
   "source": [
    "ques_night_count['activity_type_id'].plot.bar(color='#487e95')"
   ]
  },
  {
   "cell_type": "markdown",
   "metadata": {
    "id": "JzCGRqV5cYzo"
   },
   "source": [
    "# 個人ごとのデータ数"
   ]
  },
  {
   "cell_type": "code",
   "execution_count": 88,
   "metadata": {
    "colab": {
     "base_uri": "https://localhost:8080/",
     "height": 373
    },
    "executionInfo": {
     "elapsed": 1526,
     "status": "ok",
     "timestamp": 1611124029262,
     "user": {
      "displayName": "yusuke nishimura",
      "photoUrl": "https://lh3.googleusercontent.com/a-/AOh14Ghrq_TkyOJEJDRGpGCznEgdmBYXopdVTn6bUfkc=s64",
      "userId": "06995382856569098223"
     },
     "user_tz": -540
    },
    "id": "_uO-bhmvaRnB",
    "outputId": "32c4c4d9-df0f-47c7-bf27-beea96376caa"
   },
   "outputs": [
    {
     "data": {
      "text/plain": [
       "<matplotlib.axes._subplots.AxesSubplot at 0x7f54a3481d30>"
      ]
     },
     "execution_count": 88,
     "metadata": {
      "tags": []
     },
     "output_type": "execute_result"
    },
    {
     "data": {
      "image/png": "[encoded data removed]",
      "text/plain": [
       "<Figure size 1200x400 with 1 Axes>"
      ]
     },
     "metadata": {
      "needs_background": "light",
      "tags": []
     },
     "output_type": "display_data"
    }
   ],
   "source": [
    "df_id = df.groupby('user_id').count()\n",
    "plt.figure(figsize=(24, 8), dpi=50)\n",
    "df_id['activity_type_id'].plot.bar(color='#16c79a')"
   ]
  },
  {
   "cell_type": "code",
   "execution_count": 89,
   "metadata": {
    "colab": {
     "base_uri": "https://localhost:8080/",
     "height": 487
    },
    "executionInfo": {
     "elapsed": 837,
     "status": "ok",
     "timestamp": 1611124062994,
     "user": {
      "displayName": "yusuke nishimura",
      "photoUrl": "https://lh3.googleusercontent.com/a-/AOh14Ghrq_TkyOJEJDRGpGCznEgdmBYXopdVTn6bUfkc=s64",
      "userId": "06995382856569098223"
     },
     "user_tz": -540
    },
    "id": "Ji3p-JUac2XN",
    "outputId": "809e9e18-1929-4e2e-d0bf-2e438663ddbb"
   },
   "outputs": [
    {
     "data": {
      "text/html": [
       "<div>\n",
       "<style scoped>\n",
       "    .dataframe tbody tr th:only-of-type {\n",
       "        vertical-align: middle;\n",
       "    }\n",
       "\n",
       "    .dataframe tbody tr th {\n",
       "        vertical-align: top;\n",
       "    }\n",
       "\n",
       "    .dataframe thead th {\n",
       "        text-align: right;\n",
       "    }\n",
       "</style>\n",
       "<table border=\"1\" class=\"dataframe\">\n",
       "  <thead>\n",
       "    <tr style=\"text-align: right;\">\n",
       "      <th></th>\n",
       "      <th>Unnamed: 0</th>\n",
       "      <th>local_id</th>\n",
       "      <th>activity_type_id</th>\n",
       "      <th>activity</th>\n",
       "      <th>activity_group</th>\n",
       "      <th>created_at</th>\n",
       "      <th>started_at</th>\n",
       "      <th>finished_at</th>\n",
       "      <th>deleted_at</th>\n",
       "      <th>user</th>\n",
       "      <th>user_tag</th>\n",
       "      <th>target_user_ids</th>\n",
       "      <th>customer_id</th>\n",
       "      <th>customer</th>\n",
       "      <th>floor</th>\n",
       "      <th>record_type_id</th>\n",
       "      <th>name</th>\n",
       "      <th>value</th>\n",
       "      <th>date</th>\n",
       "    </tr>\n",
       "    <tr>\n",
       "      <th>user_id</th>\n",
       "      <th></th>\n",
       "      <th></th>\n",
       "      <th></th>\n",
       "      <th></th>\n",
       "      <th></th>\n",
       "      <th></th>\n",
       "      <th></th>\n",
       "      <th></th>\n",
       "      <th></th>\n",
       "      <th></th>\n",
       "      <th></th>\n",
       "      <th></th>\n",
       "      <th></th>\n",
       "      <th></th>\n",
       "      <th></th>\n",
       "      <th></th>\n",
       "      <th></th>\n",
       "      <th></th>\n",
       "      <th></th>\n",
       "    </tr>\n",
       "  </thead>\n",
       "  <tbody>\n",
       "    <tr>\n",
       "      <th>1</th>\n",
       "      <td>1</td>\n",
       "      <td>1</td>\n",
       "      <td>1</td>\n",
       "      <td>1</td>\n",
       "      <td>1</td>\n",
       "      <td>1</td>\n",
       "      <td>1</td>\n",
       "      <td>1</td>\n",
       "      <td>0</td>\n",
       "      <td>1</td>\n",
       "      <td>0</td>\n",
       "      <td>1</td>\n",
       "      <td>0</td>\n",
       "      <td>0</td>\n",
       "      <td>0</td>\n",
       "      <td>0</td>\n",
       "      <td>0</td>\n",
       "      <td>0</td>\n",
       "      <td>1</td>\n",
       "    </tr>\n",
       "    <tr>\n",
       "      <th>2</th>\n",
       "      <td>922</td>\n",
       "      <td>922</td>\n",
       "      <td>922</td>\n",
       "      <td>922</td>\n",
       "      <td>922</td>\n",
       "      <td>921</td>\n",
       "      <td>922</td>\n",
       "      <td>921</td>\n",
       "      <td>72</td>\n",
       "      <td>922</td>\n",
       "      <td>0</td>\n",
       "      <td>922</td>\n",
       "      <td>0</td>\n",
       "      <td>0</td>\n",
       "      <td>0</td>\n",
       "      <td>854</td>\n",
       "      <td>854</td>\n",
       "      <td>735</td>\n",
       "      <td>922</td>\n",
       "    </tr>\n",
       "    <tr>\n",
       "      <th>6</th>\n",
       "      <td>27</td>\n",
       "      <td>27</td>\n",
       "      <td>27</td>\n",
       "      <td>27</td>\n",
       "      <td>27</td>\n",
       "      <td>27</td>\n",
       "      <td>27</td>\n",
       "      <td>27</td>\n",
       "      <td>0</td>\n",
       "      <td>27</td>\n",
       "      <td>0</td>\n",
       "      <td>27</td>\n",
       "      <td>0</td>\n",
       "      <td>0</td>\n",
       "      <td>0</td>\n",
       "      <td>26</td>\n",
       "      <td>26</td>\n",
       "      <td>23</td>\n",
       "      <td>27</td>\n",
       "    </tr>\n",
       "    <tr>\n",
       "      <th>7</th>\n",
       "      <td>784</td>\n",
       "      <td>784</td>\n",
       "      <td>784</td>\n",
       "      <td>784</td>\n",
       "      <td>784</td>\n",
       "      <td>784</td>\n",
       "      <td>784</td>\n",
       "      <td>783</td>\n",
       "      <td>35</td>\n",
       "      <td>784</td>\n",
       "      <td>0</td>\n",
       "      <td>784</td>\n",
       "      <td>0</td>\n",
       "      <td>0</td>\n",
       "      <td>0</td>\n",
       "      <td>760</td>\n",
       "      <td>760</td>\n",
       "      <td>654</td>\n",
       "      <td>784</td>\n",
       "    </tr>\n",
       "    <tr>\n",
       "      <th>8</th>\n",
       "      <td>788</td>\n",
       "      <td>788</td>\n",
       "      <td>788</td>\n",
       "      <td>788</td>\n",
       "      <td>788</td>\n",
       "      <td>788</td>\n",
       "      <td>788</td>\n",
       "      <td>786</td>\n",
       "      <td>21</td>\n",
       "      <td>788</td>\n",
       "      <td>0</td>\n",
       "      <td>788</td>\n",
       "      <td>0</td>\n",
       "      <td>0</td>\n",
       "      <td>0</td>\n",
       "      <td>757</td>\n",
       "      <td>757</td>\n",
       "      <td>668</td>\n",
       "      <td>788</td>\n",
       "    </tr>\n",
       "    <tr>\n",
       "      <th>...</th>\n",
       "      <td>...</td>\n",
       "      <td>...</td>\n",
       "      <td>...</td>\n",
       "      <td>...</td>\n",
       "      <td>...</td>\n",
       "      <td>...</td>\n",
       "      <td>...</td>\n",
       "      <td>...</td>\n",
       "      <td>...</td>\n",
       "      <td>...</td>\n",
       "      <td>...</td>\n",
       "      <td>...</td>\n",
       "      <td>...</td>\n",
       "      <td>...</td>\n",
       "      <td>...</td>\n",
       "      <td>...</td>\n",
       "      <td>...</td>\n",
       "      <td>...</td>\n",
       "      <td>...</td>\n",
       "    </tr>\n",
       "    <tr>\n",
       "      <th>100</th>\n",
       "      <td>769</td>\n",
       "      <td>769</td>\n",
       "      <td>769</td>\n",
       "      <td>769</td>\n",
       "      <td>769</td>\n",
       "      <td>769</td>\n",
       "      <td>769</td>\n",
       "      <td>769</td>\n",
       "      <td>113</td>\n",
       "      <td>769</td>\n",
       "      <td>0</td>\n",
       "      <td>769</td>\n",
       "      <td>0</td>\n",
       "      <td>0</td>\n",
       "      <td>0</td>\n",
       "      <td>764</td>\n",
       "      <td>764</td>\n",
       "      <td>578</td>\n",
       "      <td>769</td>\n",
       "    </tr>\n",
       "    <tr>\n",
       "      <th>101</th>\n",
       "      <td>881</td>\n",
       "      <td>881</td>\n",
       "      <td>881</td>\n",
       "      <td>881</td>\n",
       "      <td>881</td>\n",
       "      <td>881</td>\n",
       "      <td>881</td>\n",
       "      <td>881</td>\n",
       "      <td>0</td>\n",
       "      <td>881</td>\n",
       "      <td>0</td>\n",
       "      <td>881</td>\n",
       "      <td>0</td>\n",
       "      <td>0</td>\n",
       "      <td>0</td>\n",
       "      <td>844</td>\n",
       "      <td>844</td>\n",
       "      <td>730</td>\n",
       "      <td>881</td>\n",
       "    </tr>\n",
       "    <tr>\n",
       "      <th>102</th>\n",
       "      <td>527</td>\n",
       "      <td>527</td>\n",
       "      <td>527</td>\n",
       "      <td>527</td>\n",
       "      <td>527</td>\n",
       "      <td>527</td>\n",
       "      <td>527</td>\n",
       "      <td>526</td>\n",
       "      <td>75</td>\n",
       "      <td>527</td>\n",
       "      <td>0</td>\n",
       "      <td>527</td>\n",
       "      <td>0</td>\n",
       "      <td>0</td>\n",
       "      <td>0</td>\n",
       "      <td>519</td>\n",
       "      <td>519</td>\n",
       "      <td>396</td>\n",
       "      <td>527</td>\n",
       "    </tr>\n",
       "    <tr>\n",
       "      <th>103</th>\n",
       "      <td>1161</td>\n",
       "      <td>1161</td>\n",
       "      <td>1161</td>\n",
       "      <td>1161</td>\n",
       "      <td>1161</td>\n",
       "      <td>1159</td>\n",
       "      <td>1161</td>\n",
       "      <td>1157</td>\n",
       "      <td>59</td>\n",
       "      <td>1161</td>\n",
       "      <td>0</td>\n",
       "      <td>1161</td>\n",
       "      <td>0</td>\n",
       "      <td>0</td>\n",
       "      <td>0</td>\n",
       "      <td>1073</td>\n",
       "      <td>1073</td>\n",
       "      <td>929</td>\n",
       "      <td>1161</td>\n",
       "    </tr>\n",
       "    <tr>\n",
       "      <th>104</th>\n",
       "      <td>1520</td>\n",
       "      <td>1520</td>\n",
       "      <td>1520</td>\n",
       "      <td>1520</td>\n",
       "      <td>1520</td>\n",
       "      <td>1520</td>\n",
       "      <td>1520</td>\n",
       "      <td>1519</td>\n",
       "      <td>200</td>\n",
       "      <td>1520</td>\n",
       "      <td>0</td>\n",
       "      <td>1520</td>\n",
       "      <td>0</td>\n",
       "      <td>0</td>\n",
       "      <td>0</td>\n",
       "      <td>1458</td>\n",
       "      <td>1458</td>\n",
       "      <td>1187</td>\n",
       "      <td>1520</td>\n",
       "    </tr>\n",
       "  </tbody>\n",
       "</table>\n",
       "<p>92 rows × 19 columns</p>\n",
       "</div>"
      ],
      "text/plain": [
       "         Unnamed: 0  local_id  activity_type_id  ...  name  value  date\n",
       "user_id                                          ...                   \n",
       "1                 1         1                 1  ...     0      0     1\n",
       "2               922       922               922  ...   854    735   922\n",
       "6                27        27                27  ...    26     23    27\n",
       "7               784       784               784  ...   760    654   784\n",
       "8               788       788               788  ...   757    668   788\n",
       "...             ...       ...               ...  ...   ...    ...   ...\n",
       "100             769       769               769  ...   764    578   769\n",
       "101             881       881               881  ...   844    730   881\n",
       "102             527       527               527  ...   519    396   527\n",
       "103            1161      1161              1161  ...  1073    929  1161\n",
       "104            1520      1520              1520  ...  1458   1187  1520\n",
       "\n",
       "[92 rows x 19 columns]"
      ]
     },
     "execution_count": 89,
     "metadata": {
      "tags": []
     },
     "output_type": "execute_result"
    }
   ],
   "source": [
    "df_id"
   ]
  },
  {
   "cell_type": "code",
   "execution_count": 90,
   "metadata": {
    "executionInfo": {
     "elapsed": 553,
     "status": "ok",
     "timestamp": 1611126600749,
     "user": {
      "displayName": "yusuke nishimura",
      "photoUrl": "https://lh3.googleusercontent.com/a-/AOh14Ghrq_TkyOJEJDRGpGCznEgdmBYXopdVTn6bUfkc=s64",
      "userId": "06995382856569098223"
     },
     "user_tz": -540
    },
    "id": "Mhn6MbBCejeB"
   },
   "outputs": [],
   "source": [
    "!echo \"# research_mental_prediction\" >> README.md"
   ]
  },
  {
   "cell_type": "code",
   "execution_count": 91,
   "metadata": {
    "colab": {
     "base_uri": "https://localhost:8080/"
    },
    "executionInfo": {
     "elapsed": 1456,
     "status": "ok",
     "timestamp": 1611126668207,
     "user": {
      "displayName": "yusuke nishimura",
      "photoUrl": "https://lh3.googleusercontent.com/a-/AOh14Ghrq_TkyOJEJDRGpGCznEgdmBYXopdVTn6bUfkc=s64",
      "userId": "06995382856569098223"
     },
     "user_tz": -540
    },
    "id": "tfsfCfRnoPDr",
    "outputId": "d25c0926-5a62-4ebc-8131-f58edba05b77"
   },
   "outputs": [
    {
     "name": "stdout",
     "output_type": "stream",
     "text": [
      "Initialized empty Git repository in /content/.git/\n",
      "\n",
      "*** Please tell me who you are.\n",
      "\n",
      "Run\n",
      "\n",
      "  git config --global user.email \"you@example.com\"\n",
      "  git config --global user.name \"Your Name\"\n",
      "\n",
      "to set your account's default identity.\n",
      "Omit --global to set the identity only in this repository.\n",
      "\n",
      "fatal: unable to auto-detect email address (got 'root@ca40aa1d1c62.(none)')\n",
      "error: refname refs/heads/master not found\n",
      "fatal: Branch rename failed\n",
      "error: src refspec main does not match any.\n",
      "error: failed to push some refs to 'https://github.com/yusukennn/research_mental_prediction.git'\n"
     ]
    }
   ],
   "source": [
    "!git init\n",
    "!git add README.md\n",
    "!git commit -m \"first commit\"\n",
    "!git branch -M main\n",
    "!git remote add origin https://github.com/yusukennn/research_mental_prediction.git\n"
   ]
  },
  {
   "cell_type": "code",
   "execution_count": 93,
   "metadata": {
    "colab": {
     "base_uri": "https://localhost:8080/"
    },
    "executionInfo": {
     "elapsed": 78204,
     "status": "ok",
     "timestamp": 1611126819134,
     "user": {
      "displayName": "yusuke nishimura",
      "photoUrl": "https://lh3.googleusercontent.com/a-/AOh14Ghrq_TkyOJEJDRGpGCznEgdmBYXopdVTn6bUfkc=s64",
      "userId": "06995382856569098223"
     },
     "user_tz": -540
    },
    "id": "iwXHWTeBofWg",
    "outputId": "b385d289-294e-45dd-feeb-5c2149c477cd"
   },
   "outputs": [
    {
     "name": "stdout",
     "output_type": "stream",
     "text": [
      "error: open(\"drive/MyDrive/22卒身上書＿人間_LeNhatTan.gsheet\"): Operation not supported\n",
      "error: unable to index file drive/MyDrive/22卒身上書＿人間_LeNhatTan.gsheet\n",
      "fatal: adding files failed\n",
      "\n",
      "*** Please tell me who you are.\n",
      "\n",
      "Run\n",
      "\n",
      "  git config --global user.email \"you@example.com\"\n",
      "  git config --global user.name \"Your Name\"\n",
      "\n",
      "to set your account's default identity.\n",
      "Omit --global to set the identity only in this repository.\n",
      "\n",
      "fatal: unable to auto-detect email address (got 'root@ca40aa1d1c62.(none)')\n",
      "error: src refspec master does not match any.\n",
      "error: failed to push some refs to 'https://github.com/yusukennn/research_mental_prediction.git'\n"
     ]
    }
   ],
   "source": [
    "!git add *\n",
    "!git commit -m \"first commit\"\n",
    "!git push -u origin master"
   ]
  },
  {
   "cell_type": "code",
   "execution_count": 97,
   "metadata": {
    "colab": {
     "base_uri": "https://localhost:8080/"
    },
    "executionInfo": {
     "elapsed": 779,
     "status": "ok",
     "timestamp": 1611127026638,
     "user": {
      "displayName": "yusuke nishimura",
      "photoUrl": "https://lh3.googleusercontent.com/a-/AOh14Ghrq_TkyOJEJDRGpGCznEgdmBYXopdVTn6bUfkc=s64",
      "userId": "06995382856569098223"
     },
     "user_tz": -540
    },
    "id": "B9sZer0PorQq",
    "outputId": "7de40a33-1198-4628-a9bb-fb94134b5bab"
   },
   "outputs": [
    {
     "name": "stdout",
     "output_type": "stream",
     "text": [
      "drive  README.md  sample_data\n"
     ]
    }
   ],
   "source": [
    "\n",
    "!cd drive "
   ]
  },
  {
   "cell_type": "code",
   "execution_count": 96,
   "metadata": {
    "colab": {
     "base_uri": "https://localhost:8080/"
    },
    "executionInfo": {
     "elapsed": 1076,
     "status": "ok",
     "timestamp": 1611127015076,
     "user": {
      "displayName": "yusuke nishimura",
      "photoUrl": "https://lh3.googleusercontent.com/a-/AOh14Ghrq_TkyOJEJDRGpGCznEgdmBYXopdVTn6bUfkc=s64",
      "userId": "06995382856569098223"
     },
     "user_tz": -540
    },
    "id": "otKbxw0mpqyl",
    "outputId": "29eecf5f-d93e-4170-c4f1-a45e8bfc29b7"
   },
   "outputs": [
    {
     "name": "stdout",
     "output_type": "stream",
     "text": [
      "drive  README.md  sample_data\n"
     ]
    }
   ],
   "source": []
  },
  {
   "cell_type": "code",
   "execution_count": null,
   "metadata": {
    "id": "rUgnYfXIp0Id"
   },
   "outputs": [],
   "source": []
  }
 ],
 "metadata": {
  "accelerator": "GPU",
  "colab": {
   "authorship_tag": "ABX9TyOl81yvKQOYAhFlaAzQmz1Z",
   "mount_file_id": "1eA7tU2bzlZ46rJlRdh066STombqgpFun",
   "name": "correcting_data_check.ipynb",
   "provenance": []
  },
  "kernelspec": {
   "display_name": "Python 3",
   "language": "python",
   "name": "python3"
  },
  "language_info": {
   "codemirror_mode": {
    "name": "ipython",
    "version": 3
   },
   "file_extension": ".py",
   "mimetype": "text/x-python",
   "name": "python",
   "nbconvert_exporter": "python",
   "pygments_lexer": "ipython3",
   "version": "3.8.7"
  }
 },
 "nbformat": 4,
 "nbformat_minor": 4
}
