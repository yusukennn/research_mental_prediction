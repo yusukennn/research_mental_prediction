{
 "cells": [
  {
   "cell_type": "code",
   "execution_count": 10,
   "metadata": {},
   "outputs": [],
   "source": [
    "import pandas as pd\n",
    "import datetime as dt"
   ]
  },
  {
   "cell_type": "code",
   "execution_count": 25,
   "metadata": {},
   "outputs": [],
   "source": [
    "ques_dams = pd.read_csv('./datas/questionaire_data/ques_evening/ques_evening_dams.csv')\n",
    "ques_bodyfatigue = pd.read_csv('./datas/questionaire_data/ques_evening/ques_evening_bodyfatigue.csv')\n",
    "ques_eval = pd.read_csv('./datas/questionaire_data/ques_evening/ques_evening_eval.csv')\n",
    "ques_workenga = pd.read_csv('./datas/questionaire_data/ques_evening/ques_evening_workenga.csv')"
   ]
  },
  {
   "cell_type": "markdown",
   "metadata": {},
   "source": [
    "# 自覚症調べ"
   ]
  },
  {
   "cell_type": "code",
   "execution_count": 15,
   "metadata": {},
   "outputs": [],
   "source": [
    "# ques_dams\n",
    "ques_bodyfatigue.index = pd.DatetimeIndex(ques_bodyfatigue.datetime, name='datetime').tz_convert('Asia/Tokyo')\n",
    "ques_bodyfatigue['datetime_jp'] = ques_bodyfatigue.index\n",
    "ques_bodyfatigue['Date_jp'] = pd.to_datetime(ques_bodyfatigue['datetime_jp']).dt.date\n",
    "ques_bodyfatigue=ques_bodyfatigue[(ques_bodyfatigue['Date_jp']>=dt.date(2021,1,12))]\n",
    "ques_bodyfatigue['hour'] = pd.to_datetime(ques_bodyfatigue['datetime_jp']).dt.hour"
   ]
  },
  {
   "cell_type": "code",
   "execution_count": 16,
   "metadata": {},
   "outputs": [
    {
     "data": {
      "text/plain": [
       "<AxesSubplot:>"
      ]
     },
     "execution_count": 16,
     "metadata": {},
     "output_type": "execute_result"
    },
    {
     "data": {
      "image/png": "[encoded data removed]",
      "text/plain": [
       "<Figure size 432x288 with 1 Axes>"
      ]
     },
     "metadata": {
      "needs_background": "light"
     },
     "output_type": "display_data"
    }
   ],
   "source": [
    "ques_bodyfatigue['hour'].hist(bins=24)"
   ]
  },
  {
   "cell_type": "code",
   "execution_count": 17,
   "metadata": {},
   "outputs": [],
   "source": [
    "ques_bodyfatigue['name'].unique()\n",
    "ques_bodyfatigue = ques_bodyfatigue.reset_index(drop=True)\n",
    "ques_bodyfatigue.loc[ques_bodyfatigue['name']=='頭がおもい', 'atama_omoi'] =ques_bodyfatigue['value_bodyfatigue']\n",
    "ques_bodyfatigue.loc[ques_bodyfatigue['name']=='気分がわるい', 'kibun_warui'] =ques_bodyfatigue['value_bodyfatigue']\n",
    "ques_bodyfatigue.loc[ques_bodyfatigue['name']=='頭がいたい', 'atama_itai'] =ques_bodyfatigue['value_bodyfatigue']\n",
    "ques_bodyfatigue.loc[ques_bodyfatigue['name']=='肩がこる', 'kata_koru'] =ques_bodyfatigue['value_bodyfatigue']\n",
    "ques_bodyfatigue.loc[ques_bodyfatigue['name']=='あくびがでる', 'akubi_deru'] =ques_bodyfatigue['value_bodyfatigue']\n",
    "ques_bodyfatigue.loc[ques_bodyfatigue['name']=='手や指がいたい', 'teyayubi_itai'] =ques_bodyfatigue['value_bodyfatigue']\n",
    "ques_bodyfatigue.loc[ques_bodyfatigue['name']=='めまいがする', 'memai_suru'] =ques_bodyfatigue['value_bodyfatigue']\n",
    "ques_bodyfatigue.loc[ques_bodyfatigue['name']=='ねむい', 'nemui'] =ques_bodyfatigue['value_bodyfatigue']\n",
    "ques_bodyfatigue.loc[ques_bodyfatigue['name']=='やる気がとぼしい', 'yaruki_tobosii'] =ques_bodyfatigue['value_bodyfatigue']\n",
    "ques_bodyfatigue.loc[ques_bodyfatigue['name']=='腕がだるい', 'ude_darui'] =ques_bodyfatigue['value_bodyfatigue']\n",
    "ques_bodyfatigue.loc[ques_bodyfatigue['name']=='横になりたい', 'yoko_naritai'] =ques_bodyfatigue['value_bodyfatigue']\n",
    "ques_bodyfatigue.loc[ques_bodyfatigue['name']=='腰がいたい', 'kosi_itai'] =ques_bodyfatigue['value_bodyfatigue']\n",
    "ques_bodyfatigue.loc[ques_bodyfatigue['name']=='足がだるい', 'asi_darui'] =ques_bodyfatigue['value_bodyfatigue']\n",
    "ques_bodyfatigue.loc[ques_bodyfatigue['name']=='頭がぼんやりする', 'atama_bonyari'] =ques_bodyfatigue['value_bodyfatigue']\n",
    "ques_bodyfatigue.loc[ques_bodyfatigue['name']=='全身がだるい', 'zensin_darui'] =ques_bodyfatigue['value_bodyfatigue']"
   ]
  },
  {
   "cell_type": "code",
   "execution_count": 18,
   "metadata": {},
   "outputs": [
    {
     "name": "stdout",
     "output_type": "stream",
     "text": [
      "<class 'pandas.core.frame.DataFrame'>\n",
      "RangeIndex: 15402 entries, 0 to 15401\n",
      "Data columns (total 27 columns):\n",
      " #   Column             Non-Null Count  Dtype                     \n",
      "---  ------             --------------  -----                     \n",
      " 0   Unnamed: 0         15402 non-null  int64                     \n",
      " 1   datetime           15402 non-null  object                    \n",
      " 2   user_id            15402 non-null  int64                     \n",
      " 3   activity           15402 non-null  object                    \n",
      " 4   record_type_id     15402 non-null  float64                   \n",
      " 5   name               15402 non-null  object                    \n",
      " 6   value              15402 non-null  object                    \n",
      " 7   value_int          8651 non-null   float64                   \n",
      " 8   value_bodyfatigue  15402 non-null  float64                   \n",
      " 9   datetime_jp        15402 non-null  datetime64[ns, Asia/Tokyo]\n",
      " 10  Date_jp            15402 non-null  object                    \n",
      " 11  hour               15402 non-null  int64                     \n",
      " 12  atama_omoi         0 non-null      float64                   \n",
      " 13  kibun_warui        1030 non-null   float64                   \n",
      " 14  atama_itai         1026 non-null   float64                   \n",
      " 15  kata_koru          1026 non-null   float64                   \n",
      " 16  akubi_deru         1028 non-null   float64                   \n",
      " 17  teyayubi_itai      1027 non-null   float64                   \n",
      " 18  memai_suru         1030 non-null   float64                   \n",
      " 19  nemui              1024 non-null   float64                   \n",
      " 20  yaruki_tobosii     1024 non-null   float64                   \n",
      " 21  ude_darui          1026 non-null   float64                   \n",
      " 22  yoko_naritai       1024 non-null   float64                   \n",
      " 23  kosi_itai          1024 non-null   float64                   \n",
      " 24  asi_darui          1031 non-null   float64                   \n",
      " 25  atama_bonyari      1027 non-null   float64                   \n",
      " 26  zensin_darui       1030 non-null   float64                   \n",
      "dtypes: datetime64[ns, Asia/Tokyo](1), float64(18), int64(3), object(5)\n",
      "memory usage: 3.2+ MB\n"
     ]
    }
   ],
   "source": [
    "ques_bodyfatigue.info()"
   ]
  },
  {
   "cell_type": "code",
   "execution_count": 19,
   "metadata": {},
   "outputs": [],
   "source": [
    "ques_bodyfatigue_sum = ques_bodyfatigue.groupby(['datetime','user_id']).sum()\n",
    "ques_bodyfatigue_sum = ques_bodyfatigue_sum[['record_type_id', 'hour',\n",
    "       'atama_omoi', 'kibun_warui', 'atama_itai', 'kata_koru', 'akubi_deru',\n",
    "       'teyayubi_itai', 'memai_suru', 'nemui', 'yaruki_tobosii', 'ude_darui',\n",
    "       'yoko_naritai', 'kosi_itai', 'asi_darui', 'atama_bonyari',\n",
    "       'zensin_darui']]\n",
    "ques_bodyfatigue_sum = ques_bodyfatigue_sum.reset_index()\n",
    "\n",
    "ques_bodyfatigue_sum['value_nemuke'] = (ques_bodyfatigue_sum['nemui']+ques_bodyfatigue_sum['yoko_naritai']+ques_bodyfatigue_sum['akubi_deru']+ques_bodyfatigue_sum['yaruki_tobosii']+ques_bodyfatigue_sum['zensin_darui'])/5\n",
    "ques_bodyfatigue_sum['value_hukai'] = (ques_bodyfatigue_sum['atama_itai']+ques_bodyfatigue_sum['atama_omoi']+ques_bodyfatigue_sum['kibun_warui']+ques_bodyfatigue_sum['atama_bonyari']+ques_bodyfatigue_sum['memai_suru'])/5\n",
    "ques_bodyfatigue_sum['value_boyake'] =  (ques_bodyfatigue_sum['ude_darui']+ques_bodyfatigue_sum['kosi_itai']+ques_bodyfatigue_sum['teyayubi_itai']+ques_bodyfatigue_sum['asi_darui']+ques_bodyfatigue_sum['kata_koru'])/5\n",
    "\n",
    "ques_bodyfatigue_sum['datetime_jp_before3'] = pd.to_datetime(ques_bodyfatigue_sum['datetime'])-dt.timedelta(hours=3)\n",
    "ques_bodyfatigue_sum['datetime_jp_before6'] = pd.to_datetime(ques_bodyfatigue_sum['datetime'])-dt.timedelta(hours=6)\n",
    "ques_bodyfatigue_sum['datetime_jp_before9'] = pd.to_datetime(ques_bodyfatigue_sum['datetime'])-dt.timedelta(hours=9)\n",
    "\n",
    "ques_bodyfatigue_sum = ques_bodyfatigue_sum[['datetime', 'user_id', 'datetime_jp_before3',\n",
    "       'datetime_jp_before6', 'datetime_jp_before9','record_type_id', 'hour', 'atama_omoi',\n",
    "       'kibun_warui', 'atama_itai', 'kata_koru', 'akubi_deru', 'teyayubi_itai',\n",
    "       'memai_suru', 'nemui', 'yaruki_tobosii', 'ude_darui', 'yoko_naritai',\n",
    "       'kosi_itai', 'asi_darui', 'atama_bonyari', 'zensin_darui',\n",
    "       'value_nemuke', 'value_hukai', 'value_boyake']]"
   ]
  },
  {
   "cell_type": "code",
   "execution_count": 21,
   "metadata": {},
   "outputs": [],
   "source": [
    "# ques_bodyfatigue_sum.to_csv('./datas/preprocessed_questionaire/ques_evening_body_fatigue.csv')"
   ]
  },
  {
   "cell_type": "markdown",
   "metadata": {},
   "source": [
    "# dams"
   ]
  },
  {
   "cell_type": "code",
   "execution_count": 33,
   "metadata": {},
   "outputs": [
    {
     "name": "stderr",
     "output_type": "stream",
     "text": [
      "<ipython-input-33-cea18b18873b>:5: SettingWithCopyWarning: \n",
      "A value is trying to be set on a copy of a slice from a DataFrame.\n",
      "Try using .loc[row_indexer,col_indexer] = value instead\n",
      "\n",
      "See the caveats in the documentation: https://pandas.pydata.org/pandas-docs/stable/user_guide/indexing.html#returning-a-view-versus-a-copy\n",
      "  ques_dams['hour'] = pd.to_datetime(ques_dams['datetime_jp']).dt.hour\n"
     ]
    }
   ],
   "source": [
    "ques_dams.index = pd.DatetimeIndex(ques_dams.datetime, name='datetime').tz_convert('Asia/Tokyo')\n",
    "ques_dams['datetime_jp'] = ques_dams.index\n",
    "ques_dams['Date_jp'] = pd.to_datetime(ques_dams['datetime_jp']).dt.date\n",
    "ques_dams=ques_dams[(ques_dams['Date_jp']>=dt.date(2021,1,12))]\n",
    "ques_dams['hour'] = pd.to_datetime(ques_dams['datetime_jp']).dt.hour"
   ]
  },
  {
   "cell_type": "code",
   "execution_count": 38,
   "metadata": {},
   "outputs": [],
   "source": [
    "ques_dams['name'].unique()\n",
    "ques_dams = ques_dams.reset_index(drop=True)\n",
    "ques_dams.loc[ques_dams['name']=='はつらつとした', 'haturatu'] =ques_dams['value_dams']\n",
    "ques_dams.loc[ques_dams['name']=='暗い', 'kurai'] =ques_dams['value_dams']\n",
    "ques_dams.loc[ques_dams['name']=='気がかりな', 'kigakarina'] =ques_dams['value_dams']\n",
    "ques_dams.loc[ques_dams['name']=='嬉しい', 'uresii'] =ques_dams['value_dams']\n",
    "ques_dams.loc[ques_dams['name']=='嫌な', 'iyana'] =ques_dams['value_dams']\n",
    "ques_dams.loc[ques_dams['name']=='不安な', 'fuanna'] =ques_dams['value_dams']\n",
    "ques_dams.loc[ques_dams['name']=='楽しい', 'tanosii'] =ques_dams['value_dams']\n",
    "ques_dams.loc[ques_dams['name']=='沈んだ', 'sizunda'] =ques_dams['value_dams']\n",
    "ques_dams.loc[ques_dams['name']=='心配な', 'sinpaina'] =ques_dams['value_dams']"
   ]
  },
  {
   "cell_type": "code",
   "execution_count": 40,
   "metadata": {},
   "outputs": [
    {
     "data": {
      "text/plain": [
       "Index(['Unnamed: 0', 'datetime', 'user_id', 'activity', 'record_type_id',\n",
       "       'name', 'value', 'value_dams', 'datetime_jp', 'Date_jp', 'hour',\n",
       "       'haturatu', 'kurai', 'kigakarina', 'uresii', 'iyana', 'fuanna',\n",
       "       'tanosii', 'sizunda', 'sinpaina'],\n",
       "      dtype='object')"
      ]
     },
     "execution_count": 40,
     "metadata": {},
     "output_type": "execute_result"
    }
   ],
   "source": [
    "ques_dams.columns"
   ]
  },
  {
   "cell_type": "code",
   "execution_count": 46,
   "metadata": {},
   "outputs": [],
   "source": [
    "ques_dams_sum = ques_dams.groupby(['datetime_jp','user_id']).sum()\n",
    "\n",
    "ques_dams_sum = ques_dams_sum[['value_dams', 'hour', 'haturatu',\n",
    "       'kurai', 'kigakarina', 'uresii', 'iyana', 'fuanna', 'tanosii',\n",
    "       'sizunda', 'sinpaina']]\n",
    "ques_dams_sum = ques_dams_sum.reset_index()\n",
    "\n",
    "ques_dams_sum['positive_score'] = (ques_dams_sum['haturatu']+ques_dams_sum['uresii']+ques_dams_sum['tanosii'])/3\n",
    "ques_dams_sum['anxious_score'] = (ques_dams_sum['kigakarina']+ques_dams_sum['fuanna']+ques_dams_sum['sinpaina'])/3\n",
    "ques_dams_sum['depressive_score'] =  (ques_dams_sum['kurai']+ques_dams_sum['iyana']+ques_dams_sum['sizunda'])/3"
   ]
  },
  {
   "cell_type": "code",
   "execution_count": 49,
   "metadata": {},
   "outputs": [
    {
     "data": {
      "text/plain": [
       "Index(['datetime_jp', 'user_id', 'value_dams', 'hour', 'haturatu', 'kurai',\n",
       "       'kigakarina', 'uresii', 'iyana', 'fuanna', 'tanosii', 'sizunda',\n",
       "       'sinpaina', 'positive_score', 'anxious_score', 'depressive_score',\n",
       "       'datetime_jp_before3', 'datetime_jp_before6', 'datetime_jp_before9'],\n",
       "      dtype='object')"
      ]
     },
     "execution_count": 49,
     "metadata": {},
     "output_type": "execute_result"
    }
   ],
   "source": [
    "ques_dams_sum.columns"
   ]
  },
  {
   "cell_type": "code",
   "execution_count": 48,
   "metadata": {},
   "outputs": [],
   "source": [
    "ques_dams_sum['datetime_jp_before3'] = pd.to_datetime(ques_dams_sum['datetime_jp'])-dt.timedelta(hours=3)\n",
    "ques_dams_sum['datetime_jp_before6'] = pd.to_datetime(ques_dams_sum['datetime_jp'])-dt.timedelta(hours=6)\n",
    "ques_dams_sum['datetime_jp_before9'] = pd.to_datetime(ques_dams_sum['datetime_jp'])-dt.timedelta(hours=9)"
   ]
  },
  {
   "cell_type": "code",
   "execution_count": 51,
   "metadata": {},
   "outputs": [],
   "source": [
    "# ques_dams_sum.to_csv('./datas/preprocessed_questionaire/ques_evening_dams.csv')"
   ]
  },
  {
   "cell_type": "markdown",
   "metadata": {},
   "source": [
    "# ワークエンゲージメント"
   ]
  },
  {
   "cell_type": "code",
   "execution_count": 58,
   "metadata": {},
   "outputs": [
    {
     "name": "stderr",
     "output_type": "stream",
     "text": [
      "<ipython-input-58-86a66cebf3bd>:5: SettingWithCopyWarning: \n",
      "A value is trying to be set on a copy of a slice from a DataFrame.\n",
      "Try using .loc[row_indexer,col_indexer] = value instead\n",
      "\n",
      "See the caveats in the documentation: https://pandas.pydata.org/pandas-docs/stable/user_guide/indexing.html#returning-a-view-versus-a-copy\n",
      "  ques_workenga['hour'] = pd.to_datetime(ques_workenga['datetime_jp']).dt.hour\n"
     ]
    }
   ],
   "source": [
    "ques_workenga.index = pd.DatetimeIndex(ques_workenga.datetime, name='datetime').tz_convert('Asia/Tokyo')\n",
    "ques_workenga['datetime_jp'] = ques_workenga.index\n",
    "ques_workenga['Date_jp'] = pd.to_datetime(ques_workenga['datetime_jp']).dt.date\n",
    "ques_workenga=ques_workenga[(ques_workenga['Date_jp']>=dt.date(2021,1,12))]\n",
    "ques_workenga['hour'] = pd.to_datetime(ques_workenga['datetime_jp']).dt.hour\n",
    "\n",
    "ques_workenga['name'].unique()\n",
    "ques_workenga = ques_workenga.reset_index(drop=True)\n",
    "ques_workenga.loc[ques_workenga['name']=='今、仕事をしていると、活力がみなぎるように感じる', 'katuryoku'] =ques_workenga['value_workenga']\n",
    "ques_workenga.loc[ques_workenga['name']=='今、仕事に熱心である', 'nessin'] =ques_workenga['value_workenga']\n",
    "ques_workenga.loc[ques_workenga['name']=='今、私は仕事にのめり込んでいる', 'nomerikomu'] =ques_workenga['value_workenga']\n",
    "\n",
    "ques_workenga_sum = ques_workenga.groupby(['datetime_jp','user_id']).sum()\n",
    "\n",
    "# ques_workenga_sum = ques_workenga_sum[['value_dams', 'hour', 'haturatu',\n",
    "#        'kurai', 'kigakarina', 'uresii', 'iyana', 'fuanna', 'tanosii',\n",
    "#        'sizunda', 'sinpaina']]\n",
    "ques_workenga_sum = ques_workenga_sum.reset_index()\n",
    "\n",
    "ques_workenga_sum['workenga_score'] = (ques_workenga_sum['katuryoku']+ques_workenga_sum['nessin']+ques_workenga_sum['nomerikomu'])/3\n",
    "\n",
    "ques_workenga_sum['datetime_jp_before3'] = pd.to_datetime(ques_workenga_sum['datetime_jp'])-dt.timedelta(hours=3)\n",
    "ques_workenga_sum['datetime_jp_before6'] = pd.to_datetime(ques_workenga_sum['datetime_jp'])-dt.timedelta(hours=6)\n",
    "ques_workenga_sum['datetime_jp_before9'] = pd.to_datetime(ques_workenga_sum['datetime_jp'])-dt.timedelta(hours=9)"
   ]
  },
  {
   "cell_type": "code",
   "execution_count": 61,
   "metadata": {},
   "outputs": [],
   "source": [
    "# ques_workenga_sum.to_csv('./datas/preprocessed_questionaire/ques_evening_workenga.csv')"
   ]
  },
  {
   "cell_type": "markdown",
   "metadata": {},
   "source": [
    "# 自己評価"
   ]
  },
  {
   "cell_type": "code",
   "execution_count": 66,
   "metadata": {},
   "outputs": [
    {
     "name": "stderr",
     "output_type": "stream",
     "text": [
      "<ipython-input-66-35f41c7f2806>:5: SettingWithCopyWarning: \n",
      "A value is trying to be set on a copy of a slice from a DataFrame.\n",
      "Try using .loc[row_indexer,col_indexer] = value instead\n",
      "\n",
      "See the caveats in the documentation: https://pandas.pydata.org/pandas-docs/stable/user_guide/indexing.html#returning-a-view-versus-a-copy\n",
      "  ques_eval['hour'] = pd.to_datetime(ques_eval['datetime_jp']).dt.hour\n"
     ]
    }
   ],
   "source": [
    "ques_eval.index = pd.DatetimeIndex(ques_eval.datetime, name='datetime').tz_convert('Asia/Tokyo')\n",
    "ques_eval['datetime_jp'] = ques_eval.index\n",
    "ques_eval['Date_jp'] = pd.to_datetime(ques_eval['datetime_jp']).dt.date\n",
    "ques_eval=ques_eval[(ques_eval['Date_jp']>=dt.date(2021,1,12))]\n",
    "ques_eval['hour'] = pd.to_datetime(ques_eval['datetime_jp']).dt.hour\n",
    "\n",
    "ques_eval['name'].unique()\n",
    "ques_eval = ques_eval.reset_index(drop=True)\n",
    "ques_eval.loc[ques_eval['name']=='業務に集中できていた', 'syutyu'] =ques_eval['value_eval']\n",
    "ques_eval.loc[ques_eval['name']=='効率的に業務ができた', 'kouritu'] =ques_eval['value_eval']\n",
    "ques_eval.loc[ques_eval['name']=='予定通りに業務ができた', 'yoteidori'] =ques_eval['value_eval']\n",
    "ques_eval.loc[ques_eval['name']=='関係者と十分にコミュニケーションがとれた', 'jubun_comu'] =ques_eval['value_eval']\n",
    "ques_eval.loc[ques_eval['name']=='関係者と効率的にコミュニケーションがとれた', 'kouritu_comu'] =ques_eval['value_eval']\n",
    "ques_eval.loc[ques_eval['name']=='新たなアイデアが出た', 'idea'] =ques_eval['value_eval']\n",
    "ques_eval.loc[ques_eval['name']=='成果に結びついた', 'seika'] =ques_eval['value_eval']\n",
    "\n",
    "ques_eval_sum = ques_eval.groupby(['datetime_jp','user_id']).sum()\n",
    "\n",
    "# ques_eval_sum = ques_eval_sum[['value_dams', 'hour', 'haturatu',\n",
    "#        'kurai', 'kigakarina', 'uresii', 'iyana', 'fuanna', 'tanosii',\n",
    "#        'sizunda', 'sinpaina']]\n",
    "ques_eval_sum = ques_eval_sum.reset_index()\n",
    "\n",
    "# ques_eval_sum['positive_score'] = (ques_eval_sum['haturatu']+ques_eval_sum['uresii']+ques_eval_sum['tanosii'])/3\n",
    "# ques_eval_sum['anxious_score'] = (ques_eval_sum['kigakarina']+ques_eval_sum['fuanna']+ques_eval_sum['sinpaina'])/3\n",
    "# ques_eval_sum['depressive_score'] =  (ques_eval_sum['kurai']+ques_eval_sum['iyana']+ques_eval_sum['sizunda'])/3\n",
    "\n",
    "ques_eval_sum['datetime_jp_before3'] = pd.to_datetime(ques_eval_sum['datetime_jp'])-dt.timedelta(hours=3)\n",
    "ques_eval_sum['datetime_jp_before6'] = pd.to_datetime(ques_eval_sum['datetime_jp'])-dt.timedelta(hours=6)\n",
    "ques_eval_sum['datetime_jp_before9'] = pd.to_datetime(ques_eval_sum['datetime_jp'])-dt.timedelta(hours=9)"
   ]
  },
  {
   "cell_type": "code",
   "execution_count": 69,
   "metadata": {},
   "outputs": [],
   "source": [
    "# ques_eval_sum.to_csv('./datas/preprocessed_questionaire/ques_evening_eval.csv')"
   ]
  },
  {
   "cell_type": "markdown",
   "metadata": {},
   "source": []
  }
 ],
 "metadata": {
  "kernelspec": {
   "display_name": "Python 3",
   "language": "python",
   "name": "python3"
  },
  "language_info": {
   "codemirror_mode": {
    "name": "ipython",
    "version": 3
   },
   "file_extension": ".py",
   "mimetype": "text/x-python",
   "name": "python",
   "nbconvert_exporter": "python",
   "pygments_lexer": "ipython3",
   "version": "3.8.7"
  }
 },
 "nbformat": 4,
 "nbformat_minor": 4
}
