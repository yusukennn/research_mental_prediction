{
 "cells": [
  {
   "cell_type": "code",
   "execution_count": 99,
   "metadata": {},
   "outputs": [],
   "source": [
    "import pandas as pd\n",
    "import datetime"
   ]
  },
  {
   "cell_type": "code",
   "execution_count": 100,
   "metadata": {},
   "outputs": [
    {
     "data": {
      "text/plain": [
       "Index(['Unnamed: 0', 'local_id', 'activity_type_id', 'activity',\n",
       "       'activity_group', 'created_at', 'started_at', 'finished_at',\n",
       "       'deleted_at', 'user_id', 'user', 'user_tag', 'target_user_ids',\n",
       "       'customer_id', 'customer', 'floor', 'record_type_id', 'name', 'value'],\n",
       "      dtype='object')"
      ]
     },
     "execution_count": 100,
     "metadata": {},
     "output_type": "execute_result"
    }
   ],
   "source": [
    "ques_all_df = pd.read_csv('./datas/canact_all.csv')\n",
    "ques_all_df['activity_group'].unique()\n",
    "ques_all_df.columns"
   ]
  },
  {
   "cell_type": "code",
   "execution_count": 101,
   "metadata": {},
   "outputs": [],
   "source": [
    "# ques_all_df.query('activity_group==\"業務関係\"')\n",
    "ques_all_df = ques_all_df[['activity_type_id','activity','activity_group','started_at','finished_at','deleted_at','user_id','record_type_id','name','value']]\n",
    "# ques_all_df = ques_all_df.rename(columns={'finished_at':'datetime'})"
   ]
  },
  {
   "cell_type": "code",
   "execution_count": 102,
   "metadata": {},
   "outputs": [],
   "source": [
    "drop_index = ques_all_df.index[ques_all_df['deleted_at'].notna()]\n",
    "ques_all_df = ques_all_df.drop(drop_index)\n",
    "# ques_all_df.to_csv('./datas/canact_all_preprocessed.csv')"
   ]
  },
  {
   "cell_type": "code",
   "execution_count": 103,
   "metadata": {},
   "outputs": [],
   "source": [
    "ques_all_df['finished_at'] = pd.to_datetime(ques_all_df['finished_at'])\n",
    "ques_all_df['started_at'] = pd.to_datetime(ques_all_df['started_at'])\n",
    "ques_all_df['time_spent'] = ques_all_df['finished_at']-ques_all_df['started_at']\n",
    "ques_work = ques_all_df.query('activity_group==\"業務関係\"')\n",
    "ques_notwork = ques_all_df.query('activity_group==\"業務外関係\"')\n",
    "ques_action = ques_all_df.query('activity_group==\"業務外関係\" or activity_group==\"業務関係\"')"
   ]
  },
  {
   "cell_type": "code",
   "execution_count": 104,
   "metadata": {},
   "outputs": [
    {
     "data": {
      "text/plain": [
       "array(['食事（業務時間外）', '単独作業', '趣味・休憩', '家事・育児', '休憩（業務時間内）', '移動', 'Web会議',\n",
       "       'その他', '業務外作業', '対面会議', '共同作業（コミュニケーションを伴う）', '電話（会議）'],\n",
       "      dtype=object)"
      ]
     },
     "execution_count": 104,
     "metadata": {},
     "output_type": "execute_result"
    }
   ],
   "source": [
    "ques_action['activity'].unique()"
   ]
  },
  {
   "cell_type": "code",
   "execution_count": 134,
   "metadata": {},
   "outputs": [],
   "source": [
    "ques_action['meal'] = 0\n",
    "ques_action['working_alone'] = 0\n",
    "ques_action['hobby_break'] = 0\n",
    "ques_action['housework_childcare'] = 0\n",
    "ques_action['break'] = 0\n",
    "ques_action['transfer'] = 0\n",
    "ques_action['web_conference'] = 0\n",
    "ques_action['other'] = 0\n",
    "ques_action['work_outsideduty'] = 0\n",
    "ques_action['facetoface_meeting'] = 0\n",
    "ques_action['collaboration'] = 0\n",
    "ques_action['remote_conference'] = 0\n",
    "\n",
    "ques_action.loc[ques_action['activity']=='食事（業務時間外）', 'meal'] = ques_action['time_spent']\n",
    "ques_action.loc[ques_action['activity']=='単独作業', 'working_alone'] = ques_action['time_spent']\n",
    "ques_action.loc[ques_action['activity']=='趣味・休憩', 'hobby_break'] = ques_action['time_spent']\n",
    "ques_action.loc[ques_action['activity']=='家事・育児', 'housework_childcare'] = ques_action['time_spent']\n",
    "ques_action.loc[ques_action['activity']=='休憩（業務時間内）', 'break'] = ques_action['time_spent']\n",
    "ques_action.loc[ques_action['activity']=='移動', 'transfer'] = ques_action['time_spent']\n",
    "ques_action.loc[ques_action['activity']=='Web会議', 'web_conference'] = ques_action['time_spent']\n",
    "ques_action.loc[ques_action['activity']=='その他', 'other'] = ques_action['time_spent']\n",
    "ques_action.loc[ques_action['activity']=='業務外作業', 'work_outsideduty'] = ques_action['time_spent']\n",
    "ques_action.loc[ques_action['activity']=='対面会議', 'facetoface_meeting'] = ques_action['time_spent']\n",
    "ques_action.loc[ques_action['activity']=='共同作業（コミュニケーションを伴う）', 'collaboration'] = ques_action['time_spent']\n",
    "ques_action.loc[ques_action['activity']=='電話（会議）', 'remote_conference'] = ques_action['time_spent']"
   ]
  },
  {
   "cell_type": "code",
   "execution_count": 135,
   "metadata": {},
   "outputs": [],
   "source": [
    "import datetime as dt\n",
    "ques_action['Date'] = ques_action['finished_at'].dt.date\n",
    "ques_action['Time'] = ques_action['finished_at'].dt.hour\n",
    "ques_action['am_pm'] = 0\n",
    "ques_action.loc[(ques_action['Time']>11 )&(ques_action['Time']<=23), 'am_pm'] = 1"
   ]
  },
  {
   "cell_type": "code",
   "execution_count": 136,
   "metadata": {},
   "outputs": [],
   "source": [
    "ques_action = ques_action.dropna(subset=['finished_at'])\n",
    "ques_action = ques_action"
   ]
  },
  {
   "cell_type": "code",
   "execution_count": 138,
   "metadata": {},
   "outputs": [],
   "source": [
    "ques_action = ques_action[['activity_type_id', 'activity', 'activity_group','Date', 'Time', 'am_pm', 'started_at',\n",
    "       'finished_at','time_spent','user_id', 'record_type_id', 'name',\n",
    "       'value', 'meal', 'working_alone', 'hobby_break',\n",
    "       'housework_childcare', 'break', 'transfer', 'web_conference', 'other',\n",
    "       'work_outsideduty', 'facetoface_meeting', 'collaboration',\n",
    "       'remote_conference']]\n",
    "# ques_action.to_csv('./datas/activity.csv')"
   ]
  },
  {
   "cell_type": "markdown",
   "metadata": {},
   "source": [
    "## dams"
   ]
  },
  {
   "cell_type": "code",
   "execution_count": 151,
   "metadata": {},
   "outputs": [
    {
     "data": {
      "text/plain": [
       "array(['はつらつとした', '暗い', '気がかりな', '嬉しい', '嫌な', '不安な', '楽しい', '沈んだ', '心配な'],\n",
       "      dtype=object)"
      ]
     },
     "execution_count": 151,
     "metadata": {},
     "output_type": "execute_result"
    }
   ],
   "source": [
    "ques_morning_dams['name'].unique()"
   ]
  },
  {
   "cell_type": "code",
   "execution_count": 154,
   "metadata": {},
   "outputs": [],
   "source": [
    "ques_morning_dams = pd.read_csv('./datas/questionaire_data/ques_morning_dams.csv')\n",
    "ques_morning_bodyfatigue = pd.read_csv('./datas/questionaire_data/ques_morning_bodyfatigue.csv')"
   ]
  },
  {
   "cell_type": "code",
   "execution_count": 155,
   "metadata": {},
   "outputs": [],
   "source": [
    "ques_morning_dams['name'].unique()\n",
    "ques_morning_dams[['haturatu','uresii', 'tanosii', 'sinpaina', 'kigakarina', 'fuan','kurai',  'iyana',  'sizunda']]=0"
   ]
  },
  {
   "cell_type": "code",
   "execution_count": 159,
   "metadata": {},
   "outputs": [],
   "source": [
    "ques_morning_dams.loc[ques_morning_dams['name']=='はつらつとした','haturatu']=ques_morning_dams['value_dams']\n",
    "ques_morning_dams.loc[ques_morning_dams['name']=='楽しい','tanosii']=ques_morning_dams['value_dams']\n",
    "ques_morning_dams.loc[ques_morning_dams['name']=='暗い','kurai']=ques_morning_dams['value_dams']\n",
    "ques_morning_dams.loc[ques_morning_dams['name']=='気がかりな','kigakarina']=ques_morning_dams['value_dams']\n",
    "ques_morning_dams.loc[ques_morning_dams['name']=='嬉しい','uresii']=ques_morning_dams['value_dams']\n",
    "ques_morning_dams.loc[ques_morning_dams['name']=='嫌な','iyana']=ques_morning_dams['value_dams']\n",
    "ques_morning_dams.loc[ques_morning_dams['name']=='不安な','fuan']=ques_morning_dams['value_dams']\n",
    "ques_morning_dams.loc[ques_morning_dams['name']=='沈んだ','sizunda']=ques_morning_dams['value_dams']\n",
    "ques_morning_dams.loc[ques_morning_dams['name']=='心配な','sinpaina']=ques_morning_dams['value_dams']"
   ]
  },
  {
   "cell_type": "code",
   "execution_count": 169,
   "metadata": {},
   "outputs": [],
   "source": [
    "ques_morning_dams['Date'] = pd.to_datetime(ques_morning_dams['datetime']).dt.date\n",
    "ques_morning_dams_sum = ques_morning_dams.groupby(['Date','user_id'],as_index=False).sum()"
   ]
  },
  {
   "cell_type": "code",
   "execution_count": 171,
   "metadata": {},
   "outputs": [],
   "source": [
    "# ques_morning_dams_sum.to_csv('./datas/questionaire_data/ques_morning_dams.csv')"
   ]
  },
  {
   "cell_type": "code",
   "execution_count": null,
   "metadata": {},
   "outputs": [],
   "source": []
  }
 ],
 "metadata": {
  "kernelspec": {
   "display_name": "Python 3",
   "language": "python",
   "name": "python3"
  },
  "language_info": {
   "codemirror_mode": {
    "name": "ipython",
    "version": 3
   },
   "file_extension": ".py",
   "mimetype": "text/x-python",
   "name": "python",
   "nbconvert_exporter": "python",
   "pygments_lexer": "ipython3",
   "version": "3.8.7"
  }
 },
 "nbformat": 4,
 "nbformat_minor": 4
}
