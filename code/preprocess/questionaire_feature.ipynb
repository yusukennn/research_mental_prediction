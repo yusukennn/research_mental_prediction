{
 "cells": [
  {
   "cell_type": "code",
   "execution_count": 34,
   "id": "micro-number",
   "metadata": {},
   "outputs": [],
   "source": [
    "import pandas as pd\n",
    "import datetime as dt\n",
    "import seaborn as sns\n",
    "import numpy as np\n",
    "import os\n",
    "import glob\n",
    "import matplotlib.pyplot as plt"
   ]
  },
  {
   "cell_type": "code",
   "execution_count": 27,
   "id": "legendary-administration",
   "metadata": {},
   "outputs": [],
   "source": [
    "ques_night_w_productivity = pd.read_csv('../../datas/preprocessed_questionaire/ques_night_w_productivity.csv')\n",
    "ques_night_w_recover = pd.read_csv('../../datas/preprocessed_questionaire/ques_night_w_recover.csv')\n",
    "ques_evening_eval = pd.read_csv('../../datas/preprocessed_questionaire/ques_evening_eval.csv')\n",
    "ques_morning_bodyfatigue = pd.read_csv('../../datas/preprocessed_questionaire/ques_morning_bodyfatigue.csv')\n",
    "ques_night_w_bodyfatigue = pd.read_csv('../../datas/preprocessed_questionaire/ques_night_w_bodyfatigue.csv')\n",
    "ques_evening_workenga  = pd.read_csv('../../datas/preprocessed_questionaire/ques_evening_workenga.csv')\n",
    "ques_evening_body_fatigue = pd.read_csv('../../datas/preprocessed_questionaire/ques_evening_body_fatigue.csv')\n",
    "ques_night_w_eval = pd.read_csv('../../datas/preprocessed_questionaire/ques_night_w_eval.csv')\n",
    "ques_night_w_workenga  = pd.read_csv('../../datas/preprocessed_questionaire/ques_night_w_workenga.csv')\n",
    "ques_morning_dams  = pd.read_csv('../../datas/preprocessed_questionaire/ques_morning_dams.csv')\n",
    "ques_evening_dams = pd.read_csv('../../datas/preprocessed_questionaire/ques_evening_dams.csv')"
   ]
  },
  {
   "cell_type": "code",
   "execution_count": 36,
   "id": "regional-cross",
   "metadata": {},
   "outputs": [
    {
     "data": {
      "image/png": "[encoded data removed]",
      "text/plain": [
       "<Figure size 432x288 with 1 Axes>"
      ]
     },
     "metadata": {
      "needs_background": "light"
     },
     "output_type": "display_data"
    }
   ],
   "source": [
    "# ques_night_w_productivity\n",
    "# ques_night_w_recover['user_id'].hist(bins=100)\n",
    "tmp=ques_night_w_recover['user_id'].value_counts(normalize=True).sort_index().reset_index()\n",
    "plt.bar(tmp['index'],tmp['user_id']);"
   ]
  },
  {
   "cell_type": "code",
   "execution_count": 38,
   "id": "perceived-object",
   "metadata": {},
   "outputs": [],
   "source": [
    "def to_datetime_jp(x):\n",
    "    x.index = pd.DatetimeIndex(x.datetime, name='datetime').tz_convert('Asia/Tokyo')\n",
    "    x['datetime'] = x.index\n",
    "    x = x.reset_index(drop=True)\n",
    "    return x"
   ]
  },
  {
   "cell_type": "code",
   "execution_count": 42,
   "id": "illegal-meter",
   "metadata": {},
   "outputs": [],
   "source": [
    "ques_morning_bodyfatigue = to_datetime_jp(ques_morning_bodyfatigue)\n",
    "ques_morning_bodyfatigue['date'] = ques_morning_bodyfatigue['datetime'].dt.date"
   ]
  },
  {
   "cell_type": "code",
   "execution_count": null,
   "id": "waiting-childhood",
   "metadata": {},
   "outputs": [],
   "source": []
  }
 ],
 "metadata": {
  "kernelspec": {
   "display_name": "Python 3",
   "language": "python",
   "name": "python3"
  },
  "language_info": {
   "codemirror_mode": {
    "name": "ipython",
    "version": 3
   },
   "file_extension": ".py",
   "mimetype": "text/x-python",
   "name": "python",
   "nbconvert_exporter": "python",
   "pygments_lexer": "ipython3",
   "version": "3.8.7"
  }
 },
 "nbformat": 4,
 "nbformat_minor": 5
}
