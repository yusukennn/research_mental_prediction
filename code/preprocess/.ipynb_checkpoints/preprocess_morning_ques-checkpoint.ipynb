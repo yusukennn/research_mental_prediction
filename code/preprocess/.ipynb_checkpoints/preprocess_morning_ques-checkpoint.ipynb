{
 "metadata": {
  "language_info": {
   "codemirror_mode": {
    "name": "ipython",
    "version": 3
   },
   "file_extension": ".py",
   "mimetype": "text/x-python",
   "name": "python",
   "nbconvert_exporter": "python",
   "pygments_lexer": "ipython3",
   "version": "3.8.2-final"
  },
  "orig_nbformat": 2,
  "kernelspec": {
   "name": "python3",
   "display_name": "Python 3",
   "language": "python"
  }
 },
 "nbformat": 4,
 "nbformat_minor": 2,
 "cells": [
  {
   "cell_type": "code",
   "execution_count": 22,
   "metadata": {},
   "outputs": [],
   "source": [
    "import pandas as pd\n",
    "import datetime as dt"
   ]
  },
  {
   "cell_type": "code",
   "execution_count": 23,
   "metadata": {},
   "outputs": [],
   "source": [
    "ques_morning_dams = pd.read_csv('./datas/questionaire_data/ques_morning_dams.csv')\n",
    "ques_morning_time = pd.read_csv('./datas/questionaire_data/ques_morning/ques_morning_dams.csv')"
   ]
  },
  {
   "cell_type": "code",
   "execution_count": 24,
   "metadata": {},
   "outputs": [],
   "source": [
    "ques_morning_time['date'] = pd.to_datetime(ques_morning_time['datetime']).dt.date\n",
    "ques_morning_date = ques_morning_time[['datetime','user_id','date']]\n",
    "ques_mornig_dams = pd.merge()"
   ]
  },
  {
   "cell_type": "code",
   "execution_count": 17,
   "metadata": {},
   "outputs": [
    {
     "output_type": "execute_result",
     "data": {
      "text/plain": [
       "       Unnamed: 0                          datetime  user_id activity  \\\n",
       "0               1  2021-01-11 00:14:59.165000+00:00       29  朝のアンケート   \n",
       "1               2  2021-01-11 00:14:59.165000+00:00       29  朝のアンケート   \n",
       "2               3  2021-01-11 00:14:59.165000+00:00       29  朝のアンケート   \n",
       "3               4  2021-01-11 00:14:59.165000+00:00       29  朝のアンケート   \n",
       "4               5  2021-01-11 00:14:59.165000+00:00       29  朝のアンケート   \n",
       "...           ...                               ...      ...      ...   \n",
       "12146      172148  2021-01-29 23:44:50.116000+00:00       41  朝のアンケート   \n",
       "12147      172149  2021-01-29 23:44:50.116000+00:00       41  朝のアンケート   \n",
       "12148      172150  2021-01-29 23:44:50.116000+00:00       41  朝のアンケート   \n",
       "12149      172151  2021-01-29 23:44:50.116000+00:00       41  朝のアンケート   \n",
       "12150      172152  2021-01-29 23:44:50.116000+00:00       41  朝のアンケート   \n",
       "\n",
       "       record_type_id     name            value  value_dams  \n",
       "0                25.0  はつらつとした     3: どちらともいえない         3.0  \n",
       "1                26.0       暗い   0: まったくあてはまらない         0.0  \n",
       "2                27.0    気がかりな       4: ややあてはまる         4.0  \n",
       "3                28.0      嬉しい     2: ややあてはまらない         2.0  \n",
       "4                29.0       嫌な   0: まったくあてはまらない         0.0  \n",
       "...               ...      ...              ...         ...  \n",
       "12146            29.0       嫌な   0: まったくあてはまらない         0.0  \n",
       "12147            30.0      不安な   0: まったくあてはまらない         0.0  \n",
       "12148            31.0      楽しい     3: どちらともいえない         3.0  \n",
       "12149            32.0      沈んだ   0: まったくあてはまらない         0.0  \n",
       "12150            33.0      心配な  0: まったくあてはまらない1         0.0  \n",
       "\n",
       "[12151 rows x 8 columns]"
      ],
      "text/html": "<div>\n<style scoped>\n    .dataframe tbody tr th:only-of-type {\n        vertical-align: middle;\n    }\n\n    .dataframe tbody tr th {\n        vertical-align: top;\n    }\n\n    .dataframe thead th {\n        text-align: right;\n    }\n</style>\n<table border=\"1\" class=\"dataframe\">\n  <thead>\n    <tr style=\"text-align: right;\">\n      <th></th>\n      <th>Unnamed: 0</th>\n      <th>datetime</th>\n      <th>user_id</th>\n      <th>activity</th>\n      <th>record_type_id</th>\n      <th>name</th>\n      <th>value</th>\n      <th>value_dams</th>\n    </tr>\n  </thead>\n  <tbody>\n    <tr>\n      <th>0</th>\n      <td>1</td>\n      <td>2021-01-11 00:14:59.165000+00:00</td>\n      <td>29</td>\n      <td>朝のアンケート</td>\n      <td>25.0</td>\n      <td>はつらつとした</td>\n      <td>3: どちらともいえない</td>\n      <td>3.0</td>\n    </tr>\n    <tr>\n      <th>1</th>\n      <td>2</td>\n      <td>2021-01-11 00:14:59.165000+00:00</td>\n      <td>29</td>\n      <td>朝のアンケート</td>\n      <td>26.0</td>\n      <td>暗い</td>\n      <td>0: まったくあてはまらない</td>\n      <td>0.0</td>\n    </tr>\n    <tr>\n      <th>2</th>\n      <td>3</td>\n      <td>2021-01-11 00:14:59.165000+00:00</td>\n      <td>29</td>\n      <td>朝のアンケート</td>\n      <td>27.0</td>\n      <td>気がかりな</td>\n      <td>4: ややあてはまる</td>\n      <td>4.0</td>\n    </tr>\n    <tr>\n      <th>3</th>\n      <td>4</td>\n      <td>2021-01-11 00:14:59.165000+00:00</td>\n      <td>29</td>\n      <td>朝のアンケート</td>\n      <td>28.0</td>\n      <td>嬉しい</td>\n      <td>2: ややあてはまらない</td>\n      <td>2.0</td>\n    </tr>\n    <tr>\n      <th>4</th>\n      <td>5</td>\n      <td>2021-01-11 00:14:59.165000+00:00</td>\n      <td>29</td>\n      <td>朝のアンケート</td>\n      <td>29.0</td>\n      <td>嫌な</td>\n      <td>0: まったくあてはまらない</td>\n      <td>0.0</td>\n    </tr>\n    <tr>\n      <th>...</th>\n      <td>...</td>\n      <td>...</td>\n      <td>...</td>\n      <td>...</td>\n      <td>...</td>\n      <td>...</td>\n      <td>...</td>\n      <td>...</td>\n    </tr>\n    <tr>\n      <th>12146</th>\n      <td>172148</td>\n      <td>2021-01-29 23:44:50.116000+00:00</td>\n      <td>41</td>\n      <td>朝のアンケート</td>\n      <td>29.0</td>\n      <td>嫌な</td>\n      <td>0: まったくあてはまらない</td>\n      <td>0.0</td>\n    </tr>\n    <tr>\n      <th>12147</th>\n      <td>172149</td>\n      <td>2021-01-29 23:44:50.116000+00:00</td>\n      <td>41</td>\n      <td>朝のアンケート</td>\n      <td>30.0</td>\n      <td>不安な</td>\n      <td>0: まったくあてはまらない</td>\n      <td>0.0</td>\n    </tr>\n    <tr>\n      <th>12148</th>\n      <td>172150</td>\n      <td>2021-01-29 23:44:50.116000+00:00</td>\n      <td>41</td>\n      <td>朝のアンケート</td>\n      <td>31.0</td>\n      <td>楽しい</td>\n      <td>3: どちらともいえない</td>\n      <td>3.0</td>\n    </tr>\n    <tr>\n      <th>12149</th>\n      <td>172151</td>\n      <td>2021-01-29 23:44:50.116000+00:00</td>\n      <td>41</td>\n      <td>朝のアンケート</td>\n      <td>32.0</td>\n      <td>沈んだ</td>\n      <td>0: まったくあてはまらない</td>\n      <td>0.0</td>\n    </tr>\n    <tr>\n      <th>12150</th>\n      <td>172152</td>\n      <td>2021-01-29 23:44:50.116000+00:00</td>\n      <td>41</td>\n      <td>朝のアンケート</td>\n      <td>33.0</td>\n      <td>心配な</td>\n      <td>0: まったくあてはまらない1</td>\n      <td>0.0</td>\n    </tr>\n  </tbody>\n</table>\n<p>12151 rows × 8 columns</p>\n</div>"
     },
     "metadata": {},
     "execution_count": 17
    }
   ],
   "source": []
  },
  {
   "cell_type": "code",
   "execution_count": null,
   "metadata": {},
   "outputs": [],
   "source": []
  }
 ]
}