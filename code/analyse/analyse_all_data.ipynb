{
 "cells": [
  {
   "cell_type": "code",
   "execution_count": 168,
   "id": "entire-startup",
   "metadata": {},
   "outputs": [],
   "source": [
    "import pandas as pd\n",
    "import datetime as dt\n",
    "import seaborn as sns\n",
    "import numpy as np"
   ]
  },
  {
   "cell_type": "code",
   "execution_count": 169,
   "id": "quiet-caribbean",
   "metadata": {},
   "outputs": [],
   "source": [
    "#行動データ\n",
    "work_detail = pd.read_csv('../../datas/groupby_widedata/work_detail.csv')\n",
    "work_env = pd.read_csv('../../datas/groupby_widedata/work_env.csv')\n",
    "#fitbitデータ\n",
    "calories = pd.read_csv('../../datas/fitbit_preprocessed_data/agg_for_day/calories_day.csv')\n",
    "floors = pd.read_csv('../../datas/fitbit_preprocessed_data/agg_for_day/floors_day.csv')\n",
    "heart = pd.read_csv('../../datas/fitbit_preprocessed_data/agg_for_day/heart_day.csv')\n",
    "minutesFairlyActive= pd.read_csv('../../datas/fitbit_preprocessed_data/agg_for_day/minutesFairlyActive_day.csv')\n",
    "minutesLightlyActive = pd.read_csv('../../datas/fitbit_preprocessed_data/agg_for_day/minutesLightlyActive_day.csv')\n",
    "minutesSedentary = pd.read_csv('../../datas/fitbit_preprocessed_data/agg_for_day/minutesSedentary_day.csv')\n",
    "minutesVeryActive = pd.read_csv('../../datas/fitbit_preprocessed_data/agg_for_day/minutesVeryActive_day.csv')\n",
    "steps = pd.read_csv('../../datas/fitbit_preprocessed_data/agg_for_day/steps_day.csv')\n",
    "sleep = pd.read_csv('../../datas/fitbit_preprocessed_data/sleep.csv')\n",
    "#アンケートデータ\n",
    "morning_bodyfatigue = pd.read_csv('./analyse_data/questionaire_data/morning_bodyfatigue.csv')\n",
    "morning_dams = pd.read_csv('./analyse_data/questionaire_data/morning_dams.csv')\n",
    "night_w_bodyfatigue = pd.read_csv('./analyse_data/questionaire_data/night_w_bodyfatigue.csv')\n",
    "night_w_dams = pd.read_csv('./analyse_data/questionaire_data/night_w_dams.csv')\n",
    "night_w_eval = pd.read_csv('./analyse_data/questionaire_data/night_w_eval.csv')\n",
    "night_w_productivity = pd.read_csv('./analyse_data/questionaire_data/night_w_productivity.csv')\n",
    "night_w_recover = pd.read_csv('./analyse_data/questionaire_data/night_w_recover.csv')\n",
    "night_w_workenga = pd.read_csv('./analyse_data/questionaire_data/night_w_workenga.csv')\n",
    "#天気データ\n",
    "weather = pd.read_csv('../../datas/attribute_weater.csv')"
   ]
  },
  {
   "cell_type": "code",
   "execution_count": 170,
   "id": "collaborative-moderator",
   "metadata": {},
   "outputs": [],
   "source": [
    "night_w_dams['positive_score'] = night_w_dams['haturatu']+night_w_dams['tanosii']+night_w_dams['uresii']/3\n",
    "night_w_dams['depressive_score'] = night_w_dams['kurai']+night_w_dams['iyana']+night_w_dams['sizunda']/3\n",
    "night_w_dams['anxious_score'] = night_w_dams['kigakari']+night_w_dams['fuan']+night_w_dams['sinpai']/3"
   ]
  },
  {
   "cell_type": "code",
   "execution_count": 171,
   "id": "average-lightweight",
   "metadata": {},
   "outputs": [],
   "source": [
    "def to_datetime_jp2(x, datetime):\n",
    "    x.index = pd.DatetimeIndex(x[datetime], name=datetime).tz_convert('Asia/Tokyo')\n",
    "    x[datetime] = x.index\n",
    "    x = x.reset_index(drop=True)\n",
    "#     x[datetime] = x[datetime]+timedelta(days=1)\n",
    "    x['date'] = x[datetime].dt.date\n",
    "    return x"
   ]
  },
  {
   "cell_type": "code",
   "execution_count": 172,
   "id": "instrumental-variance",
   "metadata": {},
   "outputs": [],
   "source": [
    "activity = activity.reset_index(drop=True)"
   ]
  },
  {
   "cell_type": "code",
   "execution_count": 173,
   "id": "material-drawing",
   "metadata": {},
   "outputs": [
    {
     "ename": "KeyError",
     "evalue": "'activity'",
     "output_type": "error",
     "traceback": [
      "\u001b[0;31m---------------------------------------------------------------------------\u001b[0m",
      "\u001b[0;31mKeyError\u001b[0m                                  Traceback (most recent call last)",
      "\u001b[0;32m~/Library/Python/3.8/lib/python/site-packages/pandas/core/indexes/base.py\u001b[0m in \u001b[0;36mget_loc\u001b[0;34m(self, key, method, tolerance)\u001b[0m\n\u001b[1;32m   3079\u001b[0m             \u001b[0;32mtry\u001b[0m\u001b[0;34m:\u001b[0m\u001b[0;34m\u001b[0m\u001b[0;34m\u001b[0m\u001b[0m\n\u001b[0;32m-> 3080\u001b[0;31m                 \u001b[0;32mreturn\u001b[0m \u001b[0mself\u001b[0m\u001b[0;34m.\u001b[0m\u001b[0m_engine\u001b[0m\u001b[0;34m.\u001b[0m\u001b[0mget_loc\u001b[0m\u001b[0;34m(\u001b[0m\u001b[0mcasted_key\u001b[0m\u001b[0;34m)\u001b[0m\u001b[0;34m\u001b[0m\u001b[0;34m\u001b[0m\u001b[0m\n\u001b[0m\u001b[1;32m   3081\u001b[0m             \u001b[0;32mexcept\u001b[0m \u001b[0mKeyError\u001b[0m \u001b[0;32mas\u001b[0m \u001b[0merr\u001b[0m\u001b[0;34m:\u001b[0m\u001b[0;34m\u001b[0m\u001b[0;34m\u001b[0m\u001b[0m\n",
      "\u001b[0;32mpandas/_libs/index.pyx\u001b[0m in \u001b[0;36mpandas._libs.index.IndexEngine.get_loc\u001b[0;34m()\u001b[0m\n",
      "\u001b[0;32mpandas/_libs/index.pyx\u001b[0m in \u001b[0;36mpandas._libs.index.IndexEngine.get_loc\u001b[0;34m()\u001b[0m\n",
      "\u001b[0;32mpandas/_libs/hashtable_class_helper.pxi\u001b[0m in \u001b[0;36mpandas._libs.hashtable.PyObjectHashTable.get_item\u001b[0;34m()\u001b[0m\n",
      "\u001b[0;32mpandas/_libs/hashtable_class_helper.pxi\u001b[0m in \u001b[0;36mpandas._libs.hashtable.PyObjectHashTable.get_item\u001b[0;34m()\u001b[0m\n",
      "\u001b[0;31mKeyError\u001b[0m: 'activity'",
      "\nThe above exception was the direct cause of the following exception:\n",
      "\u001b[0;31mKeyError\u001b[0m                                  Traceback (most recent call last)",
      "\u001b[0;32m<ipython-input-173-9190f851bbc4>\u001b[0m in \u001b[0;36m<module>\u001b[0;34m\u001b[0m\n\u001b[0;32m----> 1\u001b[0;31m \u001b[0mvalue_unique\u001b[0m \u001b[0;34m=\u001b[0m \u001b[0mactivity\u001b[0m\u001b[0;34m[\u001b[0m\u001b[0;34m'activity'\u001b[0m\u001b[0;34m]\u001b[0m\u001b[0;34m.\u001b[0m\u001b[0munique\u001b[0m\u001b[0;34m(\u001b[0m\u001b[0;34m)\u001b[0m\u001b[0;34m\u001b[0m\u001b[0;34m\u001b[0m\u001b[0m\n\u001b[0m\u001b[1;32m      2\u001b[0m zero_td = dt.timedelta(days=0, hours=0, minutes=0,\n\u001b[1;32m      3\u001b[0m                         seconds=0, milliseconds=0, microseconds=0)\n\u001b[1;32m      4\u001b[0m \u001b[0mactivity\u001b[0m\u001b[0;34m[\u001b[0m\u001b[0;34m'started_at'\u001b[0m\u001b[0;34m]\u001b[0m \u001b[0;34m=\u001b[0m \u001b[0mpd\u001b[0m\u001b[0;34m.\u001b[0m\u001b[0mto_datetime\u001b[0m\u001b[0;34m(\u001b[0m\u001b[0mactivity\u001b[0m\u001b[0;34m[\u001b[0m\u001b[0;34m'started_at'\u001b[0m\u001b[0;34m]\u001b[0m\u001b[0;34m)\u001b[0m\u001b[0;34m\u001b[0m\u001b[0;34m\u001b[0m\u001b[0m\n\u001b[1;32m      5\u001b[0m \u001b[0mactivity\u001b[0m\u001b[0;34m[\u001b[0m\u001b[0;34m'finished_at'\u001b[0m\u001b[0;34m]\u001b[0m \u001b[0;34m=\u001b[0m \u001b[0mpd\u001b[0m\u001b[0;34m.\u001b[0m\u001b[0mto_datetime\u001b[0m\u001b[0;34m(\u001b[0m\u001b[0mactivity\u001b[0m\u001b[0;34m[\u001b[0m\u001b[0;34m'finished_at'\u001b[0m\u001b[0;34m]\u001b[0m\u001b[0;34m)\u001b[0m\u001b[0;34m\u001b[0m\u001b[0;34m\u001b[0m\u001b[0m\n",
      "\u001b[0;32m~/Library/Python/3.8/lib/python/site-packages/pandas/core/frame.py\u001b[0m in \u001b[0;36m__getitem__\u001b[0;34m(self, key)\u001b[0m\n\u001b[1;32m   3022\u001b[0m             \u001b[0;32mif\u001b[0m \u001b[0mself\u001b[0m\u001b[0;34m.\u001b[0m\u001b[0mcolumns\u001b[0m\u001b[0;34m.\u001b[0m\u001b[0mnlevels\u001b[0m \u001b[0;34m>\u001b[0m \u001b[0;36m1\u001b[0m\u001b[0;34m:\u001b[0m\u001b[0;34m\u001b[0m\u001b[0;34m\u001b[0m\u001b[0m\n\u001b[1;32m   3023\u001b[0m                 \u001b[0;32mreturn\u001b[0m \u001b[0mself\u001b[0m\u001b[0;34m.\u001b[0m\u001b[0m_getitem_multilevel\u001b[0m\u001b[0;34m(\u001b[0m\u001b[0mkey\u001b[0m\u001b[0;34m)\u001b[0m\u001b[0;34m\u001b[0m\u001b[0;34m\u001b[0m\u001b[0m\n\u001b[0;32m-> 3024\u001b[0;31m             \u001b[0mindexer\u001b[0m \u001b[0;34m=\u001b[0m \u001b[0mself\u001b[0m\u001b[0;34m.\u001b[0m\u001b[0mcolumns\u001b[0m\u001b[0;34m.\u001b[0m\u001b[0mget_loc\u001b[0m\u001b[0;34m(\u001b[0m\u001b[0mkey\u001b[0m\u001b[0;34m)\u001b[0m\u001b[0;34m\u001b[0m\u001b[0;34m\u001b[0m\u001b[0m\n\u001b[0m\u001b[1;32m   3025\u001b[0m             \u001b[0;32mif\u001b[0m \u001b[0mis_integer\u001b[0m\u001b[0;34m(\u001b[0m\u001b[0mindexer\u001b[0m\u001b[0;34m)\u001b[0m\u001b[0;34m:\u001b[0m\u001b[0;34m\u001b[0m\u001b[0;34m\u001b[0m\u001b[0m\n\u001b[1;32m   3026\u001b[0m                 \u001b[0mindexer\u001b[0m \u001b[0;34m=\u001b[0m \u001b[0;34m[\u001b[0m\u001b[0mindexer\u001b[0m\u001b[0;34m]\u001b[0m\u001b[0;34m\u001b[0m\u001b[0;34m\u001b[0m\u001b[0m\n",
      "\u001b[0;32m~/Library/Python/3.8/lib/python/site-packages/pandas/core/indexes/base.py\u001b[0m in \u001b[0;36mget_loc\u001b[0;34m(self, key, method, tolerance)\u001b[0m\n\u001b[1;32m   3080\u001b[0m                 \u001b[0;32mreturn\u001b[0m \u001b[0mself\u001b[0m\u001b[0;34m.\u001b[0m\u001b[0m_engine\u001b[0m\u001b[0;34m.\u001b[0m\u001b[0mget_loc\u001b[0m\u001b[0;34m(\u001b[0m\u001b[0mcasted_key\u001b[0m\u001b[0;34m)\u001b[0m\u001b[0;34m\u001b[0m\u001b[0;34m\u001b[0m\u001b[0m\n\u001b[1;32m   3081\u001b[0m             \u001b[0;32mexcept\u001b[0m \u001b[0mKeyError\u001b[0m \u001b[0;32mas\u001b[0m \u001b[0merr\u001b[0m\u001b[0;34m:\u001b[0m\u001b[0;34m\u001b[0m\u001b[0;34m\u001b[0m\u001b[0m\n\u001b[0;32m-> 3082\u001b[0;31m                 \u001b[0;32mraise\u001b[0m \u001b[0mKeyError\u001b[0m\u001b[0;34m(\u001b[0m\u001b[0mkey\u001b[0m\u001b[0;34m)\u001b[0m \u001b[0;32mfrom\u001b[0m \u001b[0merr\u001b[0m\u001b[0;34m\u001b[0m\u001b[0;34m\u001b[0m\u001b[0m\n\u001b[0m\u001b[1;32m   3083\u001b[0m \u001b[0;34m\u001b[0m\u001b[0m\n\u001b[1;32m   3084\u001b[0m         \u001b[0;32mif\u001b[0m \u001b[0mtolerance\u001b[0m \u001b[0;32mis\u001b[0m \u001b[0;32mnot\u001b[0m \u001b[0;32mNone\u001b[0m\u001b[0;34m:\u001b[0m\u001b[0;34m\u001b[0m\u001b[0;34m\u001b[0m\u001b[0m\n",
      "\u001b[0;31mKeyError\u001b[0m: 'activity'"
     ]
    }
   ],
   "source": [
    "value_unique = activity['activity'].unique()\n",
    "zero_td = dt.timedelta(days=0, hours=0, minutes=0,\n",
    "                        seconds=0, milliseconds=0, microseconds=0)\n",
    "activity['started_at'] = pd.to_datetime(activity['started_at'])\n",
    "activity['finished_at'] = pd.to_datetime(activity['finished_at'])\n",
    "for i in range(len(value_unique)):\n",
    "    activity['{}'.format(value_unique[i])] = zero_td  #timedeltaの０で埋める\n",
    "    activity.loc[activity['activity']==value_unique[i],value_unique[i]]=activity['finished_at']-activity['started_at']  #行動の継続時間を計算\n",
    "    activity['{}'.format(value_unique[i])] = activity['{}'.format(value_unique[i])].dt.total_seconds()/60  #\n",
    "activity['date'] = activity['finished_at'].dt.date"
   ]
  },
  {
   "cell_type": "code",
   "execution_count": 180,
   "id": "grand-removal",
   "metadata": {},
   "outputs": [],
   "source": [
    "activity = activity.groupby(['date','user_id'],as_index=False).sum()"
   ]
  },
  {
   "cell_type": "markdown",
   "id": "comparable-falls",
   "metadata": {},
   "source": [
    "## アンケートデータの前処理"
   ]
  },
  {
   "cell_type": "code",
   "execution_count": 174,
   "id": "respiratory-cargo",
   "metadata": {},
   "outputs": [],
   "source": [
    "#目的変数のラベルづけ\n",
    "#下位40%と上位40％の二値分類をする\n",
    "def labeling(df, colmn):\n",
    "    under_40 = df[colmn].quantile(0.4)\n",
    "    upper_60 = df[colmn].quantile(0.6)\n",
    "    df.loc[df[colmn]<=under_40,colmn + '_label']=0\n",
    "    df.loc[df[colmn]>=upper_60,colmn + '_label']=2\n",
    "    df.loc[(df[colmn]<upper_60)&(df[colmn]>under_40),colmn + '_label']=1"
   ]
  },
  {
   "cell_type": "code",
   "execution_count": 237,
   "id": "auburn-patrick",
   "metadata": {},
   "outputs": [],
   "source": [
    "# def hour9():\n",
    "attribute_weather = pd.read_csv('../../datas/attribute_weater.csv')\n",
    "attribute_weather = attribute_weather[['Date', 'ave_temperature', 'max_temperature',\n",
    "       'mini_temperature', 'sum_rainfall', 'sunlight_time', 'ave_windspeed',\n",
    "       'max_windspeed', 'ave_vaporpressure', 'ave_cloudcover', 'weather_6to18',\n",
    "       'weather_18to6', 'locate', 'user_id', 'sex', 'age']]"
   ]
  },
  {
   "cell_type": "code",
   "execution_count": 176,
   "id": "brief-jamaica",
   "metadata": {},
   "outputs": [],
   "source": [
    "labeling(morning_bodyfatigue, 'value_hukai')\n",
    "labeling(morning_bodyfatigue, 'value_boyake')\n",
    "labeling(morning_bodyfatigue, 'value_nemuke')\n",
    "labeling(morning_dams, 'positive_score')\n",
    "labeling(morning_dams, 'depressive_score')\n",
    "labeling(morning_dams, 'anxious_score')\n",
    "\n",
    "labeling(night_w_bodyfatigue, 'value_hukai')\n",
    "labeling(night_w_bodyfatigue, 'value_boyake')\n",
    "labeling(night_w_bodyfatigue, 'value_nemuke')\n",
    "labeling(night_w_dams, 'positive_score')\n",
    "labeling(night_w_dams, 'depressive_score')\n",
    "labeling(night_w_dams, 'anxious_score')\n",
    "#夜アンケー自己評価\n",
    "labeling(night_w_eval, 'kouritu')\n",
    "labeling(night_w_eval, 'syutyu')\n",
    "labeling(night_w_eval, 'yoteidori')\n",
    "labeling(night_w_eval, 'jubun_comu')\n",
    "labeling(night_w_eval, 'kouritu_comu')\n",
    "labeling(night_w_eval, 'idea')\n",
    "labeling(night_w_eval, 'seika')\n",
    "#夜アンケー生産性\n",
    "labeling(night_w_productivity, 'study_new')\n",
    "labeling(night_w_productivity, 'decide_doing')\n",
    "labeling(night_w_productivity, 'paformance')\n",
    "labeling(night_w_productivity, 'absent_by_problem')\n",
    "#夜アンケーリカバリー経験\n",
    "labeling(night_w_recover, 'value_recover')\n",
    "#夜アンケーワークエンゲージメント\n",
    "labeling(night_w_workenga, 'workenga_score')"
   ]
  },
  {
   "cell_type": "markdown",
   "id": "adapted-fancy",
   "metadata": {},
   "source": [
    "## それぞれのデータをマージ"
   ]
  },
  {
   "cell_type": "code",
   "execution_count": 177,
   "id": "dirty-floating",
   "metadata": {},
   "outputs": [],
   "source": [
    "#いらないカラムを捨てる\n",
    "work_detail = work_detail[['date', 'user_id', \n",
    "       '管理者兼作業者', '企画業務', 'ノンコア業務（自身が本来担当ではない業務）', '管理者',\n",
    "       '比較的慣れており，定型化できている業務', 'コア業務（自身が本来担当している業務）', '共同作業者', '開発業務', '管理業務',\n",
    "       '作業者/参加者', '管理の業務', '比較的新規性が高く，試行錯誤を伴う定型化できていない業務', '営業業務',\n",
    "       '事務業務（サポート業務、経理業務など）', '現場業務（主に肉体労働を伴うもの）', '現場（主に肉体労働を伴うもの）']]\n",
    "work_env = work_env[['date', 'user_id',\n",
    "       '家（その他）', 'どちらでもない', '一人', '家（書斎など執務向けの場所）', '他者あり（同僚など）', '家（リビングなど）',\n",
    "       '快適', '職場外のワークスペース', '他者あり（無干渉）', '他者あり（同僚）', '職場', '他者あり（家族など）', '店/外',\n",
    "       '不快', '非常に快適', '職場外ワークスペース', '非常に不快']]\n",
    "calories = calories[[ 'user_id', 'date', 'mets_mean', 'calory_mean',\n",
    "       'mets_median', 'calory_median', 'mets_var', 'calory_var', 'date_plus1']]\n",
    "floors = floors[[ 'user_id', 'date', 'floor_mean', 'floor_median',\n",
    "       'floor_var', 'date_plus1']]\n",
    "heart = heart[['user_id', 'date', 'heart_mean', 'heart_median',\n",
    "       'heart_var', 'date_plus1']]\n",
    "minutesFairlyActive = minutesFairlyActive[['user_id', 'date', 'minutesFairlyActive_mean',\n",
    "       'minutesFairlyActive_median', 'minutesFairlyActive_var', 'date_plus1']]\n",
    "minutesLightlyActive = minutesLightlyActive[['user_id', 'date', 'minutesLightlyActive_mean',\n",
    "       'minutesLightlyActive_median', 'minutesLightlyActive_var',\n",
    "       'date_plus1']]\n",
    "minutesSedentary = minutesSedentary[['user_id', 'date', 'minutesSedentary_mean',\n",
    "       'minutesSedentary_median', 'minutesSedentary_var', 'date_plus1']]\n",
    "minutesVeryActive = minutesVeryActive[[ 'user_id', 'date', 'minutesVeryActive_mean',\n",
    "       'minutesVeryActive_median', 'minutesVeryActive_var', 'date_plus1']]\n",
    "steps = steps[[ 'user_id', 'date', 'step_mean', 'step_median', 'step_var',\n",
    "       'date_plus1']]\n",
    "sleep = sleep[['Unnamed: 0', 'date', 'user_id', 'sleep', 'Unnamed: 0.1', 'datetime',\n",
    "       'dateTime', 'sleep_1', 'sleep_2', 'sleep_3']]\n",
    "morning_bodyfatigue = morning_bodyfatigue[[ 'date', 'user_id', 'value_nemuke',\n",
    "       'value_hukai', 'value_boyake', 'value_nemuke_label',\n",
    "       'value_hukai_label', 'value_boyake_label']]\n",
    "morning_dams = morning_dams[[ 'user_id', 'Date_jp',  'date',\n",
    "       'positive_score_label', 'depressive_score_label',\n",
    "       'anxious_score_label']]\n",
    "night_w_bodyfatigue = night_w_bodyfatigue[['user_id', 'date',\n",
    "       'value_hukai_label', 'value_boyake_label', 'value_nemuke_label']]\n",
    "night_w_dams = night_w_dams[[ 'date', 'user_id', 'positive_score_label',\n",
    "       'depressive_score_label', 'anxious_score_label']]\n",
    "night_w_eval = night_w_eval[['datetime_jp', 'user_id',\n",
    "       'value_eval', 'hour', \n",
    "       'date', 'kouritu_label', 'syutyu_label', 'yoteidori_label',\n",
    "       'jubun_comu_label', 'kouritu_comu_label', 'idea_label', 'seika_label']]\n",
    "night_w_productivity = night_w_productivity[['datetime_jp', 'user_id',\n",
    "       'date', 'study_new_label', 'decide_doing_label', 'paformance_label',\n",
    "       'absent_by_problem_label']]\n",
    "night_w_recover = night_w_recover[['datetime_jp', 'user_id', \n",
    "       'date', 'value_recover_label']]\n",
    "night_w_workenga = night_w_workenga[['datetime_jp', 'user_id', \n",
    "        'date','workenga_score_label']]\n"
   ]
  },
  {
   "cell_type": "code",
   "execution_count": 178,
   "id": "cathedral-hospital",
   "metadata": {},
   "outputs": [],
   "source": [
    "activity = activity[[ 'user_id','date', '食事（業務時間外）',\n",
    "       '単独作業', '趣味・休憩', '家事・育児', '休憩（業務時間内）', '移動', 'Web会議', 'その他', '業務外作業',\n",
    "       '対面会議', '共同作業（コミュニケーションを伴う）', '電話（会議）']]"
   ]
  },
  {
   "cell_type": "code",
   "execution_count": 208,
   "id": "excellent-school",
   "metadata": {},
   "outputs": [],
   "source": [
    "# アクティビティデータのマージ\n",
    "merged_act = pd.merge(activity_1, work_detail_1, on=['date','user_id'],how='left')\n",
    "merged_act = pd.merge(merged_act, merged_act, on=['date', 'user_id'],how='left')\n",
    "\n",
    "# work_env.to_csv('./work_data/work_env.csv')"
   ]
  },
  {
   "cell_type": "code",
   "execution_count": 222,
   "id": "retired-banana",
   "metadata": {},
   "outputs": [],
   "source": [
    "#fitbitデータ\n",
    "merged_fitbit = pd.merge(calories, floors, on=['date', 'user_id'], how='left')\n",
    "merged_fitbit = pd.merge(merged_fitbit, heart, on=['date', 'user_id'], how='left')\n",
    "merged_fitbit = pd.merge(merged_fitbit, minutesFairlyActive, on=['date', 'user_id'], how='left')\n",
    "merged_fitbit = pd.merge(merged_fitbit, minutesLightlyActive, on=['date', 'user_id'], how='left')\n",
    "merged_fitbit = pd.merge(merged_fitbit, minutesSedentary, on=['date', 'user_id'], how='left')\n",
    "merged_fitbit = pd.merge(merged_fitbit, minutesVeryActive, on=['date', 'user_id'], how='left')\n",
    "merged_fitbit = pd.merge(merged_fitbit, steps, on=['date', 'user_id'], how='left')\n",
    "merged_fitbit = pd.merge(merged_fitbit, sleep, on=['date', 'user_id'], how='left')\n",
    "# calories.to_csv('./fitbit/calories.csv')\n",
    "# floors.to_csv('./fitbit/floors.csv')\n",
    "# heart.to_csv('./fitbit/heart.csv')\n",
    "# minutesFairlyActive.to_csv('./fitbit/minutesFairlyActive.csv')\n",
    "# minutesLightlyActive.to_csv('./fitbit/minutesLightlyActive.csv')\n",
    "# minutesSedentary.to_csv('./fitbit/minutesSedentary.csv')\n",
    "# minutesVeryActive.to_csv('./fitbit/minutesVeryActive.csv')\n",
    "# steps.to_csv('./fitbit/steps.csv')\n",
    "# sleep.to_csv('./fitbit/sleep.csv')"
   ]
  },
  {
   "cell_type": "code",
   "execution_count": 232,
   "id": "endangered-growth",
   "metadata": {},
   "outputs": [],
   "source": [
    "#アンケートデータのマージ\n",
    "#朝\n",
    "merged_morning = pd.merge(morning_dams, morning_bodyfatigue, on=['date','user_id'], how='left')\n",
    "#平日夜\n",
    "merged_night_w = pd.merge(night_w_dams, night_w_bodyfatigue, on=['date','user_id'], how='left')\n",
    "merged_night_w = pd.merge(merged_night_w, night_w_eval, on=['date','user_id'], how='left')\n",
    "merged_night_w = pd.merge(merged_night_w, night_w_productivity, on=['date','user_id'], how='left')\n",
    "merged_night_w = pd.merge(merged_night_w, night_w_recover, on=['date','user_id'], how='left')\n",
    "merged_night_w = pd.merge(merged_night_w, night_w_workenga, on=['date','user_id'], how='left')"
   ]
  },
  {
   "cell_type": "code",
   "execution_count": 235,
   "id": "industrial-times",
   "metadata": {},
   "outputs": [],
   "source": [
    "# merged_night_w.to_csv('./merged_data/merged_night_w.csv')\n",
    "# merged_fitbit.to_csv('./merged_data/merged_fitbit.csv')\n",
    "# merged_act.to_csv('./merged_data/merged_act.csv')\n"
   ]
  },
  {
   "cell_type": "code",
   "execution_count": null,
   "id": "present-living",
   "metadata": {},
   "outputs": [],
   "source": [
    "# def lgbm_model()\n",
    "import numpy as np\n",
    "import pandas as pd\n",
    "import lightgbm as lgb\n",
    "from sklearn import datasets\n",
    "from sklearn.model_selection import train_test_split\n",
    "from sklearn.metrics import f1_score\n",
    "# ques_act_day_pred['user_id'] = ques_act_day_pred['user_id'].astype('int')\n",
    "X = \n",
    "y = \n",
    "\n",
    "# 学習データとテストデータを分ける\n",
    "X_train, X_test, y_train, y_test = train_test_split(X, y)\n",
    "\n",
    "# データを格納する\n",
    "lgb_train = lgb.Dataset(X_train, y_train)\n",
    "lgb_eval = lgb.Dataset(X_test, y_test, reference=lgb_train)\n",
    "\n",
    "# 学習条件を設定\n",
    "params = {'task': 'train',\n",
    "          'boosting_type': 'gbdt',\n",
    "          'objective': 'multiclass',\n",
    "          'metric': {'multi_logloss'},\n",
    "          'num_class': 3,\n",
    "          'learning_rate': 0.02,\n",
    "          'num_leaves': 23,\n",
    "          'min_data_in_leaf': 1,\n",
    "          'num_iteration': 1000,\n",
    "          'verbose': 0}\n",
    "\n",
    "# 学習する\n",
    "model = lgb.train(params,\n",
    "                  lgb_train,\n",
    "                  num_boost_round=50,\n",
    "                  valid_sets=lgb_eval,\n",
    "                  early_stopping_rounds=20)\n",
    "\n",
    "# テストデータで予測する\n",
    "y_pred = model.predict(X_test, num_iteration=model.best_iteration)\n",
    "y_pred_max = np.argmax(y_pred, axis=1)\n",
    "\n",
    "# Accuracy を計算する\n",
    "accuracy = sum(y_test == y_pred_max) / len(y_test)\n",
    "print('accuracy:', accuracy)\n",
    "\n",
    "# importanceを表示する\n",
    "importance = pd.DataFrame(model.feature_importance(), index=list(X.columns), columns=['importance'])\n",
    "display(importance)\n",
    "importance.plot.bar()\n"
   ]
  }
 ],
 "metadata": {
  "kernelspec": {
   "display_name": "Python 3",
   "language": "python",
   "name": "python3"
  },
  "language_info": {
   "codemirror_mode": {
    "name": "ipython",
    "version": 3
   },
   "file_extension": ".py",
   "mimetype": "text/x-python",
   "name": "python",
   "nbconvert_exporter": "python",
   "pygments_lexer": "ipython3",
   "version": "3.8.7"
  }
 },
 "nbformat": 4,
 "nbformat_minor": 5
}
