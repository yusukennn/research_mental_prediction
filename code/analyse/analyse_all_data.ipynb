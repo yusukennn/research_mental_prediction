{
 "cells": [
  {
   "cell_type": "code",
   "execution_count": 1,
   "id": "separated-weekly",
   "metadata": {},
   "outputs": [],
   "source": [
    "import pandas as pd\n",
    "import datetime as dt\n",
    "import seaborn as sns\n",
    "import numpy as np"
   ]
  },
  {
   "cell_type": "code",
   "execution_count": 4,
   "id": "embedded-extent",
   "metadata": {},
   "outputs": [],
   "source": [
    "#行動データ\n",
    "work_detail = pd.read_csv('../../datas/groupby_widedata/work_detail.csv')\n",
    "work_env = pd.read_csv('../../datas/groupby_widedata/work_env.csv')\n",
    "#fitbitデータ\n",
    "calories = pd.read_csv('../../datas/fitbit_preprocessed_data/agg_for_day/calories_day.csv')\n",
    "floors = pd.read_csv('../../datas/fitbit_preprocessed_data/agg_for_day/floors_day.csv')\n",
    "heart = pd.read_csv('../../datas/fitbit_preprocessed_data/agg_for_day/heart_day.csv')\n",
    "minutesFairlyActive= pd.read_csv('../../datas/fitbit_preprocessed_data/agg_for_day/minutesFairlyActive_day.csv')\n",
    "minutesLightlyActive = pd.read_csv('../../datas/fitbit_preprocessed_data/agg_for_day/minutesLightlyActive_day.csv')\n",
    "minutesSedentary = pd.read_csv('../../datas/fitbit_preprocessed_data/agg_for_day/minutesSedentary_day.csv')\n",
    "minutesVeryActive = pd.read_csv('../../datas/fitbit_preprocessed_data/agg_for_day/minutesVeryActive_day.csv')\n",
    "steps = pd.read_csv('../../datas/fitbit_preprocessed_data/agg_for_day/steps_day.csv')\n",
    "sleep = pd.read_csv('../../datas/fitbit_preprocessed_data/sleep.csv')\n",
    "#アンケートデータ\n",
    "morning_bodyfatigue = pd.read_csv('./analyse_data/questionaire_data/morning_bodyfatigue.csv')\n",
    "morning_dams = pd.read_csv('./analyse_data/questionaire_data/morning_dams.csv')\n",
    "night_w_bodyfatigue = pd.read_csv('./analyse_data/questionaire_data/night_w_bodyfatigue.csv')\n",
    "night_w_dams = pd.read_csv('./analyse_data/questionaire_data/night_w_dams.csv')\n",
    "night_w_eval = pd.read_csv('./analyse_data/questionaire_data/night_w_eval.csv')\n",
    "night_w_productivity = pd.read_csv('./analyse_data/questionaire_data/night_w_productivity.csv')\n",
    "night_w_recover = pd.read_csv('./analyse_data/questionaire_data/night_w_recover.csv')\n",
    "night_w_workenga = pd.read_csv('./analyse_data/questionaire_data/night_w_workenga.csv')\n",
    "#天気データ\n"
   ]
  },
  {
   "cell_type": "code",
   "execution_count": 37,
   "id": "proved-glossary",
   "metadata": {},
   "outputs": [],
   "source": [
    "night_w_dams['positive_score'] = night_w_dams['haturatu']+night_w_dams['tanosii']+night_w_dams['uresii']/3\n",
    "night_w_dams['depressive_score'] = night_w_dams['kurai']+night_w_dams['iyana']+night_w_dams['sizunda']/3\n",
    "night_w_dams['anxious_score'] = night_w_dams['kigakari']+night_w_dams['fuan']+night_w_dams['sinpai']/3"
   ]
  },
  {
   "cell_type": "markdown",
   "id": "veterinary-cylinder",
   "metadata": {},
   "source": [
    "## アンケートデータの前処理"
   ]
  },
  {
   "cell_type": "code",
   "execution_count": 24,
   "id": "cordless-lesson",
   "metadata": {},
   "outputs": [],
   "source": [
    "# under_40 = morning_bodyfatigue['value_nemuke'].quantile(0.4)\n",
    "# upper_60 = morning_bodyfatigue['value_nemuke'].quantile(0.6)\n",
    "# morning_bodyfatigue.loc[morning_bodyfatigue['value_nemuke']<=under_40,'value_nemuke_label']=0\n",
    "# morning_bodyfatigue.loc[morning_bodyfatigue['value_nemuke']>=upper_60,'value_nemuke_label']=2\n",
    "# morning_bodyfatigue.loc[(morning_bodyfatigue['value_nemuke']<upper_60)&(morning_bodyfatigue['value_nemuke']>under_40),'value_nemuke_label']=1"
   ]
  },
  {
   "cell_type": "code",
   "execution_count": 26,
   "id": "fourth-toilet",
   "metadata": {},
   "outputs": [],
   "source": [
    "#目的変数のラベルづけ\n",
    "#下位40%と上位40％の二値分類をする\n",
    "def labeling(df, colmn):\n",
    "    under_40 = df[colmn].quantile(0.4)\n",
    "    upper_60 = df[colmn].quantile(0.6)\n",
    "    df.loc[df[colmn]<=under_40,colmn + '_label']=0\n",
    "    df.loc[df[colmn]>=upper_60,colmn + '_label']=2\n",
    "    df.loc[(df[colmn]<upper_60)&(df[colmn]>under_40),colmn + '_label']=1"
   ]
  },
  {
   "cell_type": "code",
   "execution_count": 35,
   "id": "hydraulic-convertible",
   "metadata": {},
   "outputs": [
    {
     "ename": "KeyError",
     "evalue": "'positive_score'",
     "output_type": "error",
     "traceback": [
      "\u001b[0;31m---------------------------------------------------------------------------\u001b[0m",
      "\u001b[0;31mKeyError\u001b[0m                                  Traceback (most recent call last)",
      "\u001b[0;32m~/Library/Python/3.8/lib/python/site-packages/pandas/core/indexes/base.py\u001b[0m in \u001b[0;36mget_loc\u001b[0;34m(self, key, method, tolerance)\u001b[0m\n\u001b[1;32m   3079\u001b[0m             \u001b[0;32mtry\u001b[0m\u001b[0;34m:\u001b[0m\u001b[0;34m\u001b[0m\u001b[0;34m\u001b[0m\u001b[0m\n\u001b[0;32m-> 3080\u001b[0;31m                 \u001b[0;32mreturn\u001b[0m \u001b[0mself\u001b[0m\u001b[0;34m.\u001b[0m\u001b[0m_engine\u001b[0m\u001b[0;34m.\u001b[0m\u001b[0mget_loc\u001b[0m\u001b[0;34m(\u001b[0m\u001b[0mcasted_key\u001b[0m\u001b[0;34m)\u001b[0m\u001b[0;34m\u001b[0m\u001b[0;34m\u001b[0m\u001b[0m\n\u001b[0m\u001b[1;32m   3081\u001b[0m             \u001b[0;32mexcept\u001b[0m \u001b[0mKeyError\u001b[0m \u001b[0;32mas\u001b[0m \u001b[0merr\u001b[0m\u001b[0;34m:\u001b[0m\u001b[0;34m\u001b[0m\u001b[0;34m\u001b[0m\u001b[0m\n",
      "\u001b[0;32mpandas/_libs/index.pyx\u001b[0m in \u001b[0;36mpandas._libs.index.IndexEngine.get_loc\u001b[0;34m()\u001b[0m\n",
      "\u001b[0;32mpandas/_libs/index.pyx\u001b[0m in \u001b[0;36mpandas._libs.index.IndexEngine.get_loc\u001b[0;34m()\u001b[0m\n",
      "\u001b[0;32mpandas/_libs/hashtable_class_helper.pxi\u001b[0m in \u001b[0;36mpandas._libs.hashtable.PyObjectHashTable.get_item\u001b[0;34m()\u001b[0m\n",
      "\u001b[0;32mpandas/_libs/hashtable_class_helper.pxi\u001b[0m in \u001b[0;36mpandas._libs.hashtable.PyObjectHashTable.get_item\u001b[0;34m()\u001b[0m\n",
      "\u001b[0;31mKeyError\u001b[0m: 'positive_score'",
      "\nThe above exception was the direct cause of the following exception:\n",
      "\u001b[0;31mKeyError\u001b[0m                                  Traceback (most recent call last)",
      "\u001b[0;32m<ipython-input-35-7d86c500a5a7>\u001b[0m in \u001b[0;36m<module>\u001b[0;34m\u001b[0m\n\u001b[1;32m      9\u001b[0m \u001b[0mlabeling\u001b[0m\u001b[0;34m(\u001b[0m\u001b[0mnight_w_bodyfatigue\u001b[0m\u001b[0;34m,\u001b[0m \u001b[0;34m'value_boyake'\u001b[0m\u001b[0;34m)\u001b[0m\u001b[0;34m\u001b[0m\u001b[0;34m\u001b[0m\u001b[0m\n\u001b[1;32m     10\u001b[0m \u001b[0mlabeling\u001b[0m\u001b[0;34m(\u001b[0m\u001b[0mnight_w_bodyfatigue\u001b[0m\u001b[0;34m,\u001b[0m \u001b[0;34m'value_nemuke'\u001b[0m\u001b[0;34m)\u001b[0m\u001b[0;34m\u001b[0m\u001b[0;34m\u001b[0m\u001b[0m\n\u001b[0;32m---> 11\u001b[0;31m \u001b[0mlabeling\u001b[0m\u001b[0;34m(\u001b[0m\u001b[0mnight_w_dams\u001b[0m\u001b[0;34m,\u001b[0m \u001b[0;34m'positive_score'\u001b[0m\u001b[0;34m)\u001b[0m\u001b[0;34m\u001b[0m\u001b[0;34m\u001b[0m\u001b[0m\n\u001b[0m\u001b[1;32m     12\u001b[0m \u001b[0mlabeling\u001b[0m\u001b[0;34m(\u001b[0m\u001b[0mnight_w_dams\u001b[0m\u001b[0;34m,\u001b[0m \u001b[0;34m'depressive_score'\u001b[0m\u001b[0;34m)\u001b[0m\u001b[0;34m\u001b[0m\u001b[0;34m\u001b[0m\u001b[0m\n\u001b[1;32m     13\u001b[0m \u001b[0mlabeling\u001b[0m\u001b[0;34m(\u001b[0m\u001b[0mnight_w_dams\u001b[0m\u001b[0;34m,\u001b[0m \u001b[0;34m'anxious_score'\u001b[0m\u001b[0;34m)\u001b[0m\u001b[0;34m\u001b[0m\u001b[0;34m\u001b[0m\u001b[0m\n",
      "\u001b[0;32m<ipython-input-26-52cb7244cdd0>\u001b[0m in \u001b[0;36mlabeling\u001b[0;34m(df, colmn)\u001b[0m\n\u001b[1;32m      1\u001b[0m \u001b[0;32mdef\u001b[0m \u001b[0mlabeling\u001b[0m\u001b[0;34m(\u001b[0m\u001b[0mdf\u001b[0m\u001b[0;34m,\u001b[0m \u001b[0mcolmn\u001b[0m\u001b[0;34m)\u001b[0m\u001b[0;34m:\u001b[0m\u001b[0;34m\u001b[0m\u001b[0;34m\u001b[0m\u001b[0m\n\u001b[0;32m----> 2\u001b[0;31m     \u001b[0munder_40\u001b[0m \u001b[0;34m=\u001b[0m \u001b[0mdf\u001b[0m\u001b[0;34m[\u001b[0m\u001b[0mcolmn\u001b[0m\u001b[0;34m]\u001b[0m\u001b[0;34m.\u001b[0m\u001b[0mquantile\u001b[0m\u001b[0;34m(\u001b[0m\u001b[0;36m0.4\u001b[0m\u001b[0;34m)\u001b[0m\u001b[0;34m\u001b[0m\u001b[0;34m\u001b[0m\u001b[0m\n\u001b[0m\u001b[1;32m      3\u001b[0m     \u001b[0mupper_60\u001b[0m \u001b[0;34m=\u001b[0m \u001b[0mdf\u001b[0m\u001b[0;34m[\u001b[0m\u001b[0mcolmn\u001b[0m\u001b[0;34m]\u001b[0m\u001b[0;34m.\u001b[0m\u001b[0mquantile\u001b[0m\u001b[0;34m(\u001b[0m\u001b[0;36m0.6\u001b[0m\u001b[0;34m)\u001b[0m\u001b[0;34m\u001b[0m\u001b[0;34m\u001b[0m\u001b[0m\n\u001b[1;32m      4\u001b[0m     \u001b[0mdf\u001b[0m\u001b[0;34m.\u001b[0m\u001b[0mloc\u001b[0m\u001b[0;34m[\u001b[0m\u001b[0mdf\u001b[0m\u001b[0;34m[\u001b[0m\u001b[0mcolmn\u001b[0m\u001b[0;34m]\u001b[0m\u001b[0;34m<=\u001b[0m\u001b[0munder_40\u001b[0m\u001b[0;34m,\u001b[0m\u001b[0mcolmn\u001b[0m \u001b[0;34m+\u001b[0m \u001b[0;34m'_label'\u001b[0m\u001b[0;34m]\u001b[0m\u001b[0;34m=\u001b[0m\u001b[0;36m0\u001b[0m\u001b[0;34m\u001b[0m\u001b[0;34m\u001b[0m\u001b[0m\n\u001b[1;32m      5\u001b[0m     \u001b[0mdf\u001b[0m\u001b[0;34m.\u001b[0m\u001b[0mloc\u001b[0m\u001b[0;34m[\u001b[0m\u001b[0mdf\u001b[0m\u001b[0;34m[\u001b[0m\u001b[0mcolmn\u001b[0m\u001b[0;34m]\u001b[0m\u001b[0;34m>=\u001b[0m\u001b[0mupper_60\u001b[0m\u001b[0;34m,\u001b[0m\u001b[0mcolmn\u001b[0m \u001b[0;34m+\u001b[0m \u001b[0;34m'_label'\u001b[0m\u001b[0;34m]\u001b[0m\u001b[0;34m=\u001b[0m\u001b[0;36m2\u001b[0m\u001b[0;34m\u001b[0m\u001b[0;34m\u001b[0m\u001b[0m\n",
      "\u001b[0;32m~/Library/Python/3.8/lib/python/site-packages/pandas/core/frame.py\u001b[0m in \u001b[0;36m__getitem__\u001b[0;34m(self, key)\u001b[0m\n\u001b[1;32m   3022\u001b[0m             \u001b[0;32mif\u001b[0m \u001b[0mself\u001b[0m\u001b[0;34m.\u001b[0m\u001b[0mcolumns\u001b[0m\u001b[0;34m.\u001b[0m\u001b[0mnlevels\u001b[0m \u001b[0;34m>\u001b[0m \u001b[0;36m1\u001b[0m\u001b[0;34m:\u001b[0m\u001b[0;34m\u001b[0m\u001b[0;34m\u001b[0m\u001b[0m\n\u001b[1;32m   3023\u001b[0m                 \u001b[0;32mreturn\u001b[0m \u001b[0mself\u001b[0m\u001b[0;34m.\u001b[0m\u001b[0m_getitem_multilevel\u001b[0m\u001b[0;34m(\u001b[0m\u001b[0mkey\u001b[0m\u001b[0;34m)\u001b[0m\u001b[0;34m\u001b[0m\u001b[0;34m\u001b[0m\u001b[0m\n\u001b[0;32m-> 3024\u001b[0;31m             \u001b[0mindexer\u001b[0m \u001b[0;34m=\u001b[0m \u001b[0mself\u001b[0m\u001b[0;34m.\u001b[0m\u001b[0mcolumns\u001b[0m\u001b[0;34m.\u001b[0m\u001b[0mget_loc\u001b[0m\u001b[0;34m(\u001b[0m\u001b[0mkey\u001b[0m\u001b[0;34m)\u001b[0m\u001b[0;34m\u001b[0m\u001b[0;34m\u001b[0m\u001b[0m\n\u001b[0m\u001b[1;32m   3025\u001b[0m             \u001b[0;32mif\u001b[0m \u001b[0mis_integer\u001b[0m\u001b[0;34m(\u001b[0m\u001b[0mindexer\u001b[0m\u001b[0;34m)\u001b[0m\u001b[0;34m:\u001b[0m\u001b[0;34m\u001b[0m\u001b[0;34m\u001b[0m\u001b[0m\n\u001b[1;32m   3026\u001b[0m                 \u001b[0mindexer\u001b[0m \u001b[0;34m=\u001b[0m \u001b[0;34m[\u001b[0m\u001b[0mindexer\u001b[0m\u001b[0;34m]\u001b[0m\u001b[0;34m\u001b[0m\u001b[0;34m\u001b[0m\u001b[0m\n",
      "\u001b[0;32m~/Library/Python/3.8/lib/python/site-packages/pandas/core/indexes/base.py\u001b[0m in \u001b[0;36mget_loc\u001b[0;34m(self, key, method, tolerance)\u001b[0m\n\u001b[1;32m   3080\u001b[0m                 \u001b[0;32mreturn\u001b[0m \u001b[0mself\u001b[0m\u001b[0;34m.\u001b[0m\u001b[0m_engine\u001b[0m\u001b[0;34m.\u001b[0m\u001b[0mget_loc\u001b[0m\u001b[0;34m(\u001b[0m\u001b[0mcasted_key\u001b[0m\u001b[0;34m)\u001b[0m\u001b[0;34m\u001b[0m\u001b[0;34m\u001b[0m\u001b[0m\n\u001b[1;32m   3081\u001b[0m             \u001b[0;32mexcept\u001b[0m \u001b[0mKeyError\u001b[0m \u001b[0;32mas\u001b[0m \u001b[0merr\u001b[0m\u001b[0;34m:\u001b[0m\u001b[0;34m\u001b[0m\u001b[0;34m\u001b[0m\u001b[0m\n\u001b[0;32m-> 3082\u001b[0;31m                 \u001b[0;32mraise\u001b[0m \u001b[0mKeyError\u001b[0m\u001b[0;34m(\u001b[0m\u001b[0mkey\u001b[0m\u001b[0;34m)\u001b[0m \u001b[0;32mfrom\u001b[0m \u001b[0merr\u001b[0m\u001b[0;34m\u001b[0m\u001b[0;34m\u001b[0m\u001b[0m\n\u001b[0m\u001b[1;32m   3083\u001b[0m \u001b[0;34m\u001b[0m\u001b[0m\n\u001b[1;32m   3084\u001b[0m         \u001b[0;32mif\u001b[0m \u001b[0mtolerance\u001b[0m \u001b[0;32mis\u001b[0m \u001b[0;32mnot\u001b[0m \u001b[0;32mNone\u001b[0m\u001b[0;34m:\u001b[0m\u001b[0;34m\u001b[0m\u001b[0;34m\u001b[0m\u001b[0m\n",
      "\u001b[0;31mKeyError\u001b[0m: 'positive_score'"
     ]
    }
   ],
   "source": [
    "labeling(morning_bodyfatigue, 'value_hukai')\n",
    "labeling(morning_bodyfatigue, 'value_boyake')\n",
    "labeling(morning_bodyfatigue, 'value_nemuke')\n",
    "labeling(morning_dams, 'positive_score')\n",
    "labeling(morning_dams, 'depressive_score')\n",
    "labeling(morning_dams, 'anxious_score')\n",
    "\n",
    "labeling(night_w_bodyfatigue, 'value_hukai')\n",
    "labeling(night_w_bodyfatigue, 'value_boyake')\n",
    "labeling(night_w_bodyfatigue, 'value_nemuke')\n",
    "labeling(night_w_dams, 'positive_score')\n",
    "labeling(night_w_dams, 'depressive_score')\n",
    "labeling(night_w_dams, 'anxious_score')\n",
    "\n",
    "labeli"
   ]
  },
  {
   "cell_type": "code",
   "execution_count": 40,
   "id": "recorded-caution",
   "metadata": {},
   "outputs": [
    {
     "data": {
      "text/plain": [
       "<AxesSubplot:>"
      ]
     },
     "execution_count": 40,
     "metadata": {},
     "output_type": "execute_result"
    },
    {
     "data": {
      "image/png": "[encoded data removed]",
      "text/plain": [
       "<Figure size 432x288 with 1 Axes>"
      ]
     },
     "metadata": {
      "needs_background": "light"
     },
     "output_type": "display_data"
    }
   ],
   "source": [
    "# morning_dams['positive_score_label'].hist()\n",
    "night_w_dams['anxious_score'].hist()"
   ]
  },
  {
   "cell_type": "code",
   "execution_count": null,
   "id": "loose-brother",
   "metadata": {},
   "outputs": [],
   "source": []
  }
 ],
 "metadata": {
  "kernelspec": {
   "display_name": "Python 3",
   "language": "python",
   "name": "python3"
  },
  "language_info": {
   "codemirror_mode": {
    "name": "ipython",
    "version": 3
   },
   "file_extension": ".py",
   "mimetype": "text/x-python",
   "name": "python",
   "nbconvert_exporter": "python",
   "pygments_lexer": "ipython3",
   "version": "3.8.7"
  }
 },
 "nbformat": 4,
 "nbformat_minor": 5
}
