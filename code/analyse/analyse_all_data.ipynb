{
 "cells": [
  {
   "cell_type": "code",
   "execution_count": 1,
   "id": "digital-thing",
   "metadata": {},
   "outputs": [],
   "source": [
    "import pandas as pd\n",
    "import datetime as dt\n",
    "import seaborn as sns\n",
    "import numpy as np"
   ]
  },
  {
   "cell_type": "code",
   "execution_count": 2,
   "id": "circular-stupid",
   "metadata": {},
   "outputs": [],
   "source": [
    "#行動データ\n",
    "work_detail = pd.read_csv('../../datas/groupby_widedata/work_detail.csv')\n",
    "work_env = pd.read_csv('../../datas/groupby_widedata/work_env.csv')\n",
    "#fitbitデータ\n",
    "calories = pd.read_csv('../../datas/fitbit_preprocessed_data/agg_for_day/calories_day.csv')\n",
    "floors = pd.read_csv('../../datas/fitbit_preprocessed_data/agg_for_day/floors_day.csv')\n",
    "heart = pd.read_csv('../../datas/fitbit_preprocessed_data/agg_for_day/heart_day.csv')\n",
    "calories = pd.read_csv('../../datas/fitbit_preprocessed_data/agg_for_day/calories_day.csv')"
   ]
  },
  {
   "cell_type": "code",
   "execution_count": null,
   "id": "boxed-bathroom",
   "metadata": {},
   "outputs": [],
   "source": []
  }
 ],
 "metadata": {
  "kernelspec": {
   "display_name": "Python 3",
   "language": "python",
   "name": "python3"
  },
  "language_info": {
   "codemirror_mode": {
    "name": "ipython",
    "version": 3
   },
   "file_extension": ".py",
   "mimetype": "text/x-python",
   "name": "python",
   "nbconvert_exporter": "python",
   "pygments_lexer": "ipython3",
   "version": "3.8.7"
  }
 },
 "nbformat": 4,
 "nbformat_minor": 5
}
