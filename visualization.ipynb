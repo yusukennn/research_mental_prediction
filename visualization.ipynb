{
 "cells": [
  {
   "cell_type": "code",
   "execution_count": 69,
   "metadata": {},
   "outputs": [],
   "source": [
    "import pandas as pd\n",
    "import matplotlib.pyplot as plt\n",
    "import numpy as np\n",
    "import seaborn as sns"
   ]
  },
  {
   "cell_type": "code",
   "execution_count": 31,
   "metadata": {},
   "outputs": [],
   "source": [
    "ques_morning_bodyfatigue = pd.read_csv('./questionaire_data/ques_morning_bodyfatigue.csv')\n",
    "ques_morning_dams = pd.read_csv('./questionaire_data/ques_morning_dams.csv')\n",
    "weather_tokyo = pd.read_csv('./weather_data/weather_tokyo.csv')\n",
    "weather_osaka = pd.read_csv('./weather_data/weather_osaka.csv')"
   ]
  },
  {
   "cell_type": "code",
   "execution_count": 32,
   "metadata": {},
   "outputs": [
    {
     "data": {
      "text/html": [
       "<div>\n",
       "<style scoped>\n",
       "    .dataframe tbody tr th:only-of-type {\n",
       "        vertical-align: middle;\n",
       "    }\n",
       "\n",
       "    .dataframe tbody tr th {\n",
       "        vertical-align: top;\n",
       "    }\n",
       "\n",
       "    .dataframe thead th {\n",
       "        text-align: right;\n",
       "    }\n",
       "</style>\n",
       "<table border=\"1\" class=\"dataframe\">\n",
       "  <thead>\n",
       "    <tr style=\"text-align: right;\">\n",
       "      <th></th>\n",
       "      <th>Unnamed: 0</th>\n",
       "      <th>datetime</th>\n",
       "      <th>user_id</th>\n",
       "      <th>activity</th>\n",
       "      <th>record_type_id</th>\n",
       "      <th>name</th>\n",
       "      <th>value</th>\n",
       "      <th>value_dams</th>\n",
       "    </tr>\n",
       "  </thead>\n",
       "  <tbody>\n",
       "    <tr>\n",
       "      <th>0</th>\n",
       "      <td>1</td>\n",
       "      <td>2021-01-11 00:14:59.165000+00:00</td>\n",
       "      <td>29</td>\n",
       "      <td>朝のアンケート</td>\n",
       "      <td>25.0</td>\n",
       "      <td>はつらつとした</td>\n",
       "      <td>3: どちらともいえない</td>\n",
       "      <td>3.0</td>\n",
       "    </tr>\n",
       "    <tr>\n",
       "      <th>1</th>\n",
       "      <td>2</td>\n",
       "      <td>2021-01-11 00:14:59.165000+00:00</td>\n",
       "      <td>29</td>\n",
       "      <td>朝のアンケート</td>\n",
       "      <td>26.0</td>\n",
       "      <td>暗い</td>\n",
       "      <td>0: まったくあてはまらない</td>\n",
       "      <td>0.0</td>\n",
       "    </tr>\n",
       "    <tr>\n",
       "      <th>2</th>\n",
       "      <td>3</td>\n",
       "      <td>2021-01-11 00:14:59.165000+00:00</td>\n",
       "      <td>29</td>\n",
       "      <td>朝のアンケート</td>\n",
       "      <td>27.0</td>\n",
       "      <td>気がかりな</td>\n",
       "      <td>4: ややあてはまる</td>\n",
       "      <td>4.0</td>\n",
       "    </tr>\n",
       "    <tr>\n",
       "      <th>3</th>\n",
       "      <td>4</td>\n",
       "      <td>2021-01-11 00:14:59.165000+00:00</td>\n",
       "      <td>29</td>\n",
       "      <td>朝のアンケート</td>\n",
       "      <td>28.0</td>\n",
       "      <td>嬉しい</td>\n",
       "      <td>2: ややあてはまらない</td>\n",
       "      <td>2.0</td>\n",
       "    </tr>\n",
       "    <tr>\n",
       "      <th>4</th>\n",
       "      <td>5</td>\n",
       "      <td>2021-01-11 00:14:59.165000+00:00</td>\n",
       "      <td>29</td>\n",
       "      <td>朝のアンケート</td>\n",
       "      <td>29.0</td>\n",
       "      <td>嫌な</td>\n",
       "      <td>0: まったくあてはまらない</td>\n",
       "      <td>0.0</td>\n",
       "    </tr>\n",
       "    <tr>\n",
       "      <th>...</th>\n",
       "      <td>...</td>\n",
       "      <td>...</td>\n",
       "      <td>...</td>\n",
       "      <td>...</td>\n",
       "      <td>...</td>\n",
       "      <td>...</td>\n",
       "      <td>...</td>\n",
       "      <td>...</td>\n",
       "    </tr>\n",
       "    <tr>\n",
       "      <th>12146</th>\n",
       "      <td>172148</td>\n",
       "      <td>2021-01-29 23:44:50.116000+00:00</td>\n",
       "      <td>41</td>\n",
       "      <td>朝のアンケート</td>\n",
       "      <td>29.0</td>\n",
       "      <td>嫌な</td>\n",
       "      <td>0: まったくあてはまらない</td>\n",
       "      <td>0.0</td>\n",
       "    </tr>\n",
       "    <tr>\n",
       "      <th>12147</th>\n",
       "      <td>172149</td>\n",
       "      <td>2021-01-29 23:44:50.116000+00:00</td>\n",
       "      <td>41</td>\n",
       "      <td>朝のアンケート</td>\n",
       "      <td>30.0</td>\n",
       "      <td>不安な</td>\n",
       "      <td>0: まったくあてはまらない</td>\n",
       "      <td>0.0</td>\n",
       "    </tr>\n",
       "    <tr>\n",
       "      <th>12148</th>\n",
       "      <td>172150</td>\n",
       "      <td>2021-01-29 23:44:50.116000+00:00</td>\n",
       "      <td>41</td>\n",
       "      <td>朝のアンケート</td>\n",
       "      <td>31.0</td>\n",
       "      <td>楽しい</td>\n",
       "      <td>3: どちらともいえない</td>\n",
       "      <td>3.0</td>\n",
       "    </tr>\n",
       "    <tr>\n",
       "      <th>12149</th>\n",
       "      <td>172151</td>\n",
       "      <td>2021-01-29 23:44:50.116000+00:00</td>\n",
       "      <td>41</td>\n",
       "      <td>朝のアンケート</td>\n",
       "      <td>32.0</td>\n",
       "      <td>沈んだ</td>\n",
       "      <td>0: まったくあてはまらない</td>\n",
       "      <td>0.0</td>\n",
       "    </tr>\n",
       "    <tr>\n",
       "      <th>12150</th>\n",
       "      <td>172152</td>\n",
       "      <td>2021-01-29 23:44:50.116000+00:00</td>\n",
       "      <td>41</td>\n",
       "      <td>朝のアンケート</td>\n",
       "      <td>33.0</td>\n",
       "      <td>心配な</td>\n",
       "      <td>0: まったくあてはまらない1</td>\n",
       "      <td>0.0</td>\n",
       "    </tr>\n",
       "  </tbody>\n",
       "</table>\n",
       "<p>12151 rows × 8 columns</p>\n",
       "</div>"
      ],
      "text/plain": [
       "       Unnamed: 0                          datetime  user_id activity  \\\n",
       "0               1  2021-01-11 00:14:59.165000+00:00       29  朝のアンケート   \n",
       "1               2  2021-01-11 00:14:59.165000+00:00       29  朝のアンケート   \n",
       "2               3  2021-01-11 00:14:59.165000+00:00       29  朝のアンケート   \n",
       "3               4  2021-01-11 00:14:59.165000+00:00       29  朝のアンケート   \n",
       "4               5  2021-01-11 00:14:59.165000+00:00       29  朝のアンケート   \n",
       "...           ...                               ...      ...      ...   \n",
       "12146      172148  2021-01-29 23:44:50.116000+00:00       41  朝のアンケート   \n",
       "12147      172149  2021-01-29 23:44:50.116000+00:00       41  朝のアンケート   \n",
       "12148      172150  2021-01-29 23:44:50.116000+00:00       41  朝のアンケート   \n",
       "12149      172151  2021-01-29 23:44:50.116000+00:00       41  朝のアンケート   \n",
       "12150      172152  2021-01-29 23:44:50.116000+00:00       41  朝のアンケート   \n",
       "\n",
       "       record_type_id     name            value  value_dams  \n",
       "0                25.0  はつらつとした     3: どちらともいえない         3.0  \n",
       "1                26.0       暗い   0: まったくあてはまらない         0.0  \n",
       "2                27.0    気がかりな       4: ややあてはまる         4.0  \n",
       "3                28.0      嬉しい     2: ややあてはまらない         2.0  \n",
       "4                29.0       嫌な   0: まったくあてはまらない         0.0  \n",
       "...               ...      ...              ...         ...  \n",
       "12146            29.0       嫌な   0: まったくあてはまらない         0.0  \n",
       "12147            30.0      不安な   0: まったくあてはまらない         0.0  \n",
       "12148            31.0      楽しい     3: どちらともいえない         3.0  \n",
       "12149            32.0      沈んだ   0: まったくあてはまらない         0.0  \n",
       "12150            33.0      心配な  0: まったくあてはまらない1         0.0  \n",
       "\n",
       "[12151 rows x 8 columns]"
      ]
     },
     "execution_count": 32,
     "metadata": {},
     "output_type": "execute_result"
    }
   ],
   "source": [
    "ques_morning_dams"
   ]
  },
  {
   "cell_type": "code",
   "execution_count": 52,
   "metadata": {},
   "outputs": [],
   "source": [
    "ques_morning_bodyfatigue['datetime'] = pd.to_datetime(ques_morning_bodyfatigue['datetime'])\n",
    "ques_morning_bodyfatigue['Date'] = pd.to_datetime(ques_morning_bodyfatigue['datetime'], format='%Y%m%d').dt.date\n",
    "ques_morning_dams['datetime'] = pd.to_datetime(ques_morning_dams['datetime'])\n",
    "ques_morning_dams['Date'] = pd.to_datetime(ques_morning_dams['datetime'], format='%Y%m%d').dt.date\n",
    "weather_osaka['Date'] = pd.to_datetime(weather_osaka['Date'], format='%Y-%m-%d').dt.date\n",
    "weather_tokyo['Date'] = pd.to_datetime(weather_tokyo['Date'], format='%Y-%m-%d').dt.date\n",
    "weather_osaka['locate'] = 'osaka'\n",
    "weather_tokyo['locate'] = 'tokyo'\n",
    "ques_morning_dams.loc[ques_morning_dams['user_id']<20,'locate'] = 'osaka'\n",
    "ques_morning_dams.loc[ques_morning_dams['user_id']>19,'locate'] = 'tokyo'\n",
    "ques_morning_dams.loc[ques_morning_dams['user_id']==100,'locate'] = 'osaka'\n",
    "ques_morning_bodyfatigue.loc[ques_morning_bodyfatigue['user_id']<20,'locate'] = 'osaka'\n",
    "ques_morning_bodyfatigue.loc[ques_morning_bodyfatigue['user_id']>19,'locate'] = 'tokyo'\n",
    "ques_morning_bodyfatigue.loc[ques_morning_bodyfatigue['user_id']==100,'locate'] = 'osaka'"
   ]
  },
  {
   "cell_type": "code",
   "execution_count": 57,
   "metadata": {},
   "outputs": [],
   "source": [
    "weather_all = pd.concat([weather_tokyo,weather_osaka])\n",
    "# weather_all.to_csv('./weather_data/weather_all.csv')"
   ]
  },
  {
   "cell_type": "code",
   "execution_count": 58,
   "metadata": {},
   "outputs": [],
   "source": [
    "morning_bodyfatigue_weather = pd.merge(ques_morning_bodyfatigue, weather_all, on=['Date','locate'])\n",
    "morning_dams_weather = pd.merge(ques_morning_dams, weather_all, on=['Date','locate'])"
   ]
  },
  {
   "cell_type": "code",
   "execution_count": 62,
   "metadata": {},
   "outputs": [],
   "source": [
    "dams_positive = morning_dams_weather[(morning_dams_weather['record_type_id']==25)|\n",
    "                    (morning_dams_weather['record_type_id']==28)|\n",
    "                    (morning_dams_weather['record_type_id']==31)]"
   ]
  },
  {
   "cell_type": "code",
   "execution_count": 64,
   "metadata": {},
   "outputs": [
    {
     "data": {
      "text/plain": [
       "Index(['Unnamed: 0_x', 'datetime', 'user_id', 'activity', 'record_type_id',\n",
       "       'name', 'value', 'value_dams', 'Date', 'locate', 'Unnamed: 0_y',\n",
       "       'ave_temperature', 'max_temperature', 'mini_temperature',\n",
       "       'sum_rainfall', 'ave_windspeed', 'ave_vaporpressure', 'ave_humidity',\n",
       "       'ave_cloudcover', 'weather_6to18', 'weather_18to6'],\n",
       "      dtype='object')"
      ]
     },
     "execution_count": 64,
     "metadata": {},
     "output_type": "execute_result"
    }
   ],
   "source": [
    "dams_positive.columns"
   ]
  },
  {
   "cell_type": "code",
   "execution_count": 73,
   "metadata": {},
   "outputs": [],
   "source": [
    "# weather_dams = dams_positive[['value','value_dams', 'Date', 'locate', \n",
    "#        'ave_temperature', 'max_temperature', 'mini_temperature',\n",
    "#        'sum_rainfall', 'ave_windspeed', 'ave_vaporpressure', 'ave_humidity',\n",
    "#        'ave_cloudcover']]\n",
    "\n",
    "# df_columns = weather_dams.columns.to_list()\n",
    "# g_list = [i for i in df_columns]\n",
    "\n",
    "# columns = g_list\n",
    "# for_correlation = list(set([columns[np.random.randint(0, len(columns)-1)] for i in range(3000)]))[:40]\n",
    "# # data = weather_dams[for_correlation]\n",
    "# data = weather_dams\n",
    "\n",
    "# f = plt.figure(figsize=(18, 18))\n",
    "# plt.matshow(data.corr(), fignum=f.number)\n",
    "# plt.xticks(range(data.shape[1]), data.columns, fontsize=14, rotation=50)\n",
    "# plt.yticks(range(data.shape[1]), data.columns, fontsize=14)\n",
    "# cb = plt.colorbar()\n",
    "# cb.ax.tick_params(labelsize=13)"
   ]
  },
  {
   "cell_type": "code",
   "execution_count": 71,
   "metadata": {},
   "outputs": [
    {
     "data": {
      "text/plain": [
       "<AxesSubplot:>"
      ]
     },
     "execution_count": 71,
     "metadata": {},
     "output_type": "execute_result"
    },
    {
     "data": {
      "image/png": "[encoded data removed]",
      "text/plain": [
       "<Figure size 432x288 with 2 Axes>"
      ]
     },
     "metadata": {
      "needs_background": "light"
     },
     "output_type": "display_data"
    }
   ],
   "source": [
    "sns.heatmap(weather_dams.corr(), vmax=1, vmin=-1, center=0)"
   ]
  },
  {
   "cell_type": "code",
   "execution_count": 75,
   "metadata": {},
   "outputs": [
    {
     "data": {
      "text/plain": [
       "<AxesSubplot:xlabel='ave_temperature', ylabel='value_dams'>"
      ]
     },
     "execution_count": 75,
     "metadata": {},
     "output_type": "execute_result"
    },
    {
     "data": {
      "image/png": "[encoded data removed]",
      "text/plain": [
       "<Figure size 432x288 with 1 Axes>"
      ]
     },
     "metadata": {
      "needs_background": "light"
     },
     "output_type": "display_data"
    }
   ],
   "source": [
    "weather_dams.plot.scatter(x='ave_temperature',y='value_dams')"
   ]
  },
  {
   "cell_type": "code",
   "execution_count": null,
   "metadata": {},
   "outputs": [],
   "source": []
  }
 ],
 "metadata": {
  "kernelspec": {
   "display_name": "Python 3",
   "language": "python",
   "name": "python3"
  },
  "language_info": {
   "codemirror_mode": {
    "name": "ipython",
    "version": 3
   },
   "file_extension": ".py",
   "mimetype": "text/x-python",
   "name": "python",
   "nbconvert_exporter": "python",
   "pygments_lexer": "ipython3",
   "version": "3.8.7"
  }
 },
 "nbformat": 4,
 "nbformat_minor": 4
}
