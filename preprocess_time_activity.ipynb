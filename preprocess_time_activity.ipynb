{
 "cells": [
  {
   "cell_type": "code",
   "execution_count": 127,
   "metadata": {},
   "outputs": [],
   "source": [
    "import pandas as pd\n",
    "import datetime as dt"
   ]
  },
  {
   "cell_type": "code",
   "execution_count": 128,
   "metadata": {},
   "outputs": [],
   "source": [
    "ques_morning_dams = pd.read_csv('./datas/questionaire_data/ques_morning_dams.csv')\n",
    "ques_morning_time = pd.read_csv('./datas/questionaire_data/ques_morning/ques_morning_dams.csv')"
   ]
  },
  {
   "cell_type": "code",
   "execution_count": 129,
   "metadata": {},
   "outputs": [],
   "source": [
    "ques_morning_time['Date'] = pd.to_datetime(ques_morning_time['datetime']).dt.date\n",
    "ques_morning_dams['Date'] = pd.to_datetime(ques_morning_dams['Date']).dt.date\n",
    "ques_morning_date = ques_morning_time[['datetime','user_id','Date']]\n",
    "ques_dams_m = pd.merge(ques_morning_dams,ques_morning_date,on=['Date','user_id'],how='left')"
   ]
  },
  {
   "cell_type": "code",
   "execution_count": 130,
   "metadata": {},
   "outputs": [],
   "source": [
    "ques_dams_m = ques_dams_m.drop(['Unnamed: 0.1','Unnamed: 0','record_type_id'],axis=1)\n",
    "ques_dams_m = ques_dams_m[~ques_dams_m.duplicated()]"
   ]
  },
  {
   "cell_type": "code",
   "execution_count": 131,
   "metadata": {},
   "outputs": [],
   "source": [
    "#timezoneを東京に合わせる\n",
    "ques_dams_m.index = pd.DatetimeIndex(ques_dams_m.datetime, name='datetime').tz_convert('Asia/Tokyo')\n",
    "ques_dams_m['datetime_jp'] = ques_dams_m.index\n",
    "ques_dams_m['Date_jp'] = pd.to_datetime(ques_dams_m['datetime_jp']).dt.date\n",
    "ques_dams_m=ques_dams_m[(ques_dams_m['Date_jp']>=dt.date(2021,1,12))]\n",
    "ques_dams_m['hour'] = pd.to_datetime(ques_dams_m['datetime_jp']).dt.hour"
   ]
  },
  {
   "cell_type": "code",
   "execution_count": 132,
   "metadata": {},
   "outputs": [
    {
     "data": {
      "text/plain": [
       "<AxesSubplot:>"
      ]
     },
     "execution_count": 132,
     "metadata": {},
     "output_type": "execute_result"
    },
    {
     "data": {
      "image/png": "[encoded data removed]",
      "text/plain": [
       "<Figure size 432x288 with 1 Axes>"
      ]
     },
     "metadata": {
      "needs_background": "light"
     },
     "output_type": "display_data"
    }
   ],
   "source": [
    "ques_dams_m['hour'].hist(bins=24)"
   ]
  },
  {
   "cell_type": "code",
   "execution_count": 133,
   "metadata": {},
   "outputs": [],
   "source": [
    "#damsの評価指標を追加\n",
    "#肯定的気分\n",
    "ques_dams_m['positive_score']=(ques_dams_m['haturatu']+ques_dams_m['uresii']+ques_dams_m['tanosii'])/3\n",
    "ques_dams_m['depressive_score']=(ques_dams_m['kurai']+ques_dams_m['iyana']+ques_dams_m['sizunda'])/3\n",
    "ques_dams_m['anxious_score']=(ques_dams_m['kigakarina']+ques_dams_m['fuan']+ques_dams_m['sinpaina'])/3"
   ]
  },
  {
   "cell_type": "code",
   "execution_count": 144,
   "metadata": {},
   "outputs": [],
   "source": [
    "ques_dams_m = ques_dams_m.reset_index(drop=True)\n",
    "ques_dams_m['datetime_jp_before3'] =  ques_dams_m['datetime_jp']-dt.timedelta(hours=3)\n",
    "ques_dams_m['datetime_jp_before6'] =  ques_dams_m['datetime_jp']-dt.timedelta(hours=6)\n",
    "ques_dams_m['datetime_jp_before9'] =  ques_dams_m['datetime_jp']-dt.timedelta(hours=9)"
   ]
  },
  {
   "cell_type": "code",
   "execution_count": 147,
   "metadata": {},
   "outputs": [],
   "source": [
    "# ques_dams_m.drop(['Date','datetime'],axis=1).to_csv('./datas/preprocessed_questionaire/ques_morning_dams.csv')"
   ]
  },
  {
   "cell_type": "code",
   "execution_count": null,
   "metadata": {},
   "outputs": [],
   "source": []
  }
 ],
 "metadata": {
  "kernelspec": {
   "display_name": "Python 3",
   "language": "python",
   "name": "python3"
  },
  "language_info": {
   "codemirror_mode": {
    "name": "ipython",
    "version": 3
   },
   "file_extension": ".py",
   "mimetype": "text/x-python",
   "name": "python",
   "nbconvert_exporter": "python",
   "pygments_lexer": "ipython3",
   "version": "3.8.7"
  }
 },
 "nbformat": 4,
 "nbformat_minor": 4
}
