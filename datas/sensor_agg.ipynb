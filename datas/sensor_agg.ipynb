{
 "cells": [
  {
   "cell_type": "code",
   "execution_count": 68,
   "metadata": {},
   "outputs": [],
   "source": [
    "import pandas as pd\n",
    "import datetime as dt\n",
    "import seaborn as sns\n",
    "import numpy as np"
   ]
  },
  {
   "cell_type": "code",
   "execution_count": 69,
   "metadata": {},
   "outputs": [],
   "source": [
    "calories=pd.read_csv('./fitbit_preprocessed_data/calories.csv')\n",
    "floors=pd.read_csv('./fitbit_preprocessed_data/floors.csv')\n",
    "heart=pd.read_csv('./fitbit_preprocessed_data/heart.csv')\n",
    "minutesFairlyActive=pd.read_csv('./fitbit_preprocessed_data/minutesFairlyActive.csv')\n",
    "minutesLightlyActive=pd.read_csv('./fitbit_preprocessed_data/minutesLightlyActive.csv')\n",
    "minutesSedentary=pd.read_csv('./fitbit_preprocessed_data/minutesSedentary.csv')\n",
    "minutesVeryActive=pd.read_csv('./fitbit_preprocessed_data/minutesVeryActive.csv')\n",
    "sleep=pd.read_csv('./fitbit_preprocessed_data/sleep.csv')\n",
    "steps=pd.read_csv('./fitbit_preprocessed_data/steps.csv')"
   ]
  },
  {
   "cell_type": "code",
   "execution_count": 70,
   "metadata": {},
   "outputs": [],
   "source": [
    "calories['date'] = pd.to_datetime(calories['datetime']).dt.date\n",
    "calories['hour'] = pd.to_datetime(calories['datetime']).dt.hour"
   ]
  },
  {
   "cell_type": "code",
   "execution_count": 132,
   "metadata": {},
   "outputs": [],
   "source": [
    "def date_hour(x):\n",
    "    x['date'] = pd.to_datetime(x['datetime']).dt.date\n",
    "    x['hour'] = pd.to_datetime(x['datetime']).dt.hour\n",
    "    x = x[(x['hour']>8)]\n",
    "    x['ampm']=0\n",
    "    x.loc[x['hour']>11,'ampm'] = 1\n",
    "    return x\n",
    "def date_hour_sleep(x):\n",
    "    x['date'] = pd.to_datetime(x['datetime']).dt.date\n",
    "    x['hour'] = pd.to_datetime(x['datetime']).dt.hour\n",
    "    x = x[(x['hour']<8)]\n",
    "    x['ampm']=0\n",
    "    x.loc[x['hour']>11,'ampm'] = 1\n",
    "    return x"
   ]
  },
  {
   "cell_type": "code",
   "execution_count": 72,
   "metadata": {},
   "outputs": [
    {
     "name": "stderr",
     "output_type": "stream",
     "text": [
      "<ipython-input-71-76920b9ceb8f>:5: SettingWithCopyWarning: \n",
      "A value is trying to be set on a copy of a slice from a DataFrame.\n",
      "Try using .loc[row_indexer,col_indexer] = value instead\n",
      "\n",
      "See the caveats in the documentation: https://pandas.pydata.org/pandas-docs/stable/user_guide/indexing.html#returning-a-view-versus-a-copy\n",
      "  x['ampm']=0\n",
      "/Users/yusuke-n/Library/Python/3.8/lib/python/site-packages/pandas/core/indexing.py:1720: SettingWithCopyWarning: \n",
      "A value is trying to be set on a copy of a slice from a DataFrame.\n",
      "Try using .loc[row_indexer,col_indexer] = value instead\n",
      "\n",
      "See the caveats in the documentation: https://pandas.pydata.org/pandas-docs/stable/user_guide/indexing.html#returning-a-view-versus-a-copy\n",
      "  self._setitem_single_column(loc, value, pi)\n",
      "<ipython-input-71-76920b9ceb8f>:5: SettingWithCopyWarning: \n",
      "A value is trying to be set on a copy of a slice from a DataFrame.\n",
      "Try using .loc[row_indexer,col_indexer] = value instead\n",
      "\n",
      "See the caveats in the documentation: https://pandas.pydata.org/pandas-docs/stable/user_guide/indexing.html#returning-a-view-versus-a-copy\n",
      "  x['ampm']=0\n",
      "/Users/yusuke-n/Library/Python/3.8/lib/python/site-packages/pandas/core/indexing.py:1720: SettingWithCopyWarning: \n",
      "A value is trying to be set on a copy of a slice from a DataFrame.\n",
      "Try using .loc[row_indexer,col_indexer] = value instead\n",
      "\n",
      "See the caveats in the documentation: https://pandas.pydata.org/pandas-docs/stable/user_guide/indexing.html#returning-a-view-versus-a-copy\n",
      "  self._setitem_single_column(loc, value, pi)\n",
      "<ipython-input-71-76920b9ceb8f>:5: SettingWithCopyWarning: \n",
      "A value is trying to be set on a copy of a slice from a DataFrame.\n",
      "Try using .loc[row_indexer,col_indexer] = value instead\n",
      "\n",
      "See the caveats in the documentation: https://pandas.pydata.org/pandas-docs/stable/user_guide/indexing.html#returning-a-view-versus-a-copy\n",
      "  x['ampm']=0\n",
      "/Users/yusuke-n/Library/Python/3.8/lib/python/site-packages/pandas/core/indexing.py:1720: SettingWithCopyWarning: \n",
      "A value is trying to be set on a copy of a slice from a DataFrame.\n",
      "Try using .loc[row_indexer,col_indexer] = value instead\n",
      "\n",
      "See the caveats in the documentation: https://pandas.pydata.org/pandas-docs/stable/user_guide/indexing.html#returning-a-view-versus-a-copy\n",
      "  self._setitem_single_column(loc, value, pi)\n",
      "<ipython-input-71-76920b9ceb8f>:5: SettingWithCopyWarning: \n",
      "A value is trying to be set on a copy of a slice from a DataFrame.\n",
      "Try using .loc[row_indexer,col_indexer] = value instead\n",
      "\n",
      "See the caveats in the documentation: https://pandas.pydata.org/pandas-docs/stable/user_guide/indexing.html#returning-a-view-versus-a-copy\n",
      "  x['ampm']=0\n",
      "/Users/yusuke-n/Library/Python/3.8/lib/python/site-packages/pandas/core/indexing.py:1720: SettingWithCopyWarning: \n",
      "A value is trying to be set on a copy of a slice from a DataFrame.\n",
      "Try using .loc[row_indexer,col_indexer] = value instead\n",
      "\n",
      "See the caveats in the documentation: https://pandas.pydata.org/pandas-docs/stable/user_guide/indexing.html#returning-a-view-versus-a-copy\n",
      "  self._setitem_single_column(loc, value, pi)\n",
      "<ipython-input-71-76920b9ceb8f>:5: SettingWithCopyWarning: \n",
      "A value is trying to be set on a copy of a slice from a DataFrame.\n",
      "Try using .loc[row_indexer,col_indexer] = value instead\n",
      "\n",
      "See the caveats in the documentation: https://pandas.pydata.org/pandas-docs/stable/user_guide/indexing.html#returning-a-view-versus-a-copy\n",
      "  x['ampm']=0\n",
      "/Users/yusuke-n/Library/Python/3.8/lib/python/site-packages/pandas/core/indexing.py:1720: SettingWithCopyWarning: \n",
      "A value is trying to be set on a copy of a slice from a DataFrame.\n",
      "Try using .loc[row_indexer,col_indexer] = value instead\n",
      "\n",
      "See the caveats in the documentation: https://pandas.pydata.org/pandas-docs/stable/user_guide/indexing.html#returning-a-view-versus-a-copy\n",
      "  self._setitem_single_column(loc, value, pi)\n",
      "<ipython-input-71-76920b9ceb8f>:5: SettingWithCopyWarning: \n",
      "A value is trying to be set on a copy of a slice from a DataFrame.\n",
      "Try using .loc[row_indexer,col_indexer] = value instead\n",
      "\n",
      "See the caveats in the documentation: https://pandas.pydata.org/pandas-docs/stable/user_guide/indexing.html#returning-a-view-versus-a-copy\n",
      "  x['ampm']=0\n",
      "/Users/yusuke-n/Library/Python/3.8/lib/python/site-packages/pandas/core/indexing.py:1720: SettingWithCopyWarning: \n",
      "A value is trying to be set on a copy of a slice from a DataFrame.\n",
      "Try using .loc[row_indexer,col_indexer] = value instead\n",
      "\n",
      "See the caveats in the documentation: https://pandas.pydata.org/pandas-docs/stable/user_guide/indexing.html#returning-a-view-versus-a-copy\n",
      "  self._setitem_single_column(loc, value, pi)\n",
      "<ipython-input-71-76920b9ceb8f>:5: SettingWithCopyWarning: \n",
      "A value is trying to be set on a copy of a slice from a DataFrame.\n",
      "Try using .loc[row_indexer,col_indexer] = value instead\n",
      "\n",
      "See the caveats in the documentation: https://pandas.pydata.org/pandas-docs/stable/user_guide/indexing.html#returning-a-view-versus-a-copy\n",
      "  x['ampm']=0\n",
      "/Users/yusuke-n/Library/Python/3.8/lib/python/site-packages/pandas/core/indexing.py:1720: SettingWithCopyWarning: \n",
      "A value is trying to be set on a copy of a slice from a DataFrame.\n",
      "Try using .loc[row_indexer,col_indexer] = value instead\n",
      "\n",
      "See the caveats in the documentation: https://pandas.pydata.org/pandas-docs/stable/user_guide/indexing.html#returning-a-view-versus-a-copy\n",
      "  self._setitem_single_column(loc, value, pi)\n"
     ]
    }
   ],
   "source": [
    "floors=date_hour(floors)\n",
    "calories=date_hour(calories)\n",
    "heart=date_hour(heart)\n",
    "minutesFairlyActive=date_hour(minutesFairlyActive)\n",
    "minutesLightlyActive=date_hour(minutesLightlyActive)\n",
    "minutesSedentary=date_hour(minutesSedentary)\n",
    "minutesVeryActive=date_hour(minutesVeryActive)\n",
    "sleep=date_hour(sleep)\n"
   ]
  },
  {
   "cell_type": "code",
   "execution_count": 73,
   "metadata": {},
   "outputs": [
    {
     "name": "stderr",
     "output_type": "stream",
     "text": [
      "<ipython-input-71-76920b9ceb8f>:5: SettingWithCopyWarning: \n",
      "A value is trying to be set on a copy of a slice from a DataFrame.\n",
      "Try using .loc[row_indexer,col_indexer] = value instead\n",
      "\n",
      "See the caveats in the documentation: https://pandas.pydata.org/pandas-docs/stable/user_guide/indexing.html#returning-a-view-versus-a-copy\n",
      "  x['ampm']=0\n",
      "/Users/yusuke-n/Library/Python/3.8/lib/python/site-packages/pandas/core/indexing.py:1720: SettingWithCopyWarning: \n",
      "A value is trying to be set on a copy of a slice from a DataFrame.\n",
      "Try using .loc[row_indexer,col_indexer] = value instead\n",
      "\n",
      "See the caveats in the documentation: https://pandas.pydata.org/pandas-docs/stable/user_guide/indexing.html#returning-a-view-versus-a-copy\n",
      "  self._setitem_single_column(loc, value, pi)\n"
     ]
    }
   ],
   "source": [
    "steps=date_hour(steps)"
   ]
  },
  {
   "cell_type": "code",
   "execution_count": 74,
   "metadata": {},
   "outputs": [],
   "source": [
    "floors_day_mean = floors.groupby(['user_id','date']).mean().reset_index()"
   ]
  },
  {
   "cell_type": "code",
   "execution_count": 75,
   "metadata": {},
   "outputs": [],
   "source": [
    "def aggregate_feature(x):\n",
    "    mean = x.groupby(['user_id','date']).mean().reset_index()\n",
    "    median = x.groupby(['user_id','date']).median().reset_index()\n",
    "    var = x.groupby(['user_id','date']).var().reset_index()\n",
    "    merged_data = pd.merge(mean,median,on=['user_id','date'])\n",
    "    merged_data = pd.merge(merged_data,var,on=['user_id','date'])\n",
    "    merged_data['date_plus1'] = merged_data['date']+dt.timedelta(days=1)\n",
    "    return merged_data\n",
    "# def days_plus1(x):\n",
    "#     for i in range(3):\n",
    "#         x[i]['date_plus1'] = x[i]['date']+dt.timedelta(days=1)\n",
    "#     return x"
   ]
  },
  {
   "cell_type": "code",
   "execution_count": 76,
   "metadata": {},
   "outputs": [],
   "source": [
    "floors_day = aggregate_feature(floors)\n",
    "calories_day = aggregate_feature(calories)\n",
    "minutesFairlyActive_day = aggregate_feature(minutesFairlyActive)\n",
    "minutesLightlyActive= aggregate_feature(minutesLightlyActive)\n",
    "minutesSedentary= aggregate_feature(minutesSedentary)\n",
    "minutesVeryActive= aggregate_feature(minutesVeryActive)\n",
    "sleep= aggregate_feature(sleep)\n",
    "steps= aggregate_feature(steps)"
   ]
  },
  {
   "cell_type": "code",
   "execution_count": 97,
   "metadata": {},
   "outputs": [],
   "source": [
    "heart_day=aggregate_feature(heart)"
   ]
  },
  {
   "cell_type": "code",
   "execution_count": 94,
   "metadata": {},
   "outputs": [],
   "source": [
    "floors_day = floors_day[['user_id', 'date', 'floor_x', \n",
    "        'floor_y', 'floor','date_plus1']] #floor_xがmean, floor_yがmedian, floorが\n",
    "floors_day=floors_day.rename(columns={'floor_x':'floor_mean','floor_y':'floor_median','floor':'floor_var'})"
   ]
  },
  {
   "cell_type": "code",
   "execution_count": 93,
   "metadata": {},
   "outputs": [],
   "source": [
    "calories_day = calories_day[['user_id', 'date', 'mets_x', 'calory_x',\n",
    "        'mets_y','calory_y','mets', 'calory','date_plus1']]\n",
    "calories_day=calories_day.rename(columns={'mets_x':'mets_mean','mets_y':'mets_median','mets':'mets_var',\n",
    "                            'calory_x':'calory_mean','calory_y':'calory_median','calory':'calory_var'})"
   ]
  },
  {
   "cell_type": "code",
   "execution_count": 99,
   "metadata": {},
   "outputs": [],
   "source": [
    "heart_day = heart_day[['user_id', 'date', 'heart_x', \n",
    "        'heart_y', 'heart','date_plus1']]\n",
    "heart_day=heart_day.rename(columns={'heart_x':'heart_mean','heart_y':'heart_median','heart':'heart_var'})"
   ]
  },
  {
   "cell_type": "code",
   "execution_count": 107,
   "metadata": {},
   "outputs": [],
   "source": [
    "minutesFairlyActive_day = aggregate_feature(minutesFairlyActive)\n",
    "minutesFairlyActive_day = minutesFairlyActive_day[['user_id', 'date', 'minutesFairlyActive_x', \n",
    "        'minutesFairlyActive_y', 'minutesFairlyActive','date_plus1']]\n",
    "minutesFairlyActive_day=minutesFairlyActive_day.rename(columns={'minutesFairlyActive_x':'minutesFairlyActive_mean','minutesFairlyActivet_y':'minutesFairlyActive_median','minutesFairlyActive':'minutesFairlyActive_var'})\n",
    "minutesFairlyActive_day=minutesFairlyActive_day.rename(columns={'minutesFairlyActive_y':'minutesFairlyActive_median'})"
   ]
  },
  {
   "cell_type": "code",
   "execution_count": 119,
   "metadata": {},
   "outputs": [
    {
     "name": "stderr",
     "output_type": "stream",
     "text": [
      "<ipython-input-71-76920b9ceb8f>:5: SettingWithCopyWarning: \n",
      "A value is trying to be set on a copy of a slice from a DataFrame.\n",
      "Try using .loc[row_indexer,col_indexer] = value instead\n",
      "\n",
      "See the caveats in the documentation: https://pandas.pydata.org/pandas-docs/stable/user_guide/indexing.html#returning-a-view-versus-a-copy\n",
      "  x['ampm']=0\n",
      "/Users/yusuke-n/Library/Python/3.8/lib/python/site-packages/pandas/core/indexing.py:1720: SettingWithCopyWarning: \n",
      "A value is trying to be set on a copy of a slice from a DataFrame.\n",
      "Try using .loc[row_indexer,col_indexer] = value instead\n",
      "\n",
      "See the caveats in the documentation: https://pandas.pydata.org/pandas-docs/stable/user_guide/indexing.html#returning-a-view-versus-a-copy\n",
      "  self._setitem_single_column(loc, value, pi)\n"
     ]
    }
   ],
   "source": [
    "minutesLightlyActive=pd.read_csv('./fitbit_preprocessed_data/minutesLightlyActive.csv')\n",
    "minutesLightlyActive=date_hour(minutesLightlyActive)\n",
    "minutesLightlyActive_day= aggregate_feature(minutesLightlyActive)\n",
    "minutesLightlyActive_day = minutesLightlyActive_day[['user_id', 'date', 'minutesLightlyActive_x', \n",
    "        'minutesLightlyActive_y', 'minutesLightlyActive','date_plus1']]\n",
    "minutesLightlyActive_day=minutesLightlyActive_day.rename(columns={'minutesLightlyActive_x':'minutesLightlyActive_mean','minutesLightlyActive_y':'minutesLightlyActive_median','minutesLightlyActive':'minutesLightlyActive_var'})"
   ]
  },
  {
   "cell_type": "code",
   "execution_count": 125,
   "metadata": {},
   "outputs": [
    {
     "name": "stderr",
     "output_type": "stream",
     "text": [
      "<ipython-input-71-76920b9ceb8f>:5: SettingWithCopyWarning: \n",
      "A value is trying to be set on a copy of a slice from a DataFrame.\n",
      "Try using .loc[row_indexer,col_indexer] = value instead\n",
      "\n",
      "See the caveats in the documentation: https://pandas.pydata.org/pandas-docs/stable/user_guide/indexing.html#returning-a-view-versus-a-copy\n",
      "  x['ampm']=0\n",
      "/Users/yusuke-n/Library/Python/3.8/lib/python/site-packages/pandas/core/indexing.py:1720: SettingWithCopyWarning: \n",
      "A value is trying to be set on a copy of a slice from a DataFrame.\n",
      "Try using .loc[row_indexer,col_indexer] = value instead\n",
      "\n",
      "See the caveats in the documentation: https://pandas.pydata.org/pandas-docs/stable/user_guide/indexing.html#returning-a-view-versus-a-copy\n",
      "  self._setitem_single_column(loc, value, pi)\n"
     ]
    }
   ],
   "source": [
    "minutesSedentary=pd.read_csv('./fitbit_preprocessed_data/minutesSedentary.csv')\n",
    "minutesSedentary=date_hour(minutesSedentary)\n",
    "minutesSedentary_day= aggregate_feature(minutesSedentary)\n",
    "minutesSedentary_day = minutesSedentary_day[['user_id', 'date', 'minutesSedentary_x', \n",
    "        'minutesSedentary_y', 'minutesSedentary','date_plus1']]\n",
    "minutesSedentary_day=minutesSedentary_day.rename(columns={'minutesSedentary_x':'minutesSedentary_mean','minutesSedentary_y':'minutesSedentary_median','minutesSedentary':'minutesSedentary_var'})"
   ]
  },
  {
   "cell_type": "code",
   "execution_count": 127,
   "metadata": {},
   "outputs": [
    {
     "name": "stderr",
     "output_type": "stream",
     "text": [
      "<ipython-input-71-76920b9ceb8f>:5: SettingWithCopyWarning: \n",
      "A value is trying to be set on a copy of a slice from a DataFrame.\n",
      "Try using .loc[row_indexer,col_indexer] = value instead\n",
      "\n",
      "See the caveats in the documentation: https://pandas.pydata.org/pandas-docs/stable/user_guide/indexing.html#returning-a-view-versus-a-copy\n",
      "  x['ampm']=0\n",
      "/Users/yusuke-n/Library/Python/3.8/lib/python/site-packages/pandas/core/indexing.py:1720: SettingWithCopyWarning: \n",
      "A value is trying to be set on a copy of a slice from a DataFrame.\n",
      "Try using .loc[row_indexer,col_indexer] = value instead\n",
      "\n",
      "See the caveats in the documentation: https://pandas.pydata.org/pandas-docs/stable/user_guide/indexing.html#returning-a-view-versus-a-copy\n",
      "  self._setitem_single_column(loc, value, pi)\n"
     ]
    }
   ],
   "source": [
    "minutesVeryActive=pd.read_csv('./fitbit_preprocessed_data/minutesVeryActive.csv')\n",
    "minutesVeryActive=date_hour(minutesVeryActive)\n",
    "minutesVeryActive_day= aggregate_feature(minutesVeryActive)\n",
    "minutesVeryActive_day = minutesVeryActive_day[['user_id', 'date', 'minutesVeryActive_x', \n",
    "        'minutesVeryActive_y', 'minutesVeryActive','date_plus1']]\n",
    "minutesVeryActive_day=minutesVeryActive_day.rename(columns={'minutesVeryActive_x':'minutesVeryActive_mean','minutesVeryActive_y':'minutesVeryActive_median','minutesVeryActive':'minutesVeryActive_var'})"
   ]
  },
  {
   "cell_type": "code",
   "execution_count": 133,
   "metadata": {},
   "outputs": [
    {
     "name": "stderr",
     "output_type": "stream",
     "text": [
      "<ipython-input-132-bb78618472dd>:12: SettingWithCopyWarning: \n",
      "A value is trying to be set on a copy of a slice from a DataFrame.\n",
      "Try using .loc[row_indexer,col_indexer] = value instead\n",
      "\n",
      "See the caveats in the documentation: https://pandas.pydata.org/pandas-docs/stable/user_guide/indexing.html#returning-a-view-versus-a-copy\n",
      "  x['ampm']=0\n",
      "/Users/yusuke-n/Library/Python/3.8/lib/python/site-packages/pandas/core/indexing.py:1720: SettingWithCopyWarning: \n",
      "A value is trying to be set on a copy of a slice from a DataFrame.\n",
      "Try using .loc[row_indexer,col_indexer] = value instead\n",
      "\n",
      "See the caveats in the documentation: https://pandas.pydata.org/pandas-docs/stable/user_guide/indexing.html#returning-a-view-versus-a-copy\n",
      "  self._setitem_single_column(loc, value, pi)\n"
     ]
    }
   ],
   "source": [
    "# sleep=date_hour(sleep)\n",
    "sleep=pd.read_csv('./fitbit_preprocessed_data/sleep.csv')\n",
    "sleep=date_hour_sleep(sleep)\n",
    "sleep_day= aggregate_feature(sleep)\n",
    "sleep_day = sleep_day[['user_id', 'date', 'sleep_x', \n",
    "        'sleep_y', 'sleep','date_plus1']]\n",
    "sleep_day=sleep_day.rename(columns={'sleep_x':'sleep_mean','sleep_y':'sleep_median','sleep':'sleep_var'})"
   ]
  },
  {
   "cell_type": "code",
   "execution_count": 137,
   "metadata": {},
   "outputs": [
    {
     "name": "stderr",
     "output_type": "stream",
     "text": [
      "<ipython-input-132-bb78618472dd>:5: SettingWithCopyWarning: \n",
      "A value is trying to be set on a copy of a slice from a DataFrame.\n",
      "Try using .loc[row_indexer,col_indexer] = value instead\n",
      "\n",
      "See the caveats in the documentation: https://pandas.pydata.org/pandas-docs/stable/user_guide/indexing.html#returning-a-view-versus-a-copy\n",
      "  x['ampm']=0\n",
      "/Users/yusuke-n/Library/Python/3.8/lib/python/site-packages/pandas/core/indexing.py:1720: SettingWithCopyWarning: \n",
      "A value is trying to be set on a copy of a slice from a DataFrame.\n",
      "Try using .loc[row_indexer,col_indexer] = value instead\n",
      "\n",
      "See the caveats in the documentation: https://pandas.pydata.org/pandas-docs/stable/user_guide/indexing.html#returning-a-view-versus-a-copy\n",
      "  self._setitem_single_column(loc, value, pi)\n"
     ]
    }
   ],
   "source": [
    "steps=pd.read_csv('./fitbit_preprocessed_data/steps.csv')\n",
    "steps=date_hour(steps)\n",
    "steps_day= aggregate_feature(steps)\n",
    "steps_day = steps_day[['user_id', 'date', 'step_x', \n",
    "        'step_y', 'step','date_plus1']]\n",
    "steps_day=steps_day.rename(columns={'step_x':'step_mean','step_y':'step_median','step':'step_var'})"
   ]
  },
  {
   "cell_type": "code",
   "execution_count": 144,
   "metadata": {},
   "outputs": [],
   "source": [
    "floors_day.to_csv('./fitbit_preprocessed_data/agg_for_day/floors_day.csv')\n",
    "steps_day.to_csv('./fitbit_preprocessed_data/agg_for_day/steps_day.csv')\n",
    "calories_day.to_csv('./fitbit_preprocessed_data/agg_for_day/calories_day.csv')\n",
    "heart_day.to_csv('./fitbit_preprocessed_data/agg_for_day/heart_day.csv')\n",
    "minutesFairlyActive_day.to_csv('./fitbit_preprocessed_data/agg_for_day/minutesFairlyActive_day.csv')\n",
    "minutesLightlyActive_day.to_csv('./fitbit_preprocessed_data/agg_for_day/minutesLightlyActive_day.csv')\n",
    "minutesSedentary_day.to_csv('./fitbit_preprocessed_data/agg_for_day/minutesSedentary_day.csv')\n",
    "minutesVeryActive_day.to_csv('./fitbit_preprocessed_data/agg_for_day/minutesVeryActive_day.csv')\n",
    "sleep_day.to_csv('./fitbit_preprocessed_data/agg_for_day/sleep_day.csv')"
   ]
  },
  {
   "cell_type": "code",
   "execution_count": 145,
   "metadata": {},
   "outputs": [],
   "source": [
    "merged_fitbit = pd.merge(floors_day,steps_day,on=['user_id','date'])\n",
    "merged_fitbit = pd.merge(merged_fitbit,calories_day,on=['user_id','date'])\n",
    "merged_fitbit = pd.merge(merged_fitbit,heart_day,on=['user_id','date'])\n",
    "merged_fitbit = pd.merge(merged_fitbit,minutesFairlyActive_day,on=['user_id','date'])\n",
    "merged_fitbit = pd.merge(merged_fitbit,minutesLightlyActive_day,on=['user_id','date'])\n",
    "merged_fitbit = pd.merge(merged_fitbit,minutesSedentary_day,on=['user_id','date'])\n",
    "merged_fitbit = pd.merge(merged_fitbit,minutesVeryActive_day,on=['user_id','date'])\n",
    "merged_fitbit = pd.merge(merged_fitbit,sleep_day,on=['user_id','date'])"
   ]
  },
  {
   "cell_type": "code",
   "execution_count": 148,
   "metadata": {},
   "outputs": [],
   "source": [
    "merged_fitbit = merged_fitbit[['user_id', 'date', 'floor_mean', 'floor_median', 'floor_var',\n",
    "        'step_mean', 'step_median', 'step_var', \n",
    "       'mets_mean', 'calory_mean', 'mets_median', 'calory_median', 'mets_var',\n",
    "       'calory_var', 'heart_mean', 'heart_median', 'heart_var',\n",
    "       'minutesFairlyActive_mean',\n",
    "       'minutesFairlyActive_median', 'minutesFairlyActive_var', \n",
    "       'minutesLightlyActive_mean', 'minutesLightlyActive_median',\n",
    "       'minutesLightlyActive_var', 'minutesSedentary_mean',\n",
    "       'minutesSedentary_median', 'minutesSedentary_var',\n",
    "       'minutesVeryActive_mean', 'minutesVeryActive_median',\n",
    "       'minutesVeryActive_var',  'sleep_mean', 'sleep_median',\n",
    "       'sleep_var', 'date_plus1']]"
   ]
  },
  {
   "cell_type": "code",
   "execution_count": 149,
   "metadata": {},
   "outputs": [],
   "source": [
    "merged_fitbit.to_csv('./fitbit_preprocessed_data/agg_for_day/merged_fitbit.csv')"
   ]
  },
  {
   "cell_type": "code",
   "execution_count": null,
   "metadata": {},
   "outputs": [],
   "source": []
  }
 ],
 "metadata": {
  "kernelspec": {
   "display_name": "Python 3",
   "language": "python",
   "name": "python3"
  },
  "language_info": {
   "codemirror_mode": {
    "name": "ipython",
    "version": 3
   },
   "file_extension": ".py",
   "mimetype": "text/x-python",
   "name": "python",
   "nbconvert_exporter": "python",
   "pygments_lexer": "ipython3",
   "version": "3.8.7"
  }
 },
 "nbformat": 4,
 "nbformat_minor": 4
}
