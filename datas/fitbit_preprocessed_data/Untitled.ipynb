{
 "cells": [
  {
   "cell_type": "code",
   "execution_count": 1,
   "id": "educated-natural",
   "metadata": {},
   "outputs": [],
   "source": [
    "import pandas as pd\n",
    "import datetime as dt\n",
    "import seaborn as sns\n",
    "import numpy as np"
   ]
  },
  {
   "cell_type": "code",
   "execution_count": 2,
   "id": "allied-period",
   "metadata": {},
   "outputs": [],
   "source": [
    "sleep = pd.read_csv('./sleep.csv')"
   ]
  },
  {
   "cell_type": "code",
   "execution_count": 14,
   "id": "clear-baltimore",
   "metadata": {},
   "outputs": [],
   "source": [
    "sleep['datetime'] = pd.to_datetime(sleep['datetime'])\n",
    "sleep['date'] = sleep['datetime'].dt.date\n",
    "sleep_agg = sleep.groupby(['date','user_id','sleep'],as_index=False).count()\n",
    "sleep_agg[['sleep_1','sleep_2','sleep_3']] = 0\n",
    "sleep_agg.loc[sleep_agg['sleep']==1, 'sleep_1'] = sleep_agg['datetime']\n",
    "sleep_agg.loc[sleep_agg['sleep']==2, 'sleep_2'] = sleep_agg['datetime']\n",
    "sleep_agg.loc[sleep_agg['sleep']==3, 'sleep_3'] = sleep_agg['datetime']\n",
    "sleep_agg=sleep_agg.groupby(['date','user_id'],as_index=False).sum()"
   ]
  },
  {
   "cell_type": "code",
   "execution_count": 17,
   "id": "aware-discipline",
   "metadata": {},
   "outputs": [],
   "source": [
    "sleep_agg.to_csv('./sleep.csv')"
   ]
  },
  {
   "cell_type": "code",
   "execution_count": null,
   "id": "still-parker",
   "metadata": {},
   "outputs": [],
   "source": []
  }
 ],
 "metadata": {
  "kernelspec": {
   "display_name": "Python 3",
   "language": "python",
   "name": "python3"
  },
  "language_info": {
   "codemirror_mode": {
    "name": "ipython",
    "version": 3
   },
   "file_extension": ".py",
   "mimetype": "text/x-python",
   "name": "python",
   "nbconvert_exporter": "python",
   "pygments_lexer": "ipython3",
   "version": "3.8.7"
  }
 },
 "nbformat": 4,
 "nbformat_minor": 5
}
