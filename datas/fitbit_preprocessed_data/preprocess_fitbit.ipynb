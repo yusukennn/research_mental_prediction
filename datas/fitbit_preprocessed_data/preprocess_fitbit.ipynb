{
 "cells": [
  {
   "cell_type": "code",
   "execution_count": 40,
   "id": "tropical-mediterranean",
   "metadata": {},
   "outputs": [],
   "source": [
    "import pandas as pd\n",
    "import datetime as dt\n",
    "import seaborn as sns\n",
    "import numpy as np"
   ]
  },
  {
   "cell_type": "code",
   "execution_count": 44,
   "id": "after-georgia",
   "metadata": {},
   "outputs": [],
   "source": [
    "sleep = pd.read_csv('../fitbit_all_data/sleep.csv')\n",
    "sleep=sleep.rename(columns={'Unnamed: 0.1':'datetime','value':'sleep'})"
   ]
  },
  {
   "cell_type": "code",
   "execution_count": 45,
   "id": "devoted-rachel",
   "metadata": {},
   "outputs": [
    {
     "data": {
      "text/html": [
       "<div>\n",
       "<style scoped>\n",
       "    .dataframe tbody tr th:only-of-type {\n",
       "        vertical-align: middle;\n",
       "    }\n",
       "\n",
       "    .dataframe tbody tr th {\n",
       "        vertical-align: top;\n",
       "    }\n",
       "\n",
       "    .dataframe thead th {\n",
       "        text-align: right;\n",
       "    }\n",
       "</style>\n",
       "<table border=\"1\" class=\"dataframe\">\n",
       "  <thead>\n",
       "    <tr style=\"text-align: right;\">\n",
       "      <th></th>\n",
       "      <th>Unnamed: 0</th>\n",
       "      <th>datetime</th>\n",
       "      <th>dateTime</th>\n",
       "      <th>user_id</th>\n",
       "      <th>sleep</th>\n",
       "    </tr>\n",
       "  </thead>\n",
       "  <tbody>\n",
       "    <tr>\n",
       "      <th>0</th>\n",
       "      <td>0</td>\n",
       "      <td>2021-01-11 00:14:00</td>\n",
       "      <td>00:14:00</td>\n",
       "      <td>100</td>\n",
       "      <td>3</td>\n",
       "    </tr>\n",
       "    <tr>\n",
       "      <th>1</th>\n",
       "      <td>1</td>\n",
       "      <td>2021-01-11 00:15:00</td>\n",
       "      <td>00:15:00</td>\n",
       "      <td>100</td>\n",
       "      <td>2</td>\n",
       "    </tr>\n",
       "    <tr>\n",
       "      <th>2</th>\n",
       "      <td>2</td>\n",
       "      <td>2021-01-11 00:16:00</td>\n",
       "      <td>00:16:00</td>\n",
       "      <td>100</td>\n",
       "      <td>2</td>\n",
       "    </tr>\n",
       "    <tr>\n",
       "      <th>3</th>\n",
       "      <td>3</td>\n",
       "      <td>2021-01-11 00:17:00</td>\n",
       "      <td>00:17:00</td>\n",
       "      <td>100</td>\n",
       "      <td>1</td>\n",
       "    </tr>\n",
       "    <tr>\n",
       "      <th>4</th>\n",
       "      <td>4</td>\n",
       "      <td>2021-01-11 00:18:00</td>\n",
       "      <td>00:18:00</td>\n",
       "      <td>100</td>\n",
       "      <td>2</td>\n",
       "    </tr>\n",
       "    <tr>\n",
       "      <th>...</th>\n",
       "      <td>...</td>\n",
       "      <td>...</td>\n",
       "      <td>...</td>\n",
       "      <td>...</td>\n",
       "      <td>...</td>\n",
       "    </tr>\n",
       "    <tr>\n",
       "      <th>521728</th>\n",
       "      <td>449</td>\n",
       "      <td>2021-01-08 07:36:00</td>\n",
       "      <td>07:36:00</td>\n",
       "      <td>100</td>\n",
       "      <td>1</td>\n",
       "    </tr>\n",
       "    <tr>\n",
       "      <th>521729</th>\n",
       "      <td>450</td>\n",
       "      <td>2021-01-08 07:37:00</td>\n",
       "      <td>07:37:00</td>\n",
       "      <td>100</td>\n",
       "      <td>1</td>\n",
       "    </tr>\n",
       "    <tr>\n",
       "      <th>521730</th>\n",
       "      <td>451</td>\n",
       "      <td>2021-01-08 07:38:00</td>\n",
       "      <td>07:38:00</td>\n",
       "      <td>100</td>\n",
       "      <td>1</td>\n",
       "    </tr>\n",
       "    <tr>\n",
       "      <th>521731</th>\n",
       "      <td>452</td>\n",
       "      <td>2021-01-08 07:39:00</td>\n",
       "      <td>07:39:00</td>\n",
       "      <td>100</td>\n",
       "      <td>1</td>\n",
       "    </tr>\n",
       "    <tr>\n",
       "      <th>521732</th>\n",
       "      <td>453</td>\n",
       "      <td>2021-01-08 07:40:00</td>\n",
       "      <td>07:40:00</td>\n",
       "      <td>100</td>\n",
       "      <td>1</td>\n",
       "    </tr>\n",
       "  </tbody>\n",
       "</table>\n",
       "<p>521733 rows × 5 columns</p>\n",
       "</div>"
      ],
      "text/plain": [
       "        Unnamed: 0             datetime  dateTime  user_id  sleep\n",
       "0                0  2021-01-11 00:14:00  00:14:00      100      3\n",
       "1                1  2021-01-11 00:15:00  00:15:00      100      2\n",
       "2                2  2021-01-11 00:16:00  00:16:00      100      2\n",
       "3                3  2021-01-11 00:17:00  00:17:00      100      1\n",
       "4                4  2021-01-11 00:18:00  00:18:00      100      2\n",
       "...            ...                  ...       ...      ...    ...\n",
       "521728         449  2021-01-08 07:36:00  07:36:00      100      1\n",
       "521729         450  2021-01-08 07:37:00  07:37:00      100      1\n",
       "521730         451  2021-01-08 07:38:00  07:38:00      100      1\n",
       "521731         452  2021-01-08 07:39:00  07:39:00      100      1\n",
       "521732         453  2021-01-08 07:40:00  07:40:00      100      1\n",
       "\n",
       "[521733 rows x 5 columns]"
      ]
     },
     "execution_count": 45,
     "metadata": {},
     "output_type": "execute_result"
    }
   ],
   "source": [
    "sleep"
   ]
  },
  {
   "cell_type": "code",
   "execution_count": 49,
   "id": "crazy-arlington",
   "metadata": {},
   "outputs": [],
   "source": [
    "sleep['datetime'] = pd.to_datetime(sleep['datetime'])\n",
    "sleep['date'] = sleep['datetime'].dt.date\n",
    "sleep_agg = sleep.groupby(['date','user_id','sleep'],as_index=False).count()\n",
    "sleep_agg[['sleep_1','sleep_2','sleep_3']] = 0\n",
    "sleep_agg.loc[sleep_agg['sleep']==1, 'sleep_1'] = sleep_agg['datetime']\n",
    "sleep_agg.loc[sleep_agg['sleep']==2, 'sleep_2'] = sleep_agg['datetime']\n",
    "sleep_agg.loc[sleep_agg['sleep']==3, 'sleep_3'] = sleep_agg['datetime']\n",
    "sleep_agg=sleep_agg.groupby(['date','user_id'],as_index=False).sum()\n",
    "# sleep_agg.to_csv('./sleep.csv')"
   ]
  },
  {
   "cell_type": "code",
   "execution_count": 56,
   "id": "opened-victory",
   "metadata": {},
   "outputs": [
    {
     "data": {
      "text/plain": [
       "<AxesSubplot:>"
      ]
     },
     "execution_count": 56,
     "metadata": {},
     "output_type": "execute_result"
    },
    {
     "data": {
      "image/png": "[encoded data removed]",
      "text/plain": [
       "<Figure size 432x288 with 1 Axes>"
      ]
     },
     "metadata": {
      "needs_background": "light"
     },
     "output_type": "display_data"
    }
   ],
   "source": [
    "sleep_agg['sleep_2'].hist(bins=100)"
   ]
  },
  {
   "cell_type": "code",
   "execution_count": null,
   "id": "exclusive-authentication",
   "metadata": {},
   "outputs": [],
   "source": []
  }
 ],
 "metadata": {
  "kernelspec": {
   "display_name": "Python 3",
   "language": "python",
   "name": "python3"
  },
  "language_info": {
   "codemirror_mode": {
    "name": "ipython",
    "version": 3
   },
   "file_extension": ".py",
   "mimetype": "text/x-python",
   "name": "python",
   "nbconvert_exporter": "python",
   "pygments_lexer": "ipython3",
   "version": "3.8.7"
  }
 },
 "nbformat": 4,
 "nbformat_minor": 5
}
