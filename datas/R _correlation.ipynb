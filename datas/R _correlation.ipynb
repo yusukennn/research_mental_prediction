{
 "cells": [
  {
   "cell_type": "code",
   "execution_count": 1,
   "metadata": {},
   "outputs": [
    {
     "name": "stderr",
     "output_type": "stream",
     "text": [
      "also installing the dependency ‘mvtnorm’\n",
      "\n",
      "\n"
     ]
    },
    {
     "name": "stdout",
     "output_type": "stream",
     "text": [
      "\n",
      "The downloaded binary packages are in\n",
      "\t/var/folders/9l/tr5rjs393md_h263tl3ggcnm0000gn/T//RtmpRkhjPy/downloaded_packages\n"
     ]
    }
   ],
   "source": [
    "install.packages(\"polycor\")\n",
    "library(polycor)"
   ]
  },
  {
   "cell_type": "code",
   "execution_count": 7,
   "metadata": {},
   "outputs": [
    {
     "name": "stderr",
     "output_type": "stream",
     "text": [
      "Warning message in file(file, \"rt\"):\n",
      "“ ファイル '/ques_act_merge/ques_act_day.csv' を開くことができません: No such file or directory ”\n"
     ]
    },
    {
     "ename": "ERROR",
     "evalue": "Error in file(file, \"rt\"):  コネクションを開くことができません \n",
     "output_type": "error",
     "traceback": [
      "Error in file(file, \"rt\"):  コネクションを開くことができません \nTraceback:\n",
      "1. read.table(\"/ques_act_merge/ques_act_day.csv\", header = TRUE)",
      "2. file(file, \"rt\")"
     ]
    }
   ],
   "source": [
    "ques_act_day = read.table(\"/ques_act_merge/ques_act_day.csv\",header=TRUE)\n",
    "x <- ques_act_day['positive_score']\n",
    "y <- ques_act_day['working_alone']\n",
    "polychor(x, y, ML=TRUE) "
   ]
  },
  {
   "cell_type": "code",
   "execution_count": null,
   "metadata": {},
   "outputs": [],
   "source": []
  }
 ],
 "metadata": {
  "kernelspec": {
   "display_name": "R",
   "language": "R",
   "name": "ir"
  },
  "language_info": {
   "codemirror_mode": "r",
   "file_extension": ".r",
   "mimetype": "text/x-r-source",
   "name": "R",
   "pygments_lexer": "r",
   "version": "3.6.2"
  }
 },
 "nbformat": 4,
 "nbformat_minor": 4
}
