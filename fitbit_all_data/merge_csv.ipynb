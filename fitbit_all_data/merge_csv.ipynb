{
 "cells": [
  {
   "cell_type": "code",
   "execution_count": 7,
   "metadata": {},
   "outputs": [],
   "source": [
    "import pandas as pd\n",
    "import glob"
   ]
  },
  {
   "cell_type": "code",
   "execution_count": 23,
   "metadata": {},
   "outputs": [],
   "source": [
    "csv_calories = glob.glob('calories/*.csv')\n",
    "data_list = []\n",
    "for file in csv_calories:\n",
    "    csv = pd.read_csv(file)\n",
    "    csv['user_id'] = file[9:12]\n",
    "    data_list.append(csv)\n",
    "df = pd.concat(data_list, axis=0, sort=True)\n",
    "df.to_csv(\"./calories.csv\")"
   ]
  },
  {
   "cell_type": "code",
   "execution_count": 36,
   "metadata": {},
   "outputs": [],
   "source": [
    "csv_calories = glob.glob('floors/*.csv')\n",
    "data_list = []\n",
    "for file in csv_calories:\n",
    "    csv = pd.read_csv(file)\n",
    "    csv['user_id'] = file[7:10]\n",
    "    data_list.append(csv)\n",
    "df = pd.concat(data_list, axis=0, sort=True)\n",
    "df.to_csv(\"./floors.csv\")"
   ]
  },
  {
   "cell_type": "code",
   "execution_count": 37,
   "metadata": {},
   "outputs": [],
   "source": [
    "csv_calories = glob.glob('heart/*.csv')\n",
    "data_list = []\n",
    "for file in csv_calories:\n",
    "    csv = pd.read_csv(file)\n",
    "    csv['user_id'] = file[6:9]\n",
    "    data_list.append(csv)\n",
    "df = pd.concat(data_list, axis=0, sort=True)\n",
    "df.to_csv(\"./heart.csv\")"
   ]
  },
  {
   "cell_type": "code",
   "execution_count": 38,
   "metadata": {},
   "outputs": [],
   "source": [
    "csv_calories = glob.glob('sleep/*.csv')\n",
    "data_list = []\n",
    "for file in csv_calories:\n",
    "    csv = pd.read_csv(file)\n",
    "    csv['user_id'] = file[6:9]\n",
    "    data_list.append(csv)\n",
    "df = pd.concat(data_list, axis=0, sort=True)\n",
    "df.to_csv(\"./sleep.csv\")"
   ]
  },
  {
   "cell_type": "code",
   "execution_count": 39,
   "metadata": {},
   "outputs": [],
   "source": [
    "csv_calories = glob.glob('steps/*.csv')\n",
    "data_list = []\n",
    "for file in csv_calories:\n",
    "    csv = pd.read_csv(file)\n",
    "    csv['user_id'] = file[6:9]\n",
    "    data_list.append(csv)\n",
    "df = pd.concat(data_list, axis=0, sort=True)\n",
    "df.to_csv(\"./steps.csv\")"
   ]
  },
  {
   "cell_type": "code",
   "execution_count": 42,
   "metadata": {},
   "outputs": [],
   "source": [
    "csv_calories = glob.glob('minutesFairlyActive/*.csv')\n",
    "data_list = []\n",
    "for file in csv_calories:\n",
    "    csv = pd.read_csv(file)\n",
    "    csv['user_id'] = file[20:23]\n",
    "    data_list.append(csv)\n",
    "df = pd.concat(data_list, axis=0, sort=True)\n",
    "df.to_csv(\"./minutesFairlyActive.csv\")"
   ]
  },
  {
   "cell_type": "code",
   "execution_count": 44,
   "metadata": {},
   "outputs": [],
   "source": [
    "csv_calories = glob.glob('minutesLightlyActive/*.csv')\n",
    "data_list = []\n",
    "for file in csv_calories:\n",
    "    csv = pd.read_csv(file)\n",
    "    csv['user_id'] = file[21:24]\n",
    "    data_list.append(csv)\n",
    "df = pd.concat(data_list, axis=0, sort=True)\n",
    "df.to_csv(\"./minutesLightlyActive.csv\")"
   ]
  },
  {
   "cell_type": "code",
   "execution_count": 46,
   "metadata": {},
   "outputs": [],
   "source": [
    "csv_calories = glob.glob('minutesVeryActive/*.csv')\n",
    "data_list = []\n",
    "for file in csv_calories:\n",
    "    csv = pd.read_csv(file)\n",
    "    csv['user_id'] = file[18:21]\n",
    "    data_list.append(csv)\n",
    "df = pd.concat(data_list, axis=0, sort=True)\n",
    "df.to_csv(\"./minutesVeryActive.csv\")"
   ]
  },
  {
   "cell_type": "code",
   "execution_count": null,
   "metadata": {},
   "outputs": [],
   "source": []
  }
 ],
 "metadata": {
  "kernelspec": {
   "display_name": "Python 3",
   "language": "python",
   "name": "python3"
  },
  "language_info": {
   "codemirror_mode": {
    "name": "ipython",
    "version": 3
   },
   "file_extension": ".py",
   "mimetype": "text/x-python",
   "name": "python",
   "nbconvert_exporter": "python",
   "pygments_lexer": "ipython3",
   "version": "3.8.7"
  }
 },
 "nbformat": 4,
 "nbformat_minor": 4
}
